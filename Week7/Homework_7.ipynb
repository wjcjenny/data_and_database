{
 "cells": [
  {
   "cell_type": "markdown",
   "metadata": {},
   "source": [
    "#Homework 7: SQL Joins and Aggregates\n",
    "\n",
    "These problem sets address SQL joins and aggregates.\n",
    "\n",
    "##Setting the scene\n",
    "\n",
    "I've imported the `u.data`, `u.user` and `u.item` tables from the MovieLens data set (discussed in class) into a database on a remote server. For references, here's what the schemas look like:"
   ]
  },
  {
   "cell_type": "markdown",
   "metadata": {},
   "source": [
    "```\n",
    "      Table \"public.udata\"\n",
    "  Column   |  Type   | Modifiers \n",
    "-----------+---------+-----------\n",
    " user_id   | integer | \n",
    " item_id   | integer | \n",
    " rating    | integer | \n",
    " timestamp | integer | \n",
    "```\n",
    "\n",
    "```\n",
    "              Table \"public.uuser\"\n",
    "   Column   |         Type          | Modifiers \n",
    "------------+-----------------------+-----------\n",
    " user_id    | integer               | \n",
    " age        | integer               | \n",
    " gender     | character varying(1)  | \n",
    " occupation | character varying(80) | \n",
    " zip_code   | character varying(10) | \n",
    "```\n",
    "\n",
    "```\n",
    "                  Table \"public.uitem\"\n",
    "       Column       |          Type          | Modifiers \n",
    "--------------------+------------------------+-----------\n",
    " movie_id           | integer                | not null\n",
    " movie_title        | character varying(81)  | not null\n",
    " release_date       | date                   | \n",
    " video_release_date | character varying(32)  | \n",
    " imdb_url           | character varying(134) | \n",
    " unknown            | integer                | not null\n",
    " action             | integer                | not null\n",
    " adventure          | integer                | not null\n",
    " animation          | integer                | not null\n",
    " childrens          | integer                | not null\n",
    " comedy             | integer                | not null\n",
    " crime              | integer                | not null\n",
    " documentary        | integer                | not null\n",
    " drama              | integer                | not null\n",
    " fantasy            | integer                | not null\n",
    " film_noir          | integer                | not null\n",
    " horror             | integer                | not null\n",
    " musical            | integer                | not null\n",
    " mystery            | integer                | not null\n",
    " romance            | integer                | not null\n",
    " scifi              | integer                | not null\n",
    " thriller           | integer                | not null\n",
    " war                | integer                | not null\n",
    " western            | integer                | not null\n",
    "```\n",
    "\n",
    "Run the cell below with the values I gave in class (or over Slack). (Note: the host IP address has changed since the first homework!)"
   ]
  },
  {
   "cell_type": "code",
   "execution_count": null,
   "metadata": {
    "collapsed": true
   },
   "outputs": [],
   "source": [
    "host = \"\"\n",
    "username = \"\"\n",
    "password = \"\""
   ]
  },
  {
   "cell_type": "markdown",
   "metadata": {},
   "source": [
    "Now, run the cell below to create a connection object. This should work whether you have `pg8000` installed or `psycopg2`."
   ]
  },
  {
   "cell_type": "code",
   "execution_count": null,
   "metadata": {
    "collapsed": false
   },
   "outputs": [],
   "source": [
    "try:\n",
    "    import psycopg2\n",
    "    conn = psycopg2.connect(host=host, user=username, password=password, database=\"movielens\")\n",
    "except ImportError:\n",
    "    import pg8000\n",
    "    conn = pg8000.connect(host=host, user=username, password=password, database=\"movielens\")\n",
    "type(conn)"
   ]
  },
  {
   "cell_type": "markdown",
   "metadata": {},
   "source": [
    "In all of the cells below, I've provided the necessary Python scaffolding to perform the query and display the results. All you need to do is write the SQL statements."
   ]
  },
  {
   "cell_type": "markdown",
   "metadata": {},
   "source": [
    "##Problem set 1: GROUP BY and HAVING\n",
    "\n",
    "In the cell below, write and execute a SQL statement that returns all zip codes, along with their count, from the `uuser` table that have *more than three* users listed in that zip code. (I.e., zip code 55414 has nine listed users, so it should be included in these results. Zip code 52302 has only one listed user, so it should not be included.)\n",
    "\n",
    "Expected output:\n",
    "\n",
    "```\n",
    "20009 5\n",
    "55105 6\n",
    "55454 4\n",
    "10003 5\n",
    "27514 4\n",
    "55337 5\n",
    "55414 9\n",
    "55408 4\n",
    "```\n",
    "\n",
    "Hint: use `GROUP BY` and `HAVING`. (If you're stuck, try writing the query without the `HAVING` first.)"
   ]
  },
  {
   "cell_type": "code",
   "execution_count": null,
   "metadata": {
    "collapsed": false,
    "scrolled": true
   },
   "outputs": [],
   "source": [
    "cursor = conn.cursor()\n",
    "statement = \"your statement here\"\n",
    "cursor.execute(statement)\n",
    "for row in cursor:\n",
    "    print row[0], row[1]"
   ]
  },
  {
   "cell_type": "markdown",
   "metadata": {},
   "source": [
    "##Problem set 2: Joining tables\n",
    "\n",
    "In the cell below, write and execute a SQL statement that finds and returns a list of the titles of all movies in the Western genre that received a rating of 1 from any user. Expected output:\n",
    "\n",
    "```\n",
    "Last Man Standing (1996)\n",
    "Wyatt Earp (1994)\n",
    "Wild Bill (1995)\n",
    "Davy Crockett, King of the Wild Frontier (1955)\n",
    "Bad Girls (1994)\n",
    "Young Guns (1988)\n",
    "Butch Cassidy and the Sundance Kid (1969)\n",
    "City Slickers II: The Legend of Curly's Gold (1994)\n",
    "Quick and the Dead, The (1995)\n",
    "Good, The Bad and The Ugly, The (1966)\n",
    "Magnificent Seven, The (1954)\n",
    "Tombstone (1993)\n",
    "Unforgiven (1992)\n",
    "Geronimo: An American Legend (1993)\n",
    "Terror in a Texas Town (1958)\n",
    "Apple Dumpling Gang, The (1975)\n",
    "Legends of the Fall (1994)\n",
    "Dead Man (1995)\n",
    "Maverick (1994)\n",
    "Young Guns II (1990)\n",
    "Dances with Wolves (1990)\n",
    "```\n",
    "\n",
    "HINT: `JOIN` the `udata` and `uitem` tables. Use `DISTINCT()` to get a list of unique movie titles (no title should be listed more than once). ADDITIONAL HINT: *Dances with Wolves* was my favorite movie when I was a kid. But then I realized that it's kind of full of racist garbage, and the music is *super schmaltzy*, so it's not surprising to me that it's on this list."
   ]
  },
  {
   "cell_type": "code",
   "execution_count": null,
   "metadata": {
    "collapsed": false
   },
   "outputs": [],
   "source": [
    "cursor = conn.cursor()\n",
    "statement = \"your statement here\"\n",
    "cursor.execute(statement)\n",
    "for row in cursor:\n",
    "    print row[0]"
   ]
  },
  {
   "cell_type": "markdown",
   "metadata": {},
   "source": [
    "##Problem set 3: Joins and aggregations... together at last\n",
    "\n",
    "This one's tough, so prepare yourself. Go get a cup of coffee. Stretch a little bit. Deep breath. There you go.\n",
    "\n",
    "In the cell below, write and execute a SQL statement that produces a list of the ten most highly rated movies in the Sci-Fi genre. For the purposes of this problem, take \"most highly rated\" to mean \"has the highest average rating.\" The query should display the *titles* of the movies, not their ID number. (So you'll have to use a `JOIN`.)\n",
    "\n",
    "Expected output:\n",
    "\n",
    "```\n",
    "Star Kid (1997) 5.0000000000000000\n",
    "Star Wars (1977) 4.3584905660377358\n",
    "Dr. Strangelove or: How I Learned to Stop Worrying and Love the Bomb (1963) 4.2525773195876289\n",
    "Empire Strikes Back, The (1980) 4.2043596730245232\n",
    "Blade Runner (1982) 4.1381818181818182\n",
    "Alien (1979) 4.0343642611683849\n",
    "Return of the Jedi (1983) 4.0078895463510848\n",
    "Terminator 2: Judgment Day (1991) 4.0067796610169492\n",
    "2001: A Space Odyssey (1968) 3.9691119691119691\n",
    "Aliens (1986) 3.9471830985915493\n",
    "```"
   ]
  },
  {
   "cell_type": "code",
   "execution_count": null,
   "metadata": {
    "collapsed": false
   },
   "outputs": [],
   "source": [
    "cursor = conn.cursor()\n",
    "statement = \"your statement here\"\n",
    "cursor.execute(statement)\n",
    "for row in cursor:\n",
    "    print row[0], row[1]"
   ]
  }
 ],
 "metadata": {
  "kernelspec": {
   "display_name": "Python 2",
   "language": "python",
   "name": "python2"
  },
  "language_info": {
   "codemirror_mode": {
    "name": "ipython",
    "version": 2
   },
   "file_extension": ".py",
   "mimetype": "text/x-python",
   "name": "python",
   "nbconvert_exporter": "python",
   "pygments_lexer": "ipython2",
   "version": "2.7.6"
  }
 },
 "nbformat": 4,
 "nbformat_minor": 0
}
