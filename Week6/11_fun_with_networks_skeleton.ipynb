{
 "cells": [
  {
   "cell_type": "markdown",
   "metadata": {},
   "source": [
    "#Data and Databases\n",
    "##Networks"
   ]
  },
  {
   "cell_type": "code",
   "execution_count": 1,
   "metadata": {
    "collapsed": true
   },
   "outputs": [],
   "source": [
    "%matplotlib inline\n",
    "import pandas as pd\n",
    "import matplotlib.pyplot as plt\n",
    "import numpy as np\n",
    "from IPython.display import Image\n",
    "pd.set_option('display.mpl_style', 'default') # Make the graphs a bit prettier\n",
    "plt.rcParams['figure.figsize'] = (15, 8) \n"
   ]
  },
  {
   "cell_type": "markdown",
   "metadata": {},
   "source": [
    "for a fine tutorial, from which I'm showing slides, see \n",
    "http://www.scottbot.net/HIAL/?page_id=41142\n"
   ]
  },
  {
   "cell_type": "markdown",
   "metadata": {},
   "source": [
    "##How to represent networks with numbers\n"
   ]
  },
  {
   "cell_type": "code",
   "execution_count": 2,
   "metadata": {
    "collapsed": false
   },
   "outputs": [
    {
     "data": {
      "image/png": "[encoded data removed]",
      "text/plain": [
       "<IPython.core.display.Image object>"
      ]
     },
     "execution_count": 2,
     "metadata": {},
     "output_type": "execute_result"
    }
   ],
   "source": [
    "Image(\"https://upload.wikimedia.org/wikipedia/commons/thumb/2/28/6n-graph2.svg/300px-6n-graph2.svg.png\")\n",
    "###h/t wikipedia"
   ]
  },
  {
   "cell_type": "markdown",
   "metadata": {},
   "source": [
    "##A long way\n",
    "\n",
    "1 IS CONNECTED TO 1\n",
    "\n",
    "1 IS CONNECTED TO 2\n",
    "\n",
    "1 IS CONNECTED TO 5\n",
    "\n",
    "2 IS CONNECTED IS 1\n",
    "\n",
    ". . . .\n",
    "\n",
    "##adjacency matrix\n",
    "$\\begin{pmatrix}\n",
    "1 & 1 & 0 & 0 & 1 & 0\\\\\n",
    "1 & 0 & 1 & 0 & 1 & 0\\\\\n",
    "0 & 1 & 0 & 1 & 0 & 0\\\\\n",
    "0 & 0 & 1 & 0 & 1 & 1\\\\\n",
    "1 & 1 & 0 & 1 & 0 & 0\\\\\n",
    "0 & 0 & 0 & 1 & 0 & 0\\\\\n",
    "\\end{pmatrix}$\n",
    "\n",
    "A $1$ at column $i$ and row $j$ means that $i$ and $j$ are connected. \n",
    "\n",
    "$6$ is connected only to $4$; $1$ is connected to itself, $2$, and $5$.\n",
    "\n",
    "This graph is *symmetric*: it assumes a connection from $1$ to $2$ is the same as one from $2$ to $1$. \n",
    "\n",
    "Often this is **not** the case: think of friending someone on a social network: A friending B does not mean B friends A. Such a graph is called a *directed* graph. \n",
    "\n",
    "\n",
    "\n"
   ]
  },
  {
   "cell_type": "markdown",
   "metadata": {},
   "source": [
    "Create a matrix capturing some of the relationships described in Peter Gabriels' *Games without Frontiers* (1980):\n",
    "\n",
    "\n",
    "    Jeux sans frontières (4x)\n",
    "\n",
    "    Hans plays with Lotte\n",
    "    Lotte plays with Jane\n",
    "    Jane plays with Willi\n",
    "    Willi is happy again\n",
    "    Suki plays with Leo\n",
    "    Sacha plays with Britt\n",
    "    Adolf builds a bonfire\n",
    "    Enrico plays with it\n",
    "\n",
    "`source: http://petergabriel.com/video/peter-gabriel-games-without-frontiers/`\n",
    "\n",
    "Assume \"plays with\" is non-directed, so \"plays with\" could be \"plays together.\"\n"
   ]
  },
  {
   "cell_type": "markdown",
   "metadata": {},
   "source": [
    "#An example: membership in patriotic clubs"
   ]
  },
  {
   "cell_type": "markdown",
   "metadata": {},
   "source": [
    "I'm taking this example from http://kieranhealy.org/blog/archives/2013/06/09/using-metadata-to-find-paul-revere/ and moving it from `R` to `python`"
   ]
  },
  {
   "cell_type": "code",
   "execution_count": 3,
   "metadata": {
    "collapsed": false
   },
   "outputs": [],
   "source": [
    "membership_matrix=pd.read_csv(\"https://raw.githubusercontent.com/kjhealy/revere/master/data/PaulRevereAppD.csv\", index_col=[0])"
   ]
  },
  {
   "cell_type": "markdown",
   "metadata": {},
   "source": [
    "We have a matrix of 254 rows and 7 columns"
   ]
  },
  {
   "cell_type": "markdown",
   "metadata": {},
   "source": [
    "##discerning connections!\n",
    "\n",
    "We are intested in \n",
    "\n",
    "- who is connected to whom\n",
    "\n",
    "- which organization most connected to which other organization.\n",
    "\n",
    "Our quarry is something like the *similarity matrices* we looked at in doing our work with text.\n",
    "\n",
    "We are going to create an *adjacency matrix*, another square matrix that indicates who is connected to whom.\n",
    "\n",
    "###a little more matrix math\n",
    "(You are not responsible for this but I want you to know the smoke and mirrors.)\n",
    "\n",
    "We have to do a little of basic arithmetic with matrices to make this work.\n",
    "\n",
    "First we need to recall the idea of the transpose, which is just flipping the rows and columns of a matrix.\n",
    "\n",
    "$\\begin{bmatrix}\n",
    "1 & 2  \\\\\n",
    "3 & 4 \\end{bmatrix}^{\\mathrm{T}}\n",
    "=\n",
    "\\begin{bmatrix}\n",
    "1 & 3  \\\\\n",
    "2 & 4 \\end{bmatrix}$\n",
    "\n",
    "The *adjacency* matrix is the product of a matrix and its transpose.\n",
    "\n",
    "Say we have a $257 * 7$ matrix; its transpose will be $7 * 257$ matrix.\n",
    "\n",
    "If we multiply an $M * N$ matrix by an $N * M$ matrix, we get a $M * M$ matrix.\n"
   ]
  },
  {
   "cell_type": "markdown",
   "metadata": {},
   "source": [
    "So let's start with the adjacency of every *person* to every other person.\n",
    "\n",
    "Our goal, then, is a symmetrical matrix that matches $M$ people to $M$ people.\n",
    "\n",
    "In python we can use the `.dot` method to perform the necessary form of matrix multiplication. We can do this directly on `pandas` dataframes."
   ]
  },
  {
   "cell_type": "code",
   "execution_count": null,
   "metadata": {
    "collapsed": true
   },
   "outputs": [],
   "source": []
  },
  {
   "cell_type": "markdown",
   "metadata": {},
   "source": [
    "Just as easily we can get the adjacency among the clubs.\n",
    "\n",
    "This time we multipy the transpose by the original matrix.\n",
    "\n",
    "(Remember: matrix multiplication is **not** commutative.)"
   ]
  },
  {
   "cell_type": "code",
   "execution_count": null,
   "metadata": {
    "collapsed": false
   },
   "outputs": [],
   "source": []
  },
  {
   "cell_type": "code",
   "execution_count": null,
   "metadata": {
    "collapsed": false
   },
   "outputs": [],
   "source": []
  },
  {
   "cell_type": "code",
   "execution_count": null,
   "metadata": {
    "collapsed": false
   },
   "outputs": [],
   "source": []
  },
  {
   "cell_type": "code",
   "execution_count": null,
   "metadata": {
    "collapsed": false
   },
   "outputs": [],
   "source": []
  },
  {
   "cell_type": "code",
   "execution_count": null,
   "metadata": {
    "collapsed": true
   },
   "outputs": [],
   "source": []
  },
  {
   "cell_type": "markdown",
   "metadata": {},
   "source": [
    "#Python package for networks: `networkx`\n"
   ]
  },
  {
   "cell_type": "markdown",
   "metadata": {},
   "source": [
    "Installed by default in condas\n",
    "If problem, run in shell\n",
    "\n",
    "`conda install networkx`"
   ]
  },
  {
   "cell_type": "code",
   "execution_count": 4,
   "metadata": {
    "collapsed": true
   },
   "outputs": [],
   "source": [
    "import networkx as nx"
   ]
  },
  {
   "cell_type": "markdown",
   "metadata": {
    "collapsed": false
   },
   "source": [
    "introduces new data type, the graph, with lots of operations to create, modify, analyze, graph, import and export graphs\n",
    "\n",
    "find the full documentation at \n",
    "https://networkx.github.io/\n"
   ]
  },
  {
   "cell_type": "markdown",
   "metadata": {},
   "source": [
    "Begin by initializing a graph, then add edges, nodes or both.\n"
   ]
  },
  {
   "cell_type": "code",
   "execution_count": 5,
   "metadata": {
    "collapsed": false
   },
   "outputs": [],
   "source": [
    "my_first_graph = nx.Graph()"
   ]
  },
  {
   "cell_type": "code",
   "execution_count": 6,
   "metadata": {
    "collapsed": false
   },
   "outputs": [],
   "source": [
    "my_first_graph.add_edge(1,2)"
   ]
  },
  {
   "cell_type": "code",
   "execution_count": 7,
   "metadata": {
    "collapsed": false
   },
   "outputs": [
    {
     "data": {
      "image/png": "[encoded data removed]",
      "text/plain": [
       "<matplotlib.figure.Figure at 0x10c00f0d0>"
      ]
     },
     "metadata": {},
     "output_type": "display_data"
    }
   ],
   "source": [
    "nx.draw(my_first_graph)"
   ]
  },
  {
   "cell_type": "code",
   "execution_count": 8,
   "metadata": {
    "collapsed": false
   },
   "outputs": [
    {
     "data": {
      "text/plain": [
       "2"
      ]
     },
     "execution_count": 8,
     "metadata": {},
     "output_type": "execute_result"
    }
   ],
   "source": [
    "nx.number_of_nodes(my_first_graph)"
   ]
  },
  {
   "cell_type": "markdown",
   "metadata": {},
   "source": [
    "### Both nodes and edges can have additional attributes\n",
    "\n",
    "most important for us is \"weight\": how *strong* a connection between two nodes\n"
   ]
  },
  {
   "cell_type": "code",
   "execution_count": 11,
   "metadata": {
    "collapsed": false
   },
   "outputs": [
    {
     "data": {
      "image/png": "[encoded data removed]",
      "text/plain": [
       "<matplotlib.figure.Figure at 0x10c450650>"
      ]
     },
     "metadata": {},
     "output_type": "display_data"
    }
   ],
   "source": [
    "my_first_graph.add_edge(4,5,weight = 3)\n",
    "nx.draw(my_first_graph)"
   ]
  },
  {
   "cell_type": "markdown",
   "metadata": {},
   "source": [
    "Default simply graphing method *not* show the weighted edge.\n",
    "\n",
    "We will fix this.\n",
    "\n",
    "For examples of drawing in `networkx`, see https://networkx.github.io/documentation/latest/gallery.html"
   ]
  },
  {
   "cell_type": "markdown",
   "metadata": {},
   "source": [
    "We can get far finer control by building up out graph `matplotlib` style.\n",
    "Just instruct it to plot each element: edges, nodes, and labels."
   ]
  },
  {
   "cell_type": "code",
   "execution_count": 12,
   "metadata": {
    "collapsed": false
   },
   "outputs": [
    {
     "data": {
      "image/png": "[encoded data removed]",
      "text/plain": [
       "<matplotlib.figure.Figure at 0x10c00fb10>"
      ]
     },
     "metadata": {},
     "output_type": "display_data"
    }
   ],
   "source": [
    "pos=nx.spring_layout(my_first_graph,iterations=20)\n",
    "nx.draw_networkx_edges(my_first_graph, pos)\n",
    "nx.draw_networkx_nodes(my_first_graph, pos)\n",
    "nx.draw_networkx_labels(my_first_graph, pos)\n",
    "plt.show()"
   ]
  },
  {
   "cell_type": "markdown",
   "metadata": {},
   "source": [
    "Don't want those ugly axes!"
   ]
  },
  {
   "cell_type": "code",
   "execution_count": 13,
   "metadata": {
    "collapsed": false
   },
   "outputs": [
    {
     "data": {
      "image/png": "[encoded data removed]",
      "text/plain": [
       "<matplotlib.figure.Figure at 0x10caeb350>"
      ]
     },
     "metadata": {},
     "output_type": "display_data"
    }
   ],
   "source": [
    "pos=nx.spring_layout(my_first_graph,iterations=20)\n",
    "nx.draw_networkx_edges(my_first_graph, pos)\n",
    "nx.draw_networkx_nodes(my_first_graph, pos)\n",
    "nx.draw_networkx_labels(my_first_graph, pos)\n",
    "plt.axis(\"off\")\n",
    "plt.show()"
   ]
  },
  {
   "cell_type": "markdown",
   "metadata": {},
   "source": [
    "Note that the algorithm drawing the graphs is *non*-deterministic. It won't look the same from time to time."
   ]
  },
  {
   "cell_type": "code",
   "execution_count": 14,
   "metadata": {
    "collapsed": false
   },
   "outputs": [
    {
     "data": {
      "image/png": "[encoded data removed]",
      "text/plain": [
       "<matplotlib.figure.Figure at 0x10c7a9890>"
      ]
     },
     "metadata": {},
     "output_type": "display_data"
    }
   ],
   "source": [
    "pos=nx.spring_layout(my_first_graph,iterations=20)\n",
    "nx.draw_networkx_edges(my_first_graph, pos)\n",
    "nx.draw_networkx_nodes(my_first_graph, pos)\n",
    "nx.draw_networkx_labels(my_first_graph, pos)\n",
    "plt.axis(\"off\")\n",
    "plt.show()"
   ]
  },
  {
   "cell_type": "markdown",
   "metadata": {},
   "source": [
    "`Networkx` is *not* the best place to do sophisticated graphing.\n",
    "\n",
    "In order to draw weighted edges differently, we need to add each kind of edge separately.\n",
    "To do so, we have to cycle through all the edges and pick out the ones that should be bigger.\n",
    "\n",
    "The edges method will provide a list of all our edges."
   ]
  },
  {
   "cell_type": "markdown",
   "metadata": {},
   "source": [
    "only one has a weight!"
   ]
  },
  {
   "cell_type": "code",
   "execution_count": null,
   "metadata": {
    "collapsed": true
   },
   "outputs": [],
   "source": []
  },
  {
   "cell_type": "code",
   "execution_count": null,
   "metadata": {
    "collapsed": true
   },
   "outputs": [],
   "source": []
  },
  {
   "cell_type": "code",
   "execution_count": 15,
   "metadata": {
    "collapsed": false
   },
   "outputs": [
    {
     "ename": "NameError",
     "evalue": "name 'large_edges' is not defined",
     "output_type": "error",
     "traceback": [
      "\u001b[0;31m---------------------------------------------------------------------------\u001b[0m",
      "\u001b[0;31mNameError\u001b[0m                                 Traceback (most recent call last)",
      "\u001b[0;32m<ipython-input-15-08e4a803b906>\u001b[0m in \u001b[0;36m<module>\u001b[0;34m()\u001b[0m\n\u001b[1;32m      1\u001b[0m \u001b[0mpos\u001b[0m\u001b[0;34m=\u001b[0m\u001b[0mnx\u001b[0m\u001b[0;34m.\u001b[0m\u001b[0mspring_layout\u001b[0m\u001b[0;34m(\u001b[0m\u001b[0mmy_first_graph\u001b[0m\u001b[0;34m,\u001b[0m\u001b[0miterations\u001b[0m\u001b[0;34m=\u001b[0m\u001b[0;36m20\u001b[0m\u001b[0;34m)\u001b[0m\u001b[0;34m\u001b[0m\u001b[0m\n\u001b[0;32m----> 2\u001b[0;31m nx.draw_networkx_edges(my_first_graph,pos,edgelist=large_edges,\n\u001b[0m\u001b[1;32m      3\u001b[0m                     width=6)\n\u001b[1;32m      4\u001b[0m nx.draw_networkx_edges(my_first_graph,pos,edgelist=small_edges,\n\u001b[1;32m      5\u001b[0m                     width=2)\n",
      "\u001b[0;31mNameError\u001b[0m: name 'large_edges' is not defined"
     ]
    }
   ],
   "source": [
    "pos=nx.spring_layout(my_first_graph,iterations=20)\n",
    "nx.draw_networkx_edges(my_first_graph,pos,edgelist=large_edges,\n",
    "                    width=6)\n",
    "nx.draw_networkx_edges(my_first_graph,pos,edgelist=small_edges,\n",
    "                    width=2)\n",
    "nx.draw_networkx_nodes(my_first_graph, pos)\n",
    "nx.draw_networkx_labels(my_first_graph, pos)\n",
    "plt.axis(\"off\")\n",
    "plt.show()"
   ]
  },
  {
   "cell_type": "code",
   "execution_count": null,
   "metadata": {
    "collapsed": true
   },
   "outputs": [],
   "source": []
  },
  {
   "cell_type": "markdown",
   "metadata": {},
   "source": [
    "###Patriotic Club Example"
   ]
  },
  {
   "cell_type": "markdown",
   "metadata": {},
   "source": [
    "Let's now return to our example.\n"
   ]
  },
  {
   "cell_type": "code",
   "execution_count": null,
   "metadata": {
    "collapsed": true
   },
   "outputs": [],
   "source": [
    "club"
   ]
  },
  {
   "cell_type": "markdown",
   "metadata": {},
   "source": [
    "`networkx` includes a translation function from adjacency matrices to graphs `from_numpy_matrix()`. There's also one for sparse matrices."
   ]
  },
  {
   "cell_type": "markdown",
   "metadata": {},
   "source": [
    "But we've lost the names of our clubs here.\n",
    "\n",
    "We can put them back by providing a mapping from node numbers to names as a dictionary."
   ]
  },
  {
   "cell_type": "code",
   "execution_count": null,
   "metadata": {
    "collapsed": true
   },
   "outputs": [],
   "source": []
  },
  {
   "cell_type": "code",
   "execution_count": null,
   "metadata": {
    "collapsed": false
   },
   "outputs": [],
   "source": [
    "pos=nx.spring_layout(club_adjacency_graph,iterations=20)\n",
    "nx.draw_networkx_edges(club_adjacency_graph, pos)\n",
    "nx.draw_networkx_nodes(club_adjacency_graph, pos)\n",
    "nx.draw_networkx_labels(club_adjacency_graph, pos)\n",
    "plt.axis(\"off\")\n",
    "plt.show()"
   ]
  },
  {
   "cell_type": "markdown",
   "metadata": {},
   "source": [
    "Now let's do it with our adjacency matrix for the club members."
   ]
  },
  {
   "cell_type": "code",
   "execution_count": null,
   "metadata": {
    "collapsed": true
   },
   "outputs": [],
   "source": []
  },
  {
   "cell_type": "markdown",
   "metadata": {},
   "source": [
    "*UN*intelligible!"
   ]
  },
  {
   "cell_type": "code",
   "execution_count": null,
   "metadata": {
    "collapsed": false,
    "scrolled": true
   },
   "outputs": [],
   "source": [
    "pos=nx.spring_layout(person_adjacency_graph, iterations=30)\n",
    "plt.figure(figsize=(40,40))\n",
    "nx.draw_networkx_edges(person_adjacency_graph, pos, width=.02)\n",
    "nx.draw_networkx_nodes(person_adjacency_graph, pos, node_size=50)\n",
    "nx.draw_networkx_labels(person_adjacency_graph, pos)\n",
    "plt.axis('off')\n",
    "plt.show()"
   ]
  },
  {
   "cell_type": "markdown",
   "metadata": {},
   "source": [
    "##Graphing the prelude to analysis, not the thing itself\n",
    "\n",
    "##Just as term-document matrices are the fundamental form for undertaking *text analysis*, putting data into a graph form, as in `networkx`, allows a wide range of analysis, including sophisticated *supervised* and *unsupervised* learning.\n",
    "\n",
    "`Google`'s `Page-Rank`--the core of its search algorithm--is a graph analysis algorithm.\n",
    "\n",
    "Intuition is that websites (nodes) referred to by other high-ranking websites (nodes) should be more highly ranked\n"
   ]
  },
  {
   "cell_type": "markdown",
   "metadata": {},
   "source": [
    "##Black box time!\n",
    "\n",
    "\n",
    "###lots of centrality measures, most built into `networkx`\n",
    "\n",
    "We'll use a fairly sophisticated one, eigenvector centrality, built into `networks`. \n",
    "\n",
    "If you want to unblackbox, you're ready for a more advanced course!\n",
    "\n"
   ]
  },
  {
   "cell_type": "code",
   "execution_count": null,
   "metadata": {
    "collapsed": false
   },
   "outputs": [],
   "source": [
    "person_adjacency_graph_centrality=nx.eigenvector_centrality(person_adjacency_graph, max_iter=30)"
   ]
  },
  {
   "cell_type": "code",
   "execution_count": null,
   "metadata": {
    "collapsed": false
   },
   "outputs": [],
   "source": [
    "person_adjacency_graph_centrality"
   ]
  },
  {
   "cell_type": "markdown",
   "metadata": {},
   "source": [
    "argh, need to sort that"
   ]
  },
  {
   "cell_type": "code",
   "execution_count": null,
   "metadata": {
    "collapsed": false
   },
   "outputs": [],
   "source": [
    "sorted(person_adjacency_graph_centrality, key=person_adjacency_graph_centrality.get, reverse=True)[:10]  #useful syntax to know for sorting dictionaries!"
   ]
  },
  {
   "cell_type": "code",
   "execution_count": null,
   "metadata": {
    "collapsed": false
   },
   "outputs": [],
   "source": [
    "for name in sorted(person_adjacency_graph_centrality, key=person_adjacency_graph_centrality.get, reverse=True)[0:10]:\n",
    "    print(name, person_adjacency_graph_centrality[name])"
   ]
  },
  {
   "cell_type": "markdown",
   "metadata": {},
   "source": [
    "##Revere is our terrorist mastermind!\n",
    "###Get them on a do-not fly, er, ride list!"
   ]
  },
  {
   "cell_type": "markdown",
   "metadata": {},
   "source": [
    "Point *isn't* that such techniques are *always* right:\n",
    "\n",
    "- they *do* uncover relationship\n",
    "\n",
    "- they have *tons* of false positives"
   ]
  },
  {
   "cell_type": "markdown",
   "metadata": {
    "collapsed": true
   },
   "source": [
    "##Speaking of the NSA"
   ]
  },
  {
   "cell_type": "markdown",
   "metadata": {},
   "source": [
    "###Linked-in Mining\n",
    "\n",
    "Transparency Toolkit\n",
    "https://transparencytoolkit.org/project/icwatch/\n",
    "\n",
    "slurp up 27k linked-in profiles for US intelligence agency current or former personel\n"
   ]
  },
  {
   "cell_type": "code",
   "execution_count": null,
   "metadata": {
    "collapsed": true
   },
   "outputs": [],
   "source": [
    "import requests"
   ]
  },
  {
   "cell_type": "code",
   "execution_count": null,
   "metadata": {
    "collapsed": true
   },
   "outputs": [],
   "source": [
    "r=requests.get('https://raw.githubusercontent.com/TransparencyToolkit/ICWATCH-Data/master/data/original_run/xkeyscore.json')"
   ]
  },
  {
   "cell_type": "code",
   "execution_count": null,
   "metadata": {
    "collapsed": true
   },
   "outputs": [],
   "source": []
  },
  {
   "cell_type": "markdown",
   "metadata": {},
   "source": [
    "#Exporting"
   ]
  },
  {
   "cell_type": "markdown",
   "metadata": {},
   "source": [
    "Networkx and python good at the manipulation of things into network form, but clunky on visualization and some analysis.\n",
    "\n",
    "Easy to export in numerous formats, such as json, which is good for use in D3."
   ]
  },
  {
   "cell_type": "code",
   "execution_count": null,
   "metadata": {
    "collapsed": true
   },
   "outputs": [],
   "source": [
    "import json\n",
    "from networkx.readwrite import json_graph\n"
   ]
  },
  {
   "cell_type": "markdown",
   "metadata": {},
   "source": [
    "Json needs the graph to be converted into a \"node-link\" format, which comprises\n",
    "\n",
    "- ordered list of names\n",
    "- list of edges and weights by numbers corresponding to those names\n",
    "\n",
    "Helper function saves you the trouble of making it.\n"
   ]
  },
  {
   "cell_type": "code",
   "execution_count": null,
   "metadata": {
    "collapsed": false
   },
   "outputs": [],
   "source": [
    "club_adjacency_graph_node_link = json_graph.node_link_data(club_adjacency_graph)"
   ]
  },
  {
   "cell_type": "code",
   "execution_count": null,
   "metadata": {
    "collapsed": false
   },
   "outputs": [],
   "source": [
    "json.dump(club_adjacency_graph_node_link, open('revere_adjacency.json','w'))"
   ]
  },
  {
   "cell_type": "code",
   "execution_count": null,
   "metadata": {
    "collapsed": false
   },
   "outputs": [],
   "source": [
    "!head revere_adjacency.json"
   ]
  },
  {
   "cell_type": "markdown",
   "metadata": {},
   "source": [
    "##now you can use this in D3.js (example!)"
   ]
  },
  {
   "cell_type": "markdown",
   "metadata": {
    "collapsed": true
   },
   "source": [
    "Much social network analysis software needs the graphml format.\n",
    "\n",
    "it's as easy as\n",
    "\n",
    "    nx.write_graphml(G,'so.graphml')\n",
    "    \n",
    "    \n",
    "You can import this into the powerful open-source package `gephi`. http://gephi.org/"
   ]
  },
  {
   "cell_type": "markdown",
   "metadata": {},
   "source": [
    "#Performativity of networks"
   ]
  },
  {
   "cell_type": "markdown",
   "metadata": {},
   "source": [
    "##Networks a powerful metaphor for undestanding the social and natural world\n",
    "##But not natural themselves"
   ]
  },
  {
   "cell_type": "markdown",
   "metadata": {},
   "source": [
    "Performative claim:\n",
    "    \n",
    "    \"Network metaphors and methods are being built in to social practices in ways that at once provide\n",
    "    new, theoretically-informed tools for social actors, and notionally “raw”\n",
    "    data for social network analysts\"\n",
    "\n",
    "Kieran Healy (Duke),     \n",
    "    http://kieranhealy.org/files/papers/performativity.pdf\n",
    "        "
   ]
  }
 ],
 "metadata": {
  "kernelspec": {
   "display_name": "Python 2",
   "language": "python",
   "name": "python2"
  },
  "language_info": {
   "codemirror_mode": {
    "name": "ipython",
    "version": 2
   },
   "file_extension": ".py",
   "mimetype": "text/x-python",
   "name": "python",
   "nbconvert_exporter": "python",
   "pygments_lexer": "ipython2",
   "version": "2.7.10"
  }
 },
 "nbformat": 4,
 "nbformat_minor": 0
}
