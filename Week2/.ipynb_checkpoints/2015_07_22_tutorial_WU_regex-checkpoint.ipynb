{
 "cells": [
  {
   "cell_type": "code",
   "execution_count": 1,
   "metadata": {
    "collapsed": true
   },
   "outputs": [],
   "source": [
    "s = \"buffoon\""
   ]
  },
  {
   "cell_type": "markdown",
   "metadata": {},
   "source": [
    "##Substring checks"
   ]
  },
  {
   "cell_type": "code",
   "execution_count": 3,
   "metadata": {
    "collapsed": false
   },
   "outputs": [
    {
     "data": {
      "text/plain": [
       "True"
      ]
     },
     "execution_count": 3,
     "metadata": {},
     "output_type": "execute_result"
    }
   ],
   "source": [
    "\"foo\" in s"
   ]
  },
  {
   "cell_type": "code",
   "execution_count": 4,
   "metadata": {
    "collapsed": false
   },
   "outputs": [
    {
     "data": {
      "text/plain": [
       "False"
      ]
     },
     "execution_count": 4,
     "metadata": {},
     "output_type": "execute_result"
    }
   ],
   "source": [
    "\"whisky\" in s"
   ]
  },
  {
   "cell_type": "code",
   "execution_count": 5,
   "metadata": {
    "collapsed": true
   },
   "outputs": [],
   "source": [
    "t = \"foodie\""
   ]
  },
  {
   "cell_type": "code",
   "execution_count": 6,
   "metadata": {
    "collapsed": false
   },
   "outputs": [
    {
     "data": {
      "text/plain": [
       "True"
      ]
     },
     "execution_count": 6,
     "metadata": {},
     "output_type": "execute_result"
    }
   ],
   "source": [
    "t.startswith(\"foo\")"
   ]
  },
  {
   "cell_type": "code",
   "execution_count": 7,
   "metadata": {
    "collapsed": false
   },
   "outputs": [
    {
     "name": "stdout",
     "output_type": "stream",
     "text": [
      "foodie\n"
     ]
    },
    {
     "data": {
      "text/plain": [
       "False"
      ]
     },
     "execution_count": 7,
     "metadata": {},
     "output_type": "execute_result"
    }
   ],
   "source": [
    "print t\n",
    "t.endswith(\"live!\")"
   ]
  },
  {
   "cell_type": "code",
   "execution_count": 8,
   "metadata": {
    "collapsed": false
   },
   "outputs": [
    {
     "data": {
      "text/plain": [
       "False"
      ]
     },
     "execution_count": 8,
     "metadata": {},
     "output_type": "execute_result"
    }
   ],
   "source": [
    "\"Foo\" in t "
   ]
  },
  {
   "cell_type": "code",
   "execution_count": 9,
   "metadata": {
    "collapsed": false
   },
   "outputs": [
    {
     "data": {
      "text/plain": [
       "False"
      ]
     },
     "execution_count": 9,
     "metadata": {},
     "output_type": "execute_result"
    }
   ],
   "source": [
    "\"FOO\" in t "
   ]
  },
  {
   "cell_type": "code",
   "execution_count": 10,
   "metadata": {
    "collapsed": false
   },
   "outputs": [
    {
     "name": "stdout",
     "output_type": "stream",
     "text": [
      "foodie\n"
     ]
    }
   ],
   "source": [
    "print t"
   ]
  },
  {
   "cell_type": "code",
   "execution_count": 11,
   "metadata": {
    "collapsed": false
   },
   "outputs": [
    {
     "data": {
      "text/plain": [
       "True"
      ]
     },
     "execution_count": 11,
     "metadata": {},
     "output_type": "execute_result"
    }
   ],
   "source": [
    "t.islower()"
   ]
  },
  {
   "cell_type": "code",
   "execution_count": 20,
   "metadata": {
    "collapsed": false
   },
   "outputs": [
    {
     "data": {
      "text/plain": [
       "False"
      ]
     },
     "execution_count": 20,
     "metadata": {},
     "output_type": "execute_result"
    }
   ],
   "source": [
    "t.isupper()"
   ]
  },
  {
   "cell_type": "code",
   "execution_count": 24,
   "metadata": {
    "collapsed": false
   },
   "outputs": [
    {
     "data": {
      "text/plain": [
       "[\"let's\", 'all', 'go', 'to', 'Paris', 'with', 'John', 'and', 'Sue']"
      ]
     },
     "execution_count": 24,
     "metadata": {},
     "output_type": "execute_result"
    }
   ],
   "source": [
    "text_with_names = \"let's all go to Paris with John and Sue\"\n",
    "words = text_with_names.split()\n",
    "words"
   ]
  },
  {
   "cell_type": "code",
   "execution_count": 25,
   "metadata": {
    "collapsed": false
   },
   "outputs": [
    {
     "data": {
      "text/plain": [
       "['Paris', 'John', 'Sue']"
      ]
     },
     "execution_count": 25,
     "metadata": {},
     "output_type": "execute_result"
    }
   ],
   "source": [
    "[item for item in words if item[0].isupper()]"
   ]
  },
  {
   "cell_type": "markdown",
   "metadata": {},
   "source": [
    "##Finding positions or substrings"
   ]
  },
  {
   "cell_type": "code",
   "execution_count": 27,
   "metadata": {
    "collapsed": false
   },
   "outputs": [
    {
     "data": {
      "text/plain": [
       "11"
      ]
     },
     "execution_count": 27,
     "metadata": {},
     "output_type": "execute_result"
    }
   ],
   "source": [
    "prose = \"Now is the winter of our discontent\"\n",
    "prose.find(\"win\")"
   ]
  },
  {
   "cell_type": "code",
   "execution_count": 31,
   "metadata": {
    "collapsed": false
   },
   "outputs": [
    {
     "data": {
      "text/plain": [
       "-1"
      ]
     },
     "execution_count": 31,
     "metadata": {},
     "output_type": "execute_result"
    }
   ],
   "source": [
    "prose.find(\"lose\")"
   ]
  },
  {
   "cell_type": "code",
   "execution_count": 37,
   "metadata": {
    "collapsed": false
   },
   "outputs": [
    {
     "name": "stdout",
     "output_type": "stream",
     "text": [
      "winter of our discontent\n"
     ]
    }
   ],
   "source": [
    "position = prose.find(\"win\")\n",
    "if position != -1:\n",
    "    print prose[position:]"
   ]
  },
  {
   "cell_type": "markdown",
   "metadata": {},
   "source": [
    "## String slices"
   ]
  },
  {
   "cell_type": "code",
   "execution_count": 39,
   "metadata": {
    "collapsed": false
   },
   "outputs": [
    {
     "data": {
      "text/plain": [
       "'g'"
      ]
     },
     "execution_count": 39,
     "metadata": {},
     "output_type": "execute_result"
    }
   ],
   "source": [
    "message = \"bungalow\"\n",
    "message[3]"
   ]
  },
  {
   "cell_type": "code",
   "execution_count": 40,
   "metadata": {
    "collapsed": false
   },
   "outputs": [
    {
     "data": {
      "text/plain": [
       "'ungal'"
      ]
     },
     "execution_count": 40,
     "metadata": {},
     "output_type": "execute_result"
    }
   ],
   "source": [
    "message[1:6]"
   ]
  },
  {
   "cell_type": "code",
   "execution_count": 41,
   "metadata": {
    "collapsed": false
   },
   "outputs": [
    {
     "data": {
      "text/plain": [
       "'bun'"
      ]
     },
     "execution_count": 41,
     "metadata": {},
     "output_type": "execute_result"
    }
   ],
   "source": [
    "message[0:3]"
   ]
  },
  {
   "cell_type": "code",
   "execution_count": 42,
   "metadata": {
    "collapsed": false
   },
   "outputs": [
    {
     "data": {
      "text/plain": [
       "'bun'"
      ]
     },
     "execution_count": 42,
     "metadata": {},
     "output_type": "execute_result"
    }
   ],
   "source": [
    "message[:3]"
   ]
  },
  {
   "cell_type": "code",
   "execution_count": 43,
   "metadata": {
    "collapsed": false
   },
   "outputs": [
    {
     "data": {
      "text/plain": [
       "'ngalow'"
      ]
     },
     "execution_count": 43,
     "metadata": {},
     "output_type": "execute_result"
    }
   ],
   "source": [
    "message[2:]"
   ]
  },
  {
   "cell_type": "code",
   "execution_count": 44,
   "metadata": {
    "collapsed": false
   },
   "outputs": [
    {
     "data": {
      "text/plain": [
       "['101', '201', '324']"
      ]
     },
     "execution_count": 44,
     "metadata": {},
     "output_type": "execute_result"
    }
   ],
   "source": [
    "courses = [\"101 Intro to Yogurt Studies\",\n",
    "          \"201 Advanced Yogurt Studies\",\n",
    "          \"324 Graduate Seminar in Contemporary Yogurt Issues\"]\n",
    "[item[:3] for item in courses]"
   ]
  },
  {
   "cell_type": "code",
   "execution_count": 45,
   "metadata": {
    "collapsed": false
   },
   "outputs": [
    {
     "name": "stdout",
     "output_type": "stream",
     "text": [
      "bungalow\n"
     ]
    }
   ],
   "source": [
    "print message"
   ]
  },
  {
   "cell_type": "code",
   "execution_count": 46,
   "metadata": {
    "collapsed": false
   },
   "outputs": [
    {
     "data": {
      "text/plain": [
       "'w'"
      ]
     },
     "execution_count": 46,
     "metadata": {},
     "output_type": "execute_result"
    }
   ],
   "source": [
    "message[-1]"
   ]
  },
  {
   "cell_type": "code",
   "execution_count": 47,
   "metadata": {
    "collapsed": false
   },
   "outputs": [
    {
     "data": {
      "text/plain": [
       "'o'"
      ]
     },
     "execution_count": 47,
     "metadata": {},
     "output_type": "execute_result"
    }
   ],
   "source": [
    "message[-2]"
   ]
  },
  {
   "cell_type": "code",
   "execution_count": 48,
   "metadata": {
    "collapsed": false
   },
   "outputs": [
    {
     "data": {
      "text/plain": [
       "'ow'"
      ]
     },
     "execution_count": 48,
     "metadata": {},
     "output_type": "execute_result"
    }
   ],
   "source": [
    "message[-2:]"
   ]
  },
  {
   "cell_type": "code",
   "execution_count": 50,
   "metadata": {
    "collapsed": false
   },
   "outputs": [
    {
     "data": {
      "text/plain": [
       "'bungalo'"
      ]
     },
     "execution_count": 50,
     "metadata": {},
     "output_type": "execute_result"
    }
   ],
   "source": [
    "message[:-1]"
   ]
  },
  {
   "cell_type": "code",
   "execution_count": 53,
   "metadata": {
    "collapsed": false
   },
   "outputs": [
    {
     "data": {
      "text/plain": [
       "['101', '201', '324']"
      ]
     },
     "execution_count": 53,
     "metadata": {},
     "output_type": "execute_result"
    }
   ],
   "source": [
    "courses = [\"Intro to Yogurt Studies 101\",\n",
    "          \"Advanced Yogurt Studies 201\",\n",
    "          \"Graduate Seminar in Contemporary Yogurt Issues 324\"]\n",
    "[item[-3:] for item in courses]"
   ]
  },
  {
   "cell_type": "code",
   "execution_count": 54,
   "metadata": {
    "collapsed": true
   },
   "outputs": [],
   "source": [
    "# x[______:_____]\n",
    "#   start  end"
   ]
  },
  {
   "cell_type": "markdown",
   "metadata": {},
   "source": [
    "## String transformations"
   ]
  },
  {
   "cell_type": "code",
   "execution_count": 57,
   "metadata": {
    "collapsed": true
   },
   "outputs": [],
   "source": [
    "email = \"ARGUMENTATION! DISAGREEMENT! STRIFE!\""
   ]
  },
  {
   "cell_type": "code",
   "execution_count": 58,
   "metadata": {
    "collapsed": false
   },
   "outputs": [
    {
     "data": {
      "text/plain": [
       "'argumentation! disagreement! strife!'"
      ]
     },
     "execution_count": 58,
     "metadata": {},
     "output_type": "execute_result"
    }
   ],
   "source": [
    "email.lower()"
   ]
  },
  {
   "cell_type": "code",
   "execution_count": 59,
   "metadata": {
    "collapsed": true
   },
   "outputs": [],
   "source": [
    "poetry = \"e.e. cummings is. not .happy. about this. stop.\""
   ]
  },
  {
   "cell_type": "code",
   "execution_count": 65,
   "metadata": {
    "collapsed": false
   },
   "outputs": [
    {
     "data": {
      "text/plain": [
       "'E.E. CUMMINGS IS. NOT .HAPPY. ABOUT THIS. STOP.Stop'"
      ]
     },
     "execution_count": 65,
     "metadata": {},
     "output_type": "execute_result"
    }
   ],
   "source": [
    "poetry.upper() + \"Stop\""
   ]
  },
  {
   "cell_type": "code",
   "execution_count": 64,
   "metadata": {
    "collapsed": false
   },
   "outputs": [
    {
     "data": {
      "text/plain": [
       "'Dr. Strangelove, Or ,How I Learned To Love The Bomb'"
      ]
     },
     "execution_count": 64,
     "metadata": {},
     "output_type": "execute_result"
    }
   ],
   "source": [
    "movie = \"dr. strangelove, or ,how I learned to love the bomb\"\n",
    "movie.title()"
   ]
  },
  {
   "cell_type": "code",
   "execution_count": 66,
   "metadata": {
    "collapsed": false
   },
   "outputs": [
    {
     "data": {
      "text/plain": [
       "'dr. strangelove, or ,how I learned to love the bomb'"
      ]
     },
     "execution_count": 66,
     "metadata": {},
     "output_type": "execute_result"
    }
   ],
   "source": [
    "fixme = \"dr. strangelove, or ,how I learned to love the bomb\"\n",
    "fixme.strip()"
   ]
  },
  {
   "cell_type": "code",
   "execution_count": 67,
   "metadata": {
    "collapsed": true
   },
   "outputs": [],
   "source": [
    "## "
   ]
  },
  {
   "cell_type": "code",
   "execution_count": 68,
   "metadata": {
    "collapsed": false
   },
   "outputs": [
    {
     "name": "stdout",
     "output_type": "stream",
     "text": [
      "if you have a string\n"
     ]
    }
   ],
   "source": [
    "print \"if you have a string\""
   ]
  },
  {
   "cell_type": "code",
   "execution_count": 69,
   "metadata": {
    "collapsed": false
   },
   "outputs": [
    {
     "name": "stdout",
     "output_type": "stream",
     "text": [
      "if you \"have\" a string\n"
     ]
    }
   ],
   "source": [
    "print \"if you \\\"have\\\" a string\""
   ]
  },
  {
   "cell_type": "code",
   "execution_count": 76,
   "metadata": {
    "collapsed": false
   },
   "outputs": [
    {
     "name": "stdout",
     "output_type": "stream",
     "text": [
      "I have eaten\n",
      "the plums\n",
      "that were in \n",
      "the icebox\n"
     ]
    }
   ],
   "source": [
    "poem = \"I have eaten\\nthe plums\\nthat were in \\nthe icebox\"\n",
    "#include line break,use back slash + n \"\\n\"\n",
    "print poem"
   ]
  },
  {
   "cell_type": "code",
   "execution_count": 77,
   "metadata": {
    "collapsed": true
   },
   "outputs": [],
   "source": [
    "actual_backslash = \"you need to type two \\\\backslashes\""
   ]
  },
  {
   "cell_type": "code",
   "execution_count": 78,
   "metadata": {
    "collapsed": false
   },
   "outputs": [
    {
     "name": "stdout",
     "output_type": "stream",
     "text": [
      "you need to type two \\backslashes\n"
     ]
    }
   ],
   "source": [
    "print actual_backslash"
   ]
  },
  {
   "cell_type": "markdown",
   "metadata": {},
   "source": [
    "##Regular Expression"
   ]
  },
  {
   "cell_type": "code",
   "execution_count": 80,
   "metadata": {
    "collapsed": true
   },
   "outputs": [],
   "source": [
    "input_str = \"here is a zip code:12345. 567 is not, but 45678 is.\""
   ]
  },
  {
   "cell_type": "code",
   "execution_count": 81,
   "metadata": {
    "collapsed": false
   },
   "outputs": [
    {
     "name": "stdout",
     "output_type": "stream",
     "text": [
      "here is a zip code:12345. 567 is not, but 45678 is.\n"
     ]
    }
   ],
   "source": [
    "print input_str"
   ]
  },
  {
   "cell_type": "code",
   "execution_count": 82,
   "metadata": {
    "collapsed": false
   },
   "outputs": [
    {
     "ename": "NameError",
     "evalue": "name 'find_zipcodes' is not defined",
     "output_type": "error",
     "traceback": [
      "\u001b[0;31m---------------------------------------------------------------------------\u001b[0m",
      "\u001b[0;31mNameError\u001b[0m                                 Traceback (most recent call last)",
      "\u001b[0;32m<ipython-input-82-1131dd3bc637>\u001b[0m in \u001b[0;36m<module>\u001b[0;34m()\u001b[0m\n\u001b[0;32m----> 1\u001b[0;31m \u001b[0mfind_zipcodes\u001b[0m\u001b[0;34m(\u001b[0m\u001b[0minput_str\u001b[0m\u001b[0;34m)\u001b[0m \u001b[0;31m#evaluate to ['12345','45678']\u001b[0m\u001b[0;34m\u001b[0m\u001b[0m\n\u001b[0m",
      "\u001b[0;31mNameError\u001b[0m: name 'find_zipcodes' is not defined"
     ]
    }
   ],
   "source": [
    "find_zipcodes(input_str) #evaluate to ['12345','45678']"
   ]
  },
  {
   "cell_type": "code",
   "execution_count": 83,
   "metadata": {
    "collapsed": false
   },
   "outputs": [
    {
     "name": "stdout",
     "output_type": "stream",
     "text": [
      "['12345', '45678', '23456']\n"
     ]
    }
   ],
   "source": [
    "input_str = \"here's a zip code: 12345. 567 isn't a zip code, but 45678 is. 23456? yet another zip code.\"\n",
    "current = \"\"\n",
    "zips = []\n",
    "for ch in input_str:\n",
    "    if ch in '0123456789':\n",
    "        current += ch\n",
    "    else:\n",
    "        current = \"\"\n",
    "    if len(current) == 5:\n",
    "        zips.append(current)\n",
    "        current = \"\"\n",
    "print zips"
   ]
  },
  {
   "cell_type": "code",
   "execution_count": 94,
   "metadata": {
    "collapsed": false
   },
   "outputs": [
    {
     "data": {
      "text/plain": [
       "('enronsubjects.txt', <httplib.HTTPMessage instance at 0x1098142d8>)"
      ]
     },
     "execution_count": 94,
     "metadata": {},
     "output_type": "execute_result"
    }
   ],
   "source": [
    "import urllib\n",
    "urllib.urlretrieve(\"https://raw.githubusercontent.com/ledeprogram/courses/master/databases/data/enronsubjects.txt\", \"enronsubjects.txt\")"
   ]
  },
  {
   "cell_type": "code",
   "execution_count": 95,
   "metadata": {
    "collapsed": false
   },
   "outputs": [
    {
     "data": {
      "text/plain": [
       "['Re:',\n",
       " 'ALLEN DURANGO HOTEL ------- 48 HR CANCEL',\n",
       " 'ALLEN DURANGO HOTEL ------- 48 HR CANCEL',\n",
       " 'ALLEN DURANGO HOTEL ------- 48 HR CANCEL',\n",
       " 'Just Released! Exclusive new animation from Stan Lee',\n",
       " 'Just Released! Exclusive new animation from Stan Lee',\n",
       " 'Re: Feb. Expense Report',\n",
       " 'Re: 91acres',\n",
       " \"PIRA's California/Southwest Gas Pipeline Study\",\n",
       " \"PIRA's California/Southwest Gas Pipeline Study\",\n",
       " \"PIRA's California/Southwest Gas Pipeline Study\",\n",
       " 'Re: Desk to Desk access Request',\n",
       " 'Re: February expenses',\n",
       " 'Re:',\n",
       " 'Storage of Cycles at the Body Shop',\n",
       " 'Storage of Cycles at the Body Shop',\n",
       " 'New Generation as of Oct 24th',\n",
       " 'New Generation as of Oct 24th',\n",
       " 'Western Strategy Briefing',\n",
       " 'Western Strategy Briefing',\n",
       " 'RE: W basis quotes',\n",
       " 'RE: W basis quotes',\n",
       " 'RE: W basis quotes',\n",
       " 'RE: W basis quotes',\n",
       " 'Re: APEA - $228,204 hit',\n",
       " 'Re: W basis quotes',\n",
       " 'Re: January El paso invoice',\n",
       " 'Re: Kim Olinger - Transport Rate Team',\n",
       " 'Re: APEA - $228,204 hit',\n",
       " 'Re: Curve Update',\n",
       " 'Re: Website Access approval requested',\n",
       " 'Re: Vishal Apte',\n",
       " 'dopewars',\n",
       " 'dopewars',\n",
       " 'dopewars',\n",
       " 'RE: Choosing a style',\n",
       " 'RE: Choosing a style',\n",
       " 'Choosing a style',\n",
       " 'Re:',\n",
       " 'Re: ENROLLMENT CONFIRMATION/Impact/ECT',\n",
       " 'eol',\n",
       " 'Re: Resumes',\n",
       " 'Re:',\n",
       " 'Re:',\n",
       " 'Re: receipts',\n",
       " 'Re: Are you trying to be funny?',\n",
       " 'Stick it in your Shockmachine!',\n",
       " 'Stick it in your Shockmachine!',\n",
       " 'Talking points about California Gas market',\n",
       " 'Talking points about California Gas market',\n",
       " 'Resumes',\n",
       " 'Resumes',\n",
       " 'Re: 2- SURVEY/INFORMATION EMAIL 5-14- 01',\n",
       " '2- SURVEY/INFORMATION EMAIL 5-14- 01',\n",
       " 'Re:',\n",
       " 'California Summary',\n",
       " 'California Summary',\n",
       " 'Additional California Load Information',\n",
       " 'Re: Western Wholesale Activities - Gas & Power Conf. Call',\n",
       " 'Re: Western Wholesale Activities - Gas & Power Conf. Call',\n",
       " 'Re: Western Wholesale Activities - Gas & Power Conf. Call',\n",
       " 'California Update 5/4/01',\n",
       " 'California Update 5/4/01',\n",
       " 'Re: Western Wholesale Activities - Gas & Power Conf. Call',\n",
       " 'Re: Western Wholesale Activities - Gas & Power Conf. Call',\n",
       " 'Re: Western Wholesale Activities - Gas & Power Conf. Call',\n",
       " 'Re:',\n",
       " 'Re: Inquiry....',\n",
       " 'Re: 2- SURVEY - PHILLIP ALLEN',\n",
       " 'Re: 2- SURVEY - PHILLIP ALLEN',\n",
       " '4-URGENT - OWA Please print this now.',\n",
       " '4-URGENT - OWA Please print this now.',\n",
       " '2- SURVEY/INFORMATION EMAIL',\n",
       " '2- SURVEY/INFORMATION EMAIL',\n",
       " 'Re: Request from Steve Kean',\n",
       " 'Request from Steve Kean',\n",
       " 'Request from Steve Kean',\n",
       " 'Request from Steve Kean',\n",
       " 'Request from Steve Kean',\n",
       " 'Request from Steve Kean',\n",
       " 'Request from Steve Kean',\n",
       " 'Re: Analyst Resume - Rafael Avila',\n",
       " 'Re: Inquiry....',\n",
       " 'Re: Leander etc.',\n",
       " 'Re:',\n",
       " \"Re: FERC's Prospective Mitigation and Monitoring Plan for CA\",\n",
       " 'Re: Unocal WAHA Storage',\n",
       " \"Re: This morning's Commission meeting delayed\",\n",
       " \"Re: This morning's Commission meeting delayed\",\n",
       " \"Re: This morning's Commission meeting delayed\",\n",
       " \"Re: This morning's Commission meeting delayed\",\n",
       " 'Re: Instructions for FERC Meetings',\n",
       " 'Instructions for FERC Meetings',\n",
       " 'Instructions for FERC Meetings',\n",
       " 'Instructions for FERC Meetings',\n",
       " 'Re:',\n",
       " 'Generation',\n",
       " 'Generation',\n",
       " 'Re: The Stage',\n",
       " 'Re: Analyst Ashish Mahajan',\n",
       " 'Re: Resume',\n",
       " 'Re: Analyst Bryan Hull',\n",
       " 'Re: FW: Trading Track Program',\n",
       " 'Re: Do you still access data from Inteligence Press online??',\n",
       " 'RE: Presentation to Trading Track A&A',\n",
       " 'RE: Presentation to Trading Track A&A',\n",
       " 'Re: Presentation to Trading Track A&A',\n",
       " 'Re: Approval for Plasma Screens',\n",
       " 'Re: Resume',\n",
       " 'Re: FW: 2nd lien info. and private lien info - The Stage Coach',\n",
       " 'Re: Presentation to Trading Track A&A',\n",
       " 'approved trader list',\n",
       " 'approved trader list',\n",
       " 'Re: insurance - the stage',\n",
       " 'RE: The Stage',\n",
       " 'Re: The Stage',\n",
       " 'CAISO demand reduction',\n",
       " 'CAISO demand reduction',\n",
       " 'Re: FW: SanJuan/SoCal spread prices',\n",
       " 'Re: SanJuan/SoCal spread prices',\n",
       " 'SanJuan/SoCal spread prices',\n",
       " 'SanJuan/SoCal spread prices',\n",
       " 'Re:',\n",
       " 'Re: Astral downtime request',\n",
       " 'Re: Answers to List',\n",
       " 'EES Gas Desk Happy Hour',\n",
       " 'EES Gas Desk Happy Hour',\n",
       " 'Re: Location',\n",
       " 'Enron Center Garage',\n",
       " 'Enron Center Garage',\n",
       " 'Re:',\n",
       " 'Re: Approval for Plasma Screens',\n",
       " 'Nondeliverable mail',\n",
       " 'Nondeliverable mail',\n",
       " 'Nondeliverable mail',\n",
       " 'Nondeliverable mail',\n",
       " 'Re: Opening Day - Baseball Tickets',\n",
       " 'November fixed-price deals',\n",
       " 'November fixed-price deals',\n",
       " 'Re: NGI access to eol',\n",
       " 'Re: NGI access to eol',\n",
       " 'Re: Derek Kelly',\n",
       " 'Re: Purchase and Sale Agreement',\n",
       " 'Current Gas Desk List',\n",
       " 'Current Gas Desk List',\n",
       " 'Re:',\n",
       " 'Re: Buyout',\n",
       " 'ERMS / RMS Databases',\n",
       " 'ERMS / RMS Databases',\n",
       " 'RE: Buyout',\n",
       " 'RE: Buyout',\n",
       " 'Re: Buyout',\n",
       " 'Your Approval is Overdue: Access Request for mike.grigsby@enron.com',\n",
       " 'Your Approval is Overdue: Access Request for mike.grigsby@enron.com',\n",
       " 'Re: Buyout',\n",
       " 'Matt Smith',\n",
       " 'Matt Smith',\n",
       " 'Re: Confidential Employee Information/Lenhart',\n",
       " 'Behind the Stage Two',\n",
       " 'Behind the Stage Two',\n",
       " 'RE: PERSONAL AND CONFIDENTIAL COMPENSATION INFORMATION',\n",
       " 'Re: (No Subject)',\n",
       " 'Sagewood M/F',\n",
       " 'Sagewood M/F',\n",
       " 'Bishops Corner, Ltd. Buyout',\n",
       " 'Bishops Corner, Ltd. Buyout',\n",
       " 'Bishops Corner, Ltd. -- Restructure or Buyout',\n",
       " 'Bishops Corner, Ltd. Buyout',\n",
       " 'Bishops Corner, Ltd. Buyout',\n",
       " 'Bishops Corner, Ltd. -- Restructure or Buyout',\n",
       " 'FW: ALL 1099 TAX QUESTIONS - ANSWERED',\n",
       " 'FW: ALL 1099 TAX QUESTIONS - ANSWERED',\n",
       " 'matt Smith',\n",
       " 'matt Smith',\n",
       " 'Mike Grigsby',\n",
       " 'Sagewood Phase II',\n",
       " 'Sagewood Phase II',\n",
       " 'Sagewood Phase II',\n",
       " 'Re: San Marcos',\n",
       " 'Revised Long Range Hydro Forecast',\n",
       " 'Revised Long Range Hydro Forecast',\n",
       " 'RE: the stage',\n",
       " 'Re: the stage',\n",
       " 'Re: password',\n",
       " 'Re: MS 150',\n",
       " 'FW: Cross Commodity',\n",
       " 'FW: Cross Commodity',\n",
       " 'Cross Commodity',\n",
       " 'Re: Insight Hardware',\n",
       " 'Re: Producer Services',\n",
       " \"Re: Enron's March Basdeload Fixed price physical deals as of 2/27\",\n",
       " \"Re: Enron's March Basdeload Fixed price physical deals as of 2/27\",\n",
       " \"Re: Enron's March Basdeload Fixed price physical deals as of 2/27\",\n",
       " \"Re: Enron's March Basdeload Fixed price physical deals as of 2/27\",\n",
       " 'San Marcos construction project',\n",
       " 'Re: Genesis Plant Tour',\n",
       " 'RE: Comparison of Estimates',\n",
       " 'Sagewood II',\n",
       " 'Sagewood II',\n",
       " 'New Generation Report for January 2001',\n",
       " 'New Generation Report for January 2001',\n",
       " 'Re: Comparison of Estimates',\n",
       " 'Recession Scenario Impact on Power and Gas',\n",
       " 'Recession Scenario Impact on Power and Gas',\n",
       " 'SM134 Proforma2.xls',\n",
       " 'SM134 Proforma2.xls',\n",
       " 'Re: Weekly Status Meeting',\n",
       " 'Weekly Status Meeting',\n",
       " 'Weekly Status Meeting',\n",
       " 'leander and the Stage',\n",
       " 'leander and the Stage',\n",
       " 'Daily California Call Moved to Weekly Call',\n",
       " 'Daily California Call Moved to Weekly Call',\n",
       " 'SM134 Proforma2.xls',\n",
       " 'SM134 Proforma2.xls',\n",
       " 'Re: FW: Change in the agroup Cycling Schedule',\n",
       " 'Re: General Issues',\n",
       " 'Re:',\n",
       " 'Re: General Issues',\n",
       " 'Re: DRAW2.xls',\n",
       " 'Re:',\n",
       " 'DRAW2.xls',\n",
       " 'DRAW2.xls',\n",
       " 'RE:',\n",
       " 'RE:',\n",
       " 'Re: MAI Appraisal',\n",
       " 'RE:',\n",
       " 'RE:',\n",
       " 'RE:',\n",
       " 'Re:',\n",
       " 'CERA Analysis - California',\n",
       " 'CERA Analysis - California',\n",
       " 'Re: Great Web Site',\n",
       " 'Re: EXTRINSIC VALUE WORKSHEET',\n",
       " 'Re: AEC Volumes at OPAL',\n",
       " 'Re: AEC Volumes at OPAL',\n",
       " 'AEC Volumes at OPAL',\n",
       " 'AEC Volumes at OPAL',\n",
       " 'California Gas Demand Growth',\n",
       " 'California Gas Demand Growth',\n",
       " 'the stage',\n",
       " 'the stage',\n",
       " 'Investment Structure',\n",
       " 'Investment Structure',\n",
       " 'Re: stage coach',\n",
       " 'Governor Reports Results of 1st RFP -- ONLY 500 MW!!!!',\n",
       " 'Governor Reports Results of 1st RFP -- ONLY 500 MW!!!!',\n",
       " 'Smeltering',\n",
       " 'Smeltering',\n",
       " 'Re: Listing of Desk Directors',\n",
       " 'Re: Pipe Options Book Admin Role',\n",
       " 're: book admin for Pipe/Gas daily option book',\n",
       " 're: book admin for Pipe/Gas daily option book',\n",
       " 're: book admin for Pipe/Gas daily option book',\n",
       " 'final business points',\n",
       " 're: book admin for Pipe/Gas daily option book',\n",
       " 're: book admin for Pipe/Gas daily option book',\n",
       " 'RE: Phillip Allen Response on Partnership Issues',\n",
       " 'Re: web site',\n",
       " 'Re: web site',\n",
       " 'Re: Enron',\n",
       " 'Re: The Stage',\n",
       " 'Highlights of Executive Summary by KPMG -- CPUC Audit Report on',\n",
       " 'Highlights of Executive Summary by KPMG -- CPUC Audit Report on=20',\n",
       " 'CPUC posts audit reports',\n",
       " 'CPUC posts audit reports',\n",
       " 'Re: Bishops Corner Partnership',\n",
       " 'RE:Stock Options',\n",
       " 'RE:Stock Options',\n",
       " 'Re: 32 acres',\n",
       " 'Re: SM134',\n",
       " 'Re: SM134',\n",
       " 'RE: Loan for San Marcos',\n",
       " 'Re: NGI access to eol',\n",
       " 'Enron',\n",
       " 'NGI access to eol',\n",
       " 'NGI access to eol',\n",
       " 'Status of QF negotiations on QFs & Legislative Update',\n",
       " 'Status of QF negotiations on QFs & Legislative Update',\n",
       " 'Status of QF negotiations on QFs & Legislative Update',\n",
       " 'Analyst Interviews Needed - 2/15/01',\n",
       " 'Analyst Interviews Needed - 2/15/01',\n",
       " 'Re: Resume',\n",
       " 'Kidventure Camp',\n",
       " 'Kidventure Camp',\n",
       " 'Re: Draft of Opposition to ORA/TURN petition',\n",
       " 'Re: Draft of Opposition to ORA/TURN petition',\n",
       " 'Re: Response to PGE request for gas',\n",
       " 'Re: Response to PGE request for gas',\n",
       " 'Response to PGE request for gas',\n",
       " 'Re: Please respond',\n",
       " 'Re: Please respond',\n",
       " 'California Action Update 1-14-00',\n",
       " 'California Action Update 1-14-00',\n",
       " 'California - Jan 13 meeting',\n",
       " 'California - Jan 13 meeting',\n",
       " 'Re:',\n",
       " 'Re: Analyst Rotating',\n",
       " 'Re: EOL Screens in new Body Shop',\n",
       " 'Analyst Rotating']"
      ]
     },
     "execution_count": 95,
     "metadata": {},
     "output_type": "execute_result"
    }
   ],
   "source": [
    "subjects = [x.strip() for x in open(\"enronsubjects.txt\").readlines()]\n",
    "subjects[200:500]"
   ]
  },
  {
   "cell_type": "code",
   "execution_count": 96,
   "metadata": {
    "collapsed": false
   },
   "outputs": [
    {
     "data": {
      "text/plain": [
       "176825"
      ]
     },
     "execution_count": 96,
     "metadata": {},
     "output_type": "execute_result"
    }
   ],
   "source": [
    "len(subjects)"
   ]
  },
  {
   "cell_type": "code",
   "execution_count": 97,
   "metadata": {
    "collapsed": false
   },
   "outputs": [
    {
     "data": {
      "text/plain": [
       "['FW: How to use UPS for shipping on the internet',\n",
       " 'FW: How to use UPS for shipping on the internet',\n",
       " 'How to use UPS for shipping on the internet',\n",
       " 'FW: How to use UPS for shipping on the internet',\n",
       " 'FW: How to use UPS for shipping on the internet',\n",
       " 'How to use UPS for shipping on the internet',\n",
       " 'lng shipping/mosk meeting in tokyo 2nd of feb',\n",
       " 'lng shipping/mosk meeting in tokyo 2nd of feb',\n",
       " 'Re: lng shipping',\n",
       " 'Re: lng shipping',\n",
       " 'Re: lng shipping',\n",
       " 'Re: lng shipping',\n",
       " 'Re: lng shipping',\n",
       " 'lng shipping',\n",
       " 'Re: lng shipping',\n",
       " 'Re: lng shipping',\n",
       " 'Re: lng shipping',\n",
       " 'lng shipping',\n",
       " 'lng shipping',\n",
       " 'lng shipping',\n",
       " 'Re: lng shipping',\n",
       " 'lng shipping']"
      ]
     },
     "execution_count": 97,
     "metadata": {},
     "output_type": "execute_result"
    }
   ],
   "source": [
    "[line for line in subjects if \"shipping\" in line]"
   ]
  },
  {
   "cell_type": "code",
   "execution_count": 98,
   "metadata": {
    "collapsed": false
   },
   "outputs": [
    {
     "data": {
      "text/plain": [
       "['FW: How to use UPS for shipping on the internet',\n",
       " 'FW: How to use UPS for shipping on the internet',\n",
       " 'How to use UPS for shipping on the internet',\n",
       " 'FW: How to use UPS for shipping on the internet',\n",
       " 'FW: How to use UPS for shipping on the internet',\n",
       " 'How to use UPS for shipping on the internet',\n",
       " 'lng shipping/mosk meeting in tokyo 2nd of feb',\n",
       " 'lng shipping/mosk meeting in tokyo 2nd of feb',\n",
       " 'Re: lng shipping',\n",
       " 'Re: lng shipping',\n",
       " 'Re: lng shipping',\n",
       " 'Re: lng shipping',\n",
       " 'Re: lng shipping',\n",
       " 'lng shipping',\n",
       " 'Re: lng shipping',\n",
       " 'Re: lng shipping',\n",
       " 'Re: lng shipping',\n",
       " 'lng shipping',\n",
       " 'lng shipping',\n",
       " 'lng shipping',\n",
       " 'Re: lng shipping',\n",
       " 'lng shipping']"
      ]
     },
     "execution_count": 98,
     "metadata": {},
     "output_type": "execute_result"
    }
   ],
   "source": [
    "import re\n",
    "[line for line in subjects if re.search(\"shipping\", line)]"
   ]
  },
  {
   "cell_type": "markdown",
   "metadata": {},
   "source": [
    "####metacharcters"
   ]
  },
  {
   "cell_type": "code",
   "execution_count": 100,
   "metadata": {
    "collapsed": false
   },
   "outputs": [
    {
     "data": {
      "text/plain": [
       "['FW: How to use UPS for shipping on the internet',\n",
       " 'FW: How to use UPS for shipping on the internet',\n",
       " 'How to use UPS for shipping on the internet',\n",
       " 'FW: How to use UPS for shipping on the internet',\n",
       " 'FW: How to use UPS for shipping on the internet',\n",
       " 'How to use UPS for shipping on the internet',\n",
       " \"FW: We've been shopping!\",\n",
       " 'Re: Start shopping...',\n",
       " 'Start shopping...',\n",
       " 'lng shipping/mosk meeting in tokyo 2nd of feb',\n",
       " 'lng shipping/mosk meeting in tokyo 2nd of feb',\n",
       " 'Re: lng shipping',\n",
       " 'Re: lng shipping',\n",
       " 'Re: lng shipping',\n",
       " 'Re: lng shipping',\n",
       " 'Re: lng shipping',\n",
       " 'lng shipping',\n",
       " 'Re: lng shipping',\n",
       " 'Re: lng shipping',\n",
       " 'Re: lng shipping',\n",
       " 'lng shipping',\n",
       " 'lng shipping',\n",
       " 'lng shipping',\n",
       " 'Re: lng shipping',\n",
       " 'lng shipping',\n",
       " 'FW: Online shopping',\n",
       " 'Online shopping']"
      ]
     },
     "execution_count": 100,
     "metadata": {},
     "output_type": "execute_result"
    }
   ],
   "source": [
    "import re\n",
    "[line for line in subjects if re.search(\"sh.pping\", line)]\n",
    "\n",
    "#  . match any character"
   ]
  },
  {
   "cell_type": "code",
   "execution_count": 101,
   "metadata": {
    "collapsed": true
   },
   "outputs": [],
   "source": [
    "# .  match any character\n",
    "# \\w alphanum A-Z,a-z,0-9,\n",
    "# \\s whitespace character\n",
    "# \\S non-whitespace character\n",
    "# \\d digit\n",
    "# \\. period"
   ]
  },
  {
   "cell_type": "code",
   "execution_count": 102,
   "metadata": {
    "collapsed": false
   },
   "outputs": [
    {
     "data": {
      "text/plain": [
       "['RE: 3:17pm',\n",
       " '3:17pm',\n",
       " \"RE: It's On!!! - 2:00pm Today\",\n",
       " \"FW: It's On!!! - 2:00pm Today\",\n",
       " \"It's On!!! - 2:00pm Today\",\n",
       " 'Re: Registration Confirmation: Larry Summers on 12/6 at 1:45pm (was',\n",
       " 'Re: Conference Call today 2/9/01 at 11:15am PST',\n",
       " 'Conference Call today 2/9/01 at 11:15am PST',\n",
       " '5/24 1:00pm conference call.',\n",
       " '5/24 1:00pm conference call.',\n",
       " 'FW: 07:33am EDT 15-Aug-01 Prudential Securities (C',\n",
       " 'FW: 07:33am EDT 15-Aug-01 Prudential Securities (C',\n",
       " '07:33am EDT 15-Aug-01 Prudential Securities (C',\n",
       " \"Re: Updated Mar'00 Requirements Received at 11:25am from CES\",\n",
       " \"Re: Updated Mar'00 Requirements Received at 11:25am from CES\",\n",
       " \"Re: Updated Mar'00 Requirements Received at 11:25am from CES\",\n",
       " \"Updated Mar'00 Requirements Received at 11:25am from CES\",\n",
       " 'Reminder: Legal Team Meeting -- Friday, 9:00am Houston time',\n",
       " 'Thursday, March 7th 1:30-3:00pm: REORIENTATION',\n",
       " 'Meeting at 2:00pm Friday',\n",
       " 'Meeting at 2:00pm Friday',\n",
       " 'Fw: 12:30pm Deadline for changes to letters or contracts today',\n",
       " '12:30pm Deadline for changes to letters or contracts today',\n",
       " 'Johnathan actually resigned at 9:00am this morning',\n",
       " 'FW: Enron Conference Call Today, 11:00am CST',\n",
       " 'Enron Conference Call Today, 11:00am CST',\n",
       " 'Meeting, Wednesday, January 23 at 10:00am at the Houstonian',\n",
       " 'RE: TVA Meeting, Wednesday June13, 1:15pm, EB3125b',\n",
       " 'TVA Meeting, Wednesday June13, 1:15pm, EB3125b',\n",
       " 'Re: Dabhol Update: Conference Call Thursday, Dec. 28, 8:00am',\n",
       " 'Dabhol Update: Conference Call Thursday, Dec. 28, 8:00am Houston time',\n",
       " 'FW: Victoria Ashley Jones Born 5/25/01 7:31am.',\n",
       " 'Fw: Victoria Ashley Jones Born 5/25/01 7:31am.',\n",
       " 'Victoria Ashley Jones Born 5/25/01 7:31am.',\n",
       " 'RE: Victoria Ashley Jones Born 5/25/01 7:31am.',\n",
       " 'Fw: Victoria Ashley Jones Born 5/25/01 7:31am.',\n",
       " 'Victoria Ashley Jones Born 5/25/01 7:31am.',\n",
       " 'RE: UCSF Cogen Calculation Conf Call, 10/12/01 at 8:00am PST',\n",
       " 'UCSF Cogen Calculation Conf Call, 10/12/01 at 8:00am PST',\n",
       " 'FW: Confirmation:  UCSF Cogen Conf Call. 10/22/02 at 8:00am',\n",
       " '=09RE: Confirmation:  UCSF Cogen Conf Call. 10/22/02 at 8:00am PST/=',\n",
       " '=09Confirmation:  UCSF Cogen Conf Call. 10/22/02 at 8:00am PST/10:0=',\n",
       " 'RE: Confirmation:  UCSF Cogen Conf Call. 10/22/02 at 8:00am',\n",
       " '=09Confirmation:  UCSF Cogen Conf Call. 10/22/02 at 8:00am PST/10:0=',\n",
       " 'Re: March expenses - deadline 04-04-01 2:00pm',\n",
       " 'Cirque - Jan 24 5:00pm show']"
      ]
     },
     "execution_count": 102,
     "metadata": {},
     "output_type": "execute_result"
    }
   ],
   "source": [
    "[line for line in subjects if re.search(r\"\\d:\\d\\d\\wm\", line)]"
   ]
  },
  {
   "cell_type": "markdown",
   "metadata": {},
   "source": [
    "## What about that r\"\""
   ]
  },
  {
   "cell_type": "code",
   "execution_count": 104,
   "metadata": {
    "collapsed": false
   },
   "outputs": [
    {
     "name": "stdout",
     "output_type": "stream",
     "text": [
      "this is\n",
      "a test\n",
      "this is\\na test\n",
      "I love \\ backslashes!\n",
      "I love \\ backslashes!\n"
     ]
    }
   ],
   "source": [
    "print \"this is\\na test\"\n",
    "print r\"this is\\na test\"\n",
    "print \"I love \\\\ backslashes!\"\n",
    "print r\"I love \\ backslashes!\""
   ]
  },
  {
   "cell_type": "code",
   "execution_count": 105,
   "metadata": {
    "collapsed": false
   },
   "outputs": [
    {
     "data": {
      "text/plain": [
       "<_sre.SRE_Match at 0x10837b988>"
      ]
     },
     "execution_count": 105,
     "metadata": {},
     "output_type": "execute_result"
    }
   ],
   "source": [
    "re.search(r\"\\bhello\\b\",\"hello there\")"
   ]
  },
  {
   "cell_type": "code",
   "execution_count": 106,
   "metadata": {
    "collapsed": false
   },
   "outputs": [
    {
     "name": "stdout",
     "output_type": "stream",
     "text": [
      "\b\n"
     ]
    }
   ],
   "source": [
    "print \"\\b\""
   ]
  },
  {
   "cell_type": "markdown",
   "metadata": {},
   "source": [
    "##Character Classes"
   ]
  },
  {
   "cell_type": "code",
   "execution_count": 108,
   "metadata": {
    "collapsed": false
   },
   "outputs": [
    {
     "data": {
      "text/plain": [
       "\"\\n[aeiou] match any vowel\\n[02468] match any even digit\\n[Ed] match either 'E' or 'e'\\n\""
      ]
     },
     "execution_count": 108,
     "metadata": {},
     "output_type": "execute_result"
    }
   ],
   "source": [
    "'''\n",
    "[aeiou] match any vowel\n",
    "[02468] match any even digit\n",
    "[Ed] match either 'E' or 'e'\n",
    "[a-z] match all the alphbetics in lower case\n",
    "\n",
    "'''"
   ]
  },
  {
   "cell_type": "code",
   "execution_count": 110,
   "metadata": {
    "collapsed": false
   },
   "outputs": [
    {
     "data": {
      "text/plain": [
       "['Re: Natural gas quote for Louiisiana-Pacific (L-P)',\n",
       " 'WooooooHoooooo more Vacation',\n",
       " 'Re: Clickpaper Counterparties waiting to clear the work queue',\n",
       " 'Gooooooooooood Bye!',\n",
       " 'Gooooooooooood Bye!',\n",
       " 'RE: Hello Sweeeeetie',\n",
       " 'Hello Sweeeeetie',\n",
       " 'FW: Waaasssaaaaabi !',\n",
       " 'FW: Waaasssaaaaabi !',\n",
       " 'FW: Waaasssaaaaabi !',\n",
       " 'FW: Waaasssaaaaabi !',\n",
       " 'Re: FW: Wasss Uuuuuup STG?',\n",
       " 'RE: Rrrrrrrooooolllllllllllll TIDE!!!!!!!!',\n",
       " 'Rrrrrrrooooolllllllllllll TIDE!!!!!!!!',\n",
       " 'FW: The Osama Bin Laden Song ( Soooo Funny !! )',\n",
       " 'Fw: The Osama Bin Laden Song ( Soooo Funny !! )',\n",
       " 'The Osama Bin Laden Song ( Soooo Funny !! )',\n",
       " 'RE: duuuuhhhhh',\n",
       " 'RE: duuuuhhhhh',\n",
       " 'RE: duuuuhhhhh',\n",
       " 'duuuuhhhhh',\n",
       " 'RE: duuuuhhhhh',\n",
       " 'duuuuhhhhh',\n",
       " 'RE: FPL Queue positions 1-15',\n",
       " 'Re: FPL Queue positions 1-15',\n",
       " 'Re: Helloooooo!!!',\n",
       " 'Re: Helloooooo!!!',\n",
       " 'Fw: FW: OOOooooops',\n",
       " 'FW: FW: OOOooooops',\n",
       " 'Re: yeeeeha',\n",
       " 'yeeeeha',\n",
       " 'yahoooooooooooooooooooo',\n",
       " 'RE: yahoooooooooooooooooooo',\n",
       " 'RE: yahoooooooooooooooooooo',\n",
       " 'yahoooooooooooooooooooo',\n",
       " 'RE: I hate yahooooooooooooooo',\n",
       " 'I hate yahooooooooooooooo',\n",
       " 'RE: I hate yahooooooooooooooo',\n",
       " 'I hate yahooooooooooooooo',\n",
       " 'RE: I hate yahooooooooooooooo',\n",
       " 'I hate yahooooooooooooooo',\n",
       " 'RE: I hate yahooooooooooooooo',\n",
       " 'I hate yahooooooooooooooo',\n",
       " \"FW: duuuuuuuuuuuuuuuuude...........what's up?\",\n",
       " \"RE: duuuuuuuuuuuuuuuuude...........what's up?\",\n",
       " \"RE: duuuuuuuuuuuuuuuuude...........what's up?\",\n",
       " 'Re: skiiiiiiiiing',\n",
       " 'skiiiiiiiiing',\n",
       " 'scuba dooooooooooooo',\n",
       " 'RE: scuba dooooooooooooo',\n",
       " 'RE: scuba dooooooooooooo',\n",
       " 'scuba dooooooooooooo',\n",
       " 'Re: skiiiiiiiing',\n",
       " 'skiiiiiiiing',\n",
       " 'Re: skiiiiiiiing',\n",
       " 'Re: skiiiiiiiiing',\n",
       " \"RE: Clickpaper CP's awaiting migration in work queue's 06/27/01\",\n",
       " \"FW: Clickpaper CP's awaiting migration in work queue's 06/27/01\",\n",
       " \"Clickpaper CP's awaiting migration in work queue's 06/27/01\",\n",
       " 'RE:  Sequoia Adv. Pro.: Draft Stipulation and Order',\n",
       " 'FW: Sequoia Adv. Pro.: Draft Stipulation and Order',\n",
       " 'Sequoia Adv. Pro.: Draft Stipulation and Order',\n",
       " 'Re: FW: Sequoia Adv. Pro.: Draft Stipulation and Order',\n",
       " 'FW: Sequoia Adv. Pro.: Draft Stipulation and Order',\n",
       " 'FW: Sequoia Adv. Pro.: Draft Stipulation and Order',\n",
       " 'Fw: Sequoia Adv. Pro.: Draft Stipulation and Order',\n",
       " 'Sequoia Adv. Pro.: Draft Stipulation and Order',\n",
       " 'Sequoia Adv. Pro.: Draft Stipulation and Order',\n",
       " 'i would have done this but i was toooo busy.....']"
      ]
     },
     "execution_count": 110,
     "metadata": {},
     "output_type": "execute_result"
    }
   ],
   "source": [
    "[line for line in subjects if re.search(r\"[aeiou][aeiou][aeiou][aeiou]\", line)]"
   ]
  },
  {
   "cell_type": "markdown",
   "metadata": {},
   "source": [
    "## Anchors\n",
    "matches a position inside of a string"
   ]
  },
  {
   "cell_type": "code",
   "execution_count": 111,
   "metadata": {
    "collapsed": true
   },
   "outputs": [],
   "source": [
    "# ^  match at beginning of string\n",
    "# $  match at end of string\n",
    "# \\b match at word boundary"
   ]
  },
  {
   "cell_type": "code",
   "execution_count": 112,
   "metadata": {
    "collapsed": false
   },
   "outputs": [
    {
     "data": {
      "text/plain": [
       "['New York Details',\n",
       " 'New York Power Authority',\n",
       " 'New York Power Authority',\n",
       " 'New York Power Authority',\n",
       " 'New York Power Authority',\n",
       " 'New York',\n",
       " 'New York',\n",
       " 'New York',\n",
       " 'New York, etc.',\n",
       " 'New York, etc.',\n",
       " 'New York sites',\n",
       " 'New York Hotel',\n",
       " 'New York Hotel',\n",
       " 'New York Hotel',\n",
       " 'New York Hotel',\n",
       " 'New York',\n",
       " 'New York',\n",
       " 'New York City Marathon Guaranteed Entry',\n",
       " 'New York State Electric & Gas Corporation (\"NYSEG\")',\n",
       " 'New York State Electric & Gas Corporation (\"NYSEG\")',\n",
       " 'New York State Electric & Gas Corporation (\"NYSEG\")',\n",
       " 'New York State Electric & Gas (\"NYSEG\")',\n",
       " 'New York regulatory restriccions',\n",
       " 'New York regulatory restriccions',\n",
       " 'New York Bar Numbers']"
      ]
     },
     "execution_count": 112,
     "metadata": {},
     "output_type": "execute_result"
    }
   ],
   "source": [
    "[line for line in subjects if re.search(r\"^New York\", line)]"
   ]
  },
  {
   "cell_type": "code",
   "execution_count": 114,
   "metadata": {
    "collapsed": false
   },
   "outputs": [
    {
     "data": {
      "text/plain": [
       "['New York Details',\n",
       " 'New York Power Authority',\n",
       " 'New York Power Authority',\n",
       " 'New York Power Authority',\n",
       " 'New York Power Authority',\n",
       " 'New York',\n",
       " 'New York',\n",
       " 'New York',\n",
       " 'New York, etc.',\n",
       " 'New York, etc.',\n",
       " 'New York sites',\n",
       " 'New York Hotel',\n",
       " 'New York Hotel',\n",
       " 'New York Hotel',\n",
       " 'New York Hotel',\n",
       " 'New York',\n",
       " 'New York',\n",
       " 'New York City Marathon Guaranteed Entry',\n",
       " 'new york rest reviews',\n",
       " 'New York State Electric & Gas Corporation (\"NYSEG\")',\n",
       " 'New York State Electric & Gas Corporation (\"NYSEG\")',\n",
       " 'New York State Electric & Gas Corporation (\"NYSEG\")',\n",
       " 'New York State Electric & Gas (\"NYSEG\")',\n",
       " 'New York regulatory restriccions',\n",
       " 'New York regulatory restriccions',\n",
       " 'New York Bar Numbers']"
      ]
     },
     "execution_count": 114,
     "metadata": {},
     "output_type": "execute_result"
    }
   ],
   "source": [
    "[line for line in subjects if re.search(r\"^[Nn]ew [Yy]ork\", line)]\n",
    "#make character class to put the upper and lower case in the []\n",
    "# Get all the results start with new york or New York"
   ]
  },
  {
   "cell_type": "code",
   "execution_count": 115,
   "metadata": {
    "collapsed": false
   },
   "outputs": [
    {
     "data": {
      "text/plain": [
       "['Re: Inquiry....',\n",
       " 'Re: Inquiry....',\n",
       " 'RE: the candidate we spoke about this morning...',\n",
       " 'the candidate we spoke about this morning...',\n",
       " 'RE: the candidate we spoke about this morning...',\n",
       " 'RE: the candidate we spoke about this morning...',\n",
       " 'RE: the candidate we spoke about this morning...',\n",
       " 'the candidate we spoke about this morning...',\n",
       " 'RE: the candidate we spoke about this morning...',\n",
       " 'RE: the candidate we spoke about this morning...',\n",
       " 'RE: the candidate we spoke about this morning...',\n",
       " 'the candidate we spoke about this morning...',\n",
       " 'Re: Hmmmmm........',\n",
       " 'Hmmmmm........',\n",
       " 'FW: Bumping into the husband....',\n",
       " 'FW: Bumping into the husband....',\n",
       " 'RE: try this one...',\n",
       " 'RE: try this one...',\n",
       " 'Re: try this one...',\n",
       " 'try this one...',\n",
       " 'RE: try this one...',\n",
       " 'RE: try this one...',\n",
       " 'Re: try this one...',\n",
       " 'try this one...',\n",
       " 'RE: try this one...',\n",
       " 'RE: try this one...',\n",
       " 'Re: try this one...',\n",
       " 'try this one...',\n",
       " 'RE: try this one...',\n",
       " 'RE: try this one...',\n",
       " 'Re: try this one...',\n",
       " 'try this one...',\n",
       " 'Re: try this one...',\n",
       " 'try this one...',\n",
       " 'Henry Hub instead of NYMEX...',\n",
       " 'Henry Hub instead of NYMEX...',\n",
       " 'Re: Henry Hub instead of NYMEX...',\n",
       " 'Henry Hub instead of NYMEX...',\n",
       " 'Transcanada Trade...',\n",
       " 'Transcanada Trade...',\n",
       " 'Here is the Article---no picture though...',\n",
       " 'Here is the Article---no picture though...',\n",
       " 'Re: ooops....',\n",
       " 'Re: ooops....',\n",
       " 'Re: ooops....',\n",
       " 'ooops....',\n",
       " 'FW: A crossroads we have all been at ...',\n",
       " 'FW: A crossroads we have all been at ...',\n",
       " 'RE: try this one...',\n",
       " 'RE: try this one...',\n",
       " 'Re: try this one...',\n",
       " 'try this one...',\n",
       " 'RE: try this one...',\n",
       " 'RE: try this one...',\n",
       " 'Re: try this one...',\n",
       " 'try this one...',\n",
       " 'FW: follow up > FW: Caltech-developed arbitrage trading technolog\\ty being assessed by Reliant Energy right now...',\n",
       " 'follow up > FW: Caltech-developed arbitrage  trading technology being assessed by Reliant Energy right  now...',\n",
       " 'Caltech-developed arbitrage trading technology  being assessed by Reliant Energy right now...',\n",
       " 'RE: try this one...',\n",
       " 'RE: try this one...',\n",
       " 'Re: try this one...',\n",
       " 'try this one...',\n",
       " \"RE: okay here's what i got on the euro...\",\n",
       " \"okay here's what i got on the euro...\",\n",
       " \"RE: okay here's what i got on the euro...\",\n",
       " 'RE: first of all...',\n",
       " 'RE: first of all...',\n",
       " 'RE: try this one...',\n",
       " 'RE: try this one...',\n",
       " 'Re: try this one...',\n",
       " 'try this one...',\n",
       " 'Re: try this one...',\n",
       " 'try this one...',\n",
       " 'RE: Follow up for Hardware Request....',\n",
       " 'Follow up for Hardware Request....',\n",
       " 'RE: Yahoo - GE Lighting Launches National Energy Program ...',\n",
       " 'RE: cheer up...',\n",
       " 'cheer up...',\n",
       " 'RE: Leaving Enron.....',\n",
       " 'Leaving Enron.....',\n",
       " 'Fwd: Revenge is a sweet thing...',\n",
       " 'Fwd: Revenge is a sweet thing...',\n",
       " 'Fwd: Revenge is a sweet thing...',\n",
       " 'Re: Got bored and...',\n",
       " 'Got bored and...',\n",
       " 'Re: Fw: [txhmed] interesting ...',\n",
       " 'Re: all Hector wants for christmas...',\n",
       " 'all Hector wants for christmas...',\n",
       " \"Re: Check out Leni's website...\",\n",
       " \"Check out Leni's website...\",\n",
       " 'my ....',\n",
       " 'my ....',\n",
       " 'Re: Just a little something to make you smile.......',\n",
       " 'Just a little something to make you smile.......',\n",
       " 'Just a little something to make you smile.......',\n",
       " 'Steamboat Vacation information...',\n",
       " 'Steamboat Vacation information...',\n",
       " 'FW: FW: (fwd) FW:  Warning from HFD...',\n",
       " 'Fw: (fwd) FW: Warning from HFD...',\n",
       " 'FW: (fwd) FW: Warning from HFD...',\n",
       " 'RE: Yeah Orange....',\n",
       " 'Yeah Orange....',\n",
       " 'RE: Yeah Orange....',\n",
       " 'RE: Yeah Orange....',\n",
       " 'Re: one last thing...',\n",
       " 'one last thing...',\n",
       " 'If you are stuck...',\n",
       " \"Re: FW: You've Been in Corporate America Too Long When...\",\n",
       " \"Re: It's true what they say...\",\n",
       " \"It's true what they say...\",\n",
       " 'Re: Todd & Things....',\n",
       " 'Todd & Things....',\n",
       " 'Re: testing....',\n",
       " \"Re: Don't send a dad...\",\n",
       " \"Don't send a dad...\",\n",
       " 'James is coming...',\n",
       " 'Re: Congratulations, etc...................',\n",
       " 'Congratulations, etc...................',\n",
       " 'RE: Fancy meeting you....',\n",
       " 'Fancy meeting you....',\n",
       " 'FW: In the spirit of cooperation...',\n",
       " 'In the spirit of cooperation...',\n",
       " 'In the spirit of cooperation...',\n",
       " 'RE: Back on the Block....',\n",
       " 'Back on the Block....',\n",
       " 'RE: A little humor for the new year....',\n",
       " 'A little humor for the new year....',\n",
       " 'RE: Infrastructure Prevents...',\n",
       " 'Infrastructure Prevents...',\n",
       " 'Re: FW: Could you please....',\n",
       " 'RE: FW: Could you please....',\n",
       " 'RE: FW: Could you please....',\n",
       " 'Re: FW: Could you please....',\n",
       " 'Re: Just Checking...',\n",
       " 'Just Checking...',\n",
       " 'RE: Vacation...',\n",
       " 'RE: Vacation...',\n",
       " 'Vacation...',\n",
       " 'FW: Vacation....',\n",
       " 'RE: Vacation....',\n",
       " 'Vacation....',\n",
       " 'FW: AA has left the building...',\n",
       " 'AA has left the building...',\n",
       " 'Re: It has been a while...',\n",
       " \"Re: Fw: it ain't easy.....\",\n",
       " 'FW: Message from Boeing.......',\n",
       " 'FW: Message from Boeing.......',\n",
       " 'FW: Message from Boeing.......',\n",
       " 'Message from Boeing.......',\n",
       " 'RE: I AM THANKFUL FOR ......',\n",
       " 'Re: I AM THANKFUL FOR ......',\n",
       " 'RE: I AM THANKFUL FOR ......',\n",
       " 'Re: I AM THANKFUL FOR ......',\n",
       " 'RE: I AM THANKFUL FOR ......',\n",
       " 'Re: I AM THANKFUL FOR ......',\n",
       " 'FW: I AM THANKFUL FOR ......',\n",
       " 'FW: I AM THANKFUL FOR ......',\n",
       " 'Re: Back in the saddle again...',\n",
       " 'Re: Back in the saddle again...',\n",
       " 'Re: Back in the saddle again...',\n",
       " 'RE: I know this sounds crazy but...',\n",
       " 'I know this sounds crazy but...',\n",
       " 'RE: By the way...',\n",
       " 'By the way...',\n",
       " \"Re: Fwd: Why you don't drink till you pass out.....\",\n",
       " \"Fwd: Why you don't drink till you pass out.....\",\n",
       " \"Fwd: Why you don't drink till you pass out.....\",\n",
       " \"Fwd: Why you don't drink till you pass out.....\",\n",
       " \"Why you don't drink till you pass out.....\",\n",
       " \"Fw: Ads you won't see...\",\n",
       " \"Fw: Ads you won't see...\",\n",
       " \"RE: FW: Nostradamus' prediction on WW3..................\",\n",
       " \"Re: FW: Nostradamus' prediction on WW3..................\",\n",
       " 'Lets get this ball rolling....',\n",
       " 'RE: Lets get the ball rolling......',\n",
       " 'RE: Lets get the ball rolling......',\n",
       " 'Lets get the ball rolling......',\n",
       " 'Tell me that....................',\n",
       " 'Re: Tell me that....................',\n",
       " 'FW: YOU WANT TO KNOW ABOUT THIS....',\n",
       " 'FW: YOU WANT TO KNOW ABOUT THIS....',\n",
       " 'Re: FW: Cash Balance Plan...',\n",
       " \"Don't forget...\",\n",
       " 'RE: Seeking info...',\n",
       " 'Seeking info...',\n",
       " 'FW: I thought you might be interested...',\n",
       " 'I thought you might be interested...',\n",
       " 'RE: Party Date...',\n",
       " 'Party Date...',\n",
       " 'Re: FW: RE: Coming Home Soon...',\n",
       " 'RE: FW: RE: Coming Home Soon...',\n",
       " 'FW: Weekend Events.........',\n",
       " 'FW: Weekend Events.........',\n",
       " 'Weekend Events.........',\n",
       " 'Re: your famous...',\n",
       " 'Re: your famous...',\n",
       " 'Even the best laid plans...',\n",
       " 'Re: Even the best laid plans...',\n",
       " 'Re: Parting is such sweet sorrow...',\n",
       " 'Parting is such sweet sorrow...',\n",
       " 'Re: Even the best laid plans...',\n",
       " 'Re: Even the best laid plans...',\n",
       " 'Re: Even the best laid plans...',\n",
       " 'Re: Even the best laid plans...',\n",
       " 'Re: Even the best laid plans...',\n",
       " 'Re: Even the best laid plans...',\n",
       " 'Re: FW: Never let a guy take a message.....',\n",
       " 'Re: And the winners are...',\n",
       " 'RE: And the winners are...',\n",
       " 'Re: And the winners are...',\n",
       " \"Re: WSJ: PG&E's Huge losses...\",\n",
       " 'RE: Here it is...',\n",
       " 'RE: Here it is...',\n",
       " 'RE: Here it is...',\n",
       " 'Here it is...',\n",
       " 'Re:RE: Here it is...',\n",
       " 'Re:RE: Here it is...',\n",
       " 'Re:Here it is...',\n",
       " 'Eeegads...',\n",
       " \"Re: FW: ok, it's a little excessive, but...\",\n",
       " \"RE: FW: ok, it's a little excessive, but...\",\n",
       " \"Re: FW: ok, it's a little excessive, but...\",\n",
       " \"RE: FW: ok, it's a little excessive, but...\",\n",
       " \"RE: FW: ok, it's a little excessive, but...\",\n",
       " \"Re: FW: ok, it's a little excessive, but...\",\n",
       " \"RE: FW: ok, it's a little excessive, but...\",\n",
       " \"RE: FW: ok, it's a little excessive, but...\",\n",
       " \"RE: FW: ok, it's a little excessive, but...\",\n",
       " \"Re: FW: ok, it's a little excessive, but...\",\n",
       " 'RE: Eeegads...',\n",
       " 'Eeegads...',\n",
       " 'help...',\n",
       " 'Re: Well...',\n",
       " 'RE: Well...',\n",
       " 'Re: Well...',\n",
       " 'Re: You forgot your wine....',\n",
       " \"RE: tell me it isn't true...\",\n",
       " \"tell me it isn't true...\",\n",
       " 'How You Should Act...........',\n",
       " 'RE: If you go a run this afternoon....',\n",
       " 'If you go a run this afternoon....',\n",
       " 'FW: You still suck at baseball....',\n",
       " 'You still suck at baseball....',\n",
       " 'FW: Primary Authority Plus...',\n",
       " 'Primary Authority Plus...',\n",
       " 'Fw: Primary Authority Plus...',\n",
       " 'Primary Authority Plus...',\n",
       " 'RE: Would like to help...',\n",
       " 'Would like to help...',\n",
       " 'FW: Would like to help...',\n",
       " 'Would like to help...',\n",
       " 'from my red neck uncle...',\n",
       " 'Your Chapters.ca Coupons ...',\n",
       " 'Your Chapters.ca Coupons ...',\n",
       " 'funny stuff about your mother...',\n",
       " 'RE: Reply to this....',\n",
       " 'RE: Reply to this....',\n",
       " 'RE: Reply to this....',\n",
       " 'RE: Reply to this....',\n",
       " 'RE: Reply to this....',\n",
       " 'RE: Reply to this....',\n",
       " 'Re: Reply to this....',\n",
       " 'Re: Reply to this....',\n",
       " 'Re: Plans...',\n",
       " 'Re: Plans...',\n",
       " 'Re: Plans...',\n",
       " 'Re: Howdy Stranger...',\n",
       " 'Help! Canadians need weather...',\n",
       " 'FW: Hilarious....',\n",
       " 'FW: Hilarious....',\n",
       " 'FW: Hilarious....',\n",
       " 'Fw: Hilarious....',\n",
       " 'FW: Hilarious....',\n",
       " \"RE: Dan's coming to town...\",\n",
       " \"Re: Dan's coming to town...\",\n",
       " \"Dan's coming to town...\",\n",
       " 'FW: Interesting...',\n",
       " 'FW: Interesting...',\n",
       " \"RE: Haven't heard from you yet......\",\n",
       " \"=09Haven't heard from you yet......\",\n",
       " 'RE: A pleasant thought for long term investors...',\n",
       " 'RE: A pleasant thought for long term investors...',\n",
       " 'A pleasant thought for long term investors...',\n",
       " 'A pleasant thought for long term investors...',\n",
       " 'RE: New Digits....',\n",
       " 'New Digits....',\n",
       " 'RE: Things we wish we could say at work...',\n",
       " 'FW: Things we wish we could say at work...',\n",
       " 'RE: PBM merger...',\n",
       " 'FW: PBM merger...',\n",
       " 'PBM merger...',\n",
       " 'funny........',\n",
       " 'Questions.........',\n",
       " 'RE: You have 44 hours remaining...',\n",
       " 'You have 44 hours remaining...',\n",
       " 'FW: guidelines....',\n",
       " 'guidelines....',\n",
       " 'Re: Daily California Update.....',\n",
       " 'Daily California Update.....',\n",
       " 'Daily California Update.....',\n",
       " 'ETS on the Move...',\n",
       " 'ETS on the Move...',\n",
       " \"Re: HELLO I'M HERE AGAIN...\",\n",
       " 'Fw: Cast your vote..........',\n",
       " 'Fw: Cast your vote..........',\n",
       " 'Fw: Cast your vote..........',\n",
       " 'Fw: Cast your vote..........',\n",
       " 'Re: Next time you see me....',\n",
       " 'RE: I need your help...',\n",
       " 'I need your help...',\n",
       " 'RE: 2 nd version of Plan...',\n",
       " '2 nd version of Plan...',\n",
       " 'FW: 2 nd version of Plan...',\n",
       " 'RE: 2 nd version of Plan...',\n",
       " '2 nd version of Plan...',\n",
       " 'Last night...',\n",
       " 'Last night...',\n",
       " 'Re: Last night...',\n",
       " 'Last night...',\n",
       " 'Hey Chris..........',\n",
       " 'Hey Chris..........',\n",
       " 'FW: Thanks!...',\n",
       " 'Re: Drinks...',\n",
       " 'Drinks...',\n",
       " 'RE: Advantages of being a man...',\n",
       " 'RE: Advantages of being a man...',\n",
       " 'Re: Advantages of being a man...',\n",
       " 'Re: Advantages of being a man...',\n",
       " 'FW: Now we know....',\n",
       " 'FW: Fun for when your bored....',\n",
       " 'FW: Fun for when your bored....',\n",
       " 'Fun for when your bored....',\n",
       " \"FW: Robin & Peter Vint's going away party -  Friday March 15th  -\\t boo hoo.....\",\n",
       " 'RE: This weekend...',\n",
       " 'This weekend...',\n",
       " 'RE: Moving on...',\n",
       " 'Moving on...',\n",
       " 'FW: A Very Cold Winter...',\n",
       " 'Fwd: Just ask a child...',\n",
       " 'Fwd: Just ask a child...',\n",
       " 'Just ask a child...',\n",
       " 'Fwd: FW: Fwd[3]:FW: For the Sportsman in all of us...',\n",
       " 'Fwd: FW: Fwd[3]:FW: For the Sportsman in all of us...',\n",
       " 'Fwd: FW: Fwd[3]:FW: For the Sportsman in all of us...',\n",
       " 'FW: Fwd[3]:FW: For the Sportsman in all of us...',\n",
       " 'About the release tomorrow...',\n",
       " 'About the release tomorrow...',\n",
       " 'Re: Two Flatscreens to be moved...',\n",
       " 'Re: Two Flatscreens to be moved...',\n",
       " 'Re: Two Flatscreens to be moved...',\n",
       " 'Two Flatscreens to be moved...',\n",
       " 'Two Flatscreens to be moved...',\n",
       " \"Fw: La medaille d'or...\",\n",
       " \"Fw: La medaille d'or...\",\n",
       " \"FW: La medaille d'or...\",\n",
       " 'Fw: FW: Paul Harvey Story ...Probably Should Circulate This One...',\n",
       " 'Fw: FW: Paul Harvey Story ...Probably Should Circulate This One...',\n",
       " 'Fwd: FW: Paul Harvey Story ...Probably Should Circulate This One...',\n",
       " 'FW: Paul Harvey Story ...Probably Should Circulate This One...',\n",
       " 'Paul Harvey Story ...Probably Should Circulate This  One...',\n",
       " 'FW: Do you remember.........',\n",
       " 'FW: Do you remember.........',\n",
       " 'FW: Do you remember.........',\n",
       " 'Fw: Priceless Series .........',\n",
       " 'Fw: Priceless Series .........',\n",
       " 'Fwd: Priceless Series .........',\n",
       " 'Re: Surround Sound...',\n",
       " 'Surround Sound...',\n",
       " 'FW: wow...',\n",
       " 'Fwd: wow...',\n",
       " 'wow...',\n",
       " 'FW: Patience...',\n",
       " 'FW: Patience...',\n",
       " 'FW: This is hillarious...',\n",
       " 'This is hillarious...',\n",
       " 'FW: Women...',\n",
       " 'Fw: Women...',\n",
       " 'FW: Women...',\n",
       " 'FW: I have moved, but my Phone has not .....',\n",
       " 'I have moved, but my Phone has not .....',\n",
       " 'FW: two sides to the story....',\n",
       " 'FW: two sides to the story....',\n",
       " 'RE: two sides to the story....',\n",
       " 'RE: two sides to the story....',\n",
       " 'FW: two sides to the story....',\n",
       " 'RE: I have moved, but my Phone has not .....',\n",
       " 'I have moved, but my Phone has not .....',\n",
       " 'FW: Voices from the past...',\n",
       " 'Fw: Voices from the past...',\n",
       " 'Voices from the past...',\n",
       " 'FW: The cost of kids...',\n",
       " 'Fw: The cost of kids...',\n",
       " 'FW: Condom Sense....',\n",
       " 'Fw: Condom Sense....',\n",
       " 'Re: Trying to reach you...',\n",
       " 'RE: Shut in comments and EOG....',\n",
       " 'FW: Shut in comments and EOG....',\n",
       " 'FW: Shut in comments and EOG....',\n",
       " 'FW: Shut in comments and EOG....',\n",
       " 'FW: new \"rules\"...',\n",
       " 'new \"rules\"...',\n",
       " 'RE: O:/ECT_Trading...',\n",
       " 'O:/ECT_Trading...',\n",
       " 'Re: Question...',\n",
       " 'NYMEX email address...',\n",
       " 'Re: NYMEX email address...',\n",
       " 'FW: FYI...',\n",
       " 'FYI...',\n",
       " 'RE: FYI...',\n",
       " 'FYI...',\n",
       " 'RE: FYI...',\n",
       " 'RE: FYI...',\n",
       " 'RE: FYI...',\n",
       " 'FYI...',\n",
       " 'RE: FYI...',\n",
       " 'RE: FYI...',\n",
       " 'FW: FYI...',\n",
       " 'FYI...',\n",
       " 'RE: FYI...',\n",
       " 'RE: FYI...',\n",
       " 'RE: FYI...',\n",
       " 'RE: FYI...',\n",
       " 'FW: FYI...',\n",
       " 'FYI...',\n",
       " 'FW: For hours of endless revenge..........',\n",
       " 'FW: For hours of endless revenge..........',\n",
       " 'FW: For hours of endless revenge..........',\n",
       " 'For hours of endless revenge..........',\n",
       " 'RE: Three new additions to the world.........',\n",
       " 'Three new additions to the world.........',\n",
       " 'FW: Complete Madness ...',\n",
       " 'FW: Complete Madness ...',\n",
       " 'FW: Complete Madness ...',\n",
       " 'FW: Three new additions to the world.........',\n",
       " 'RE: Three new additions to the world.........',\n",
       " 'Three new additions to the world.........',\n",
       " 'Re: AW: AW: I am sooo sorry...',\n",
       " 'Re: AW: I am sooo sorry...',\n",
       " 'Re: I am sooo sorry...',\n",
       " 'Delta Airlines...',\n",
       " 'Delta Airlines...',\n",
       " 'RE: How to get emails....',\n",
       " 'How to get emails....',\n",
       " 'FW: It could be worse....',\n",
       " 'FW: It could be worse....',\n",
       " 'Fwd: Life...',\n",
       " 'Fwd: Life...',\n",
       " 'Fwd: Life...',\n",
       " 'Life...',\n",
       " 'Fwd: Life...',\n",
       " 'Fwd: Life...',\n",
       " 'Fwd: Life...',\n",
       " 'Life...',\n",
       " 'FW: For our Children...',\n",
       " 'FW: For our Children...',\n",
       " 'FW: For our Children...',\n",
       " 'FW: For our Children...',\n",
       " 'FW: For our Children...',\n",
       " 'FW: For our Children...',\n",
       " 'FW: For our Children...',\n",
       " 'FW: FW: I said a prayer for you just now.......',\n",
       " 'Fwd: So Very True...',\n",
       " 'Fwd: So Very True...',\n",
       " 'Fwd: So Very True...',\n",
       " 'Fwd: So Very True...',\n",
       " 'Fwd: So Very True...',\n",
       " 'Fwd: So Very True...',\n",
       " 'Fwd: So Very True...',\n",
       " 'Fwd: So Very True...',\n",
       " 'Fwd: So Very True...',\n",
       " 'Fwd: So Very True...',\n",
       " 'Fwd: So Very True...',\n",
       " 'Fwd: So Very True...',\n",
       " 'Fwd: So Very True...',\n",
       " 'Fwd: So Very True...',\n",
       " 'Fwd: So Very True...',\n",
       " 'FW: Hope you like this poem...',\n",
       " 'FW: Hope you like this poem...',\n",
       " 'FW: Hope you like this poem...',\n",
       " 'FW: Hope you like this poem...',\n",
       " 'Fwd: So Very True...',\n",
       " 'Fwd: So Very True...',\n",
       " 'Fwd: So Very True...',\n",
       " 'Fwd: So Very True...',\n",
       " 'Fwd: So Very True...',\n",
       " 'Fwd: So Very True...',\n",
       " 'Fwd: So Very True...',\n",
       " 'FW: Hope you like this poem...',\n",
       " 'FW: Hope you like this poem...',\n",
       " 'FW: Hope you like this poem...',\n",
       " 'Fwd: So Very True...',\n",
       " 'Fwd: So Very True...',\n",
       " 'Fwd: So Very True...',\n",
       " 'Fwd: So Very True...',\n",
       " 'Fwd: So Very True...',\n",
       " \"Fw: YOU KNOW YOU'RE A LATINO IF...\",\n",
       " \"Fw: YOU KNOW YOU'RE A LATINO IF...\",\n",
       " \"RE: YOU KNOW YOU'RE A LATINO IF...\",\n",
       " 'For you ....',\n",
       " 'For you ....',\n",
       " 'For you ....',\n",
       " 'FW: Dying...',\n",
       " 'FW: Dying...',\n",
       " 'FW: Dying...',\n",
       " 'FW: Dying...',\n",
       " 'FW: Dying...',\n",
       " 'RE: FW: You know your at a LATINO birthday party....',\n",
       " 'Fw: FW: You know your at a LATINO birthday party....',\n",
       " 'RE: Follow up for Hardware Request...',\n",
       " 'FW: Follow up for Hardware Request...',\n",
       " 'Follow up for Hardware Request...',\n",
       " 'RE: tonight...',\n",
       " 'tonight...',\n",
       " 'Re: some questions...',\n",
       " 'some questions...',\n",
       " 'Re: some questions...',\n",
       " 'Re: Updating Regulatory Affairs Database.....',\n",
       " 'Updating Regulatory Affairs Database.....',\n",
       " 'RE: Stranger things have happened...',\n",
       " 'Stranger things have happened...',\n",
       " \"RE: Michelle's poem....\",\n",
       " \"Michelle's poem....\",\n",
       " 'RE: FW: Enron Employees Leaving Houston...',\n",
       " 'Fwd: FW: Enron Employees Leaving Houston...',\n",
       " 'FW: Interesting facts about this election...',\n",
       " 'Re: crestar / gulf aos contract....',\n",
       " 'Re: crestar / gulf aos contract....',\n",
       " 'Re: crestar / gulf aos contract....',\n",
       " 'Re: crestar / gulf aos contract....',\n",
       " 'Re: crestar / gulf aos contract....',\n",
       " 'Re: crestar / gulf aos contract....',\n",
       " 'FW: Life......',\n",
       " 'FW: Life......',\n",
       " 'Re: And the Prize Goes To...',\n",
       " 'Re: TIME heals all .....',\n",
       " \"I'm Back...\",\n",
       " 'Re: as you requested...',\n",
       " 'as you requested...',\n",
       " 'Re: as you requested...',\n",
       " 'Re: as you requested...',\n",
       " 'as you requested...',\n",
       " 'Re: as you requested...',\n",
       " 'Re: as you requested...',\n",
       " 'Re: as you requested...',\n",
       " 'as you requested...',\n",
       " 'And the beat goes on...',\n",
       " 'Re: And the beat goes on...',\n",
       " 'Re: Follow up....',\n",
       " 'Greetings...',\n",
       " 'Can you handle...',\n",
       " 'When you get back...',\n",
       " 'Oh knower of all things...',\n",
       " 'Re: Yes, I need your help again ...',\n",
       " 'Another Picture....',\n",
       " 'Another Picture....',\n",
       " 'Per your request...',\n",
       " 'It should be more...',\n",
       " 'Good luck America....',\n",
       " 'Good luck America....',\n",
       " 'Good luck America....',\n",
       " 'Re: Yes but...........',\n",
       " 'Yes but...........',\n",
       " 'Good luck America....',\n",
       " 'Positively the last word .....',\n",
       " 'Positively the last word .....',\n",
       " 'Positively the last word .....',\n",
       " 'Re: Positively the last word .....',\n",
       " 'Positively the last word .....',\n",
       " 'Just Like Chapman...',\n",
       " 'Re: Just Like Chapman...',\n",
       " 'When you come....',\n",
       " 'My Lucky Day...',\n",
       " 'Re: Sorry, one more thing ...',\n",
       " \"Another Gov't Agency Name...\",\n",
       " 'just thinking...',\n",
       " 'Re: just thinking...',\n",
       " 'just thinking...',\n",
       " 'More Koch Masters...',\n",
       " 'No Word...',\n",
       " '400 and counting...',\n",
       " 'Declined: Lunch ...',\n",
       " 'RE: Lunch ...',\n",
       " 'RE: Lunch ...',\n",
       " 'Declined: Lunch ...',\n",
       " 'Re: access to O;...',\n",
       " 'Re: access to O;...',\n",
       " 'access to O;...',\n",
       " 'Our Apologies ...',\n",
       " 'Our Apologies ...',\n",
       " 'Need direction please...',\n",
       " 'Need direction please...',\n",
       " 'Need direction please...',\n",
       " 'Some municipal bonds for you to look at.....',\n",
       " 'Some municipal bonds for you to look at.....',\n",
       " 'Re: Publishable Research......',\n",
       " 'Publishable Research......',\n",
       " 'Publishable Research......',\n",
       " 'Thank-you...',\n",
       " 'Thank-you...',\n",
       " 'Clintons leaving the Whitehouse...',\n",
       " 'Clintons leaving the Whitehouse...',\n",
       " 'Clintons leaving the Whitehouse...',\n",
       " 'I just like hearing it.....',\n",
       " 'I just like hearing it.....',\n",
       " \"I've done it....\",\n",
       " \"I've done it....\",\n",
       " 'FW: Real Options Research...',\n",
       " 'Real Options Research...',\n",
       " 'RE: In light of the events this week....',\n",
       " 'In light of the events this week....',\n",
       " 'RE: In light of the events this week....',\n",
       " 'RE: In light of the events this week....',\n",
       " 'RE: In light of the events this week....',\n",
       " 'In light of the events this week....',\n",
       " 'RE: In light of the events this week....',\n",
       " 'FW: An interesting story Abt. Stanford University ...',\n",
       " 'FW: An interesting story Abt. Stanford University ...',\n",
       " 'RE: Would anyone be interested?....',\n",
       " '=09Would anyone be interested?....',\n",
       " 'FW: Would anyone be interested?....',\n",
       " '=09Would anyone be interested?....',\n",
       " 'RE: Would anyone be interested?....',\n",
       " 'RE: Would anyone be interested?....',\n",
       " 'FW: Would anyone be interested?....',\n",
       " '=09RE: Would anyone be interested?....',\n",
       " '=09FW: Would anyone be interested?....',\n",
       " '=09Would anyone be interested?....',\n",
       " 'RE: Hello...',\n",
       " 'Hello...',\n",
       " 'RE: Czy planujesz pojawic sie w Londynie  ...',\n",
       " 'Czy planujesz pojawic sie w Londynie  ...',\n",
       " 'Re: Conf Call...',\n",
       " 'Conf Call...',\n",
       " 'Midwest ISO information...',\n",
       " 'Midwest ISO information...',\n",
       " 'Need a laugh? Here it is...',\n",
       " 'Time Magazine - Enron Plays the Pipes....',\n",
       " 'Time Magazine - Enron Plays the Pipes....',\n",
       " \"WSJ: PG&E's Huge losses...\",\n",
       " \"FW: Hadn't heard about this Enron Mention...\",\n",
       " \"Hadn't heard about this Enron Mention...\",\n",
       " 'Finally the truth comes out...',\n",
       " 'Finally the truth comes out...',\n",
       " 'RE: however...',\n",
       " 'however...',\n",
       " 'Re: FW: Mike Curry has signed and returned docs.....',\n",
       " \"Rahil Jafry: Carly Fiorina Tops FORTUNE's List of 50 Most Powerful Women in Business   for ...\",\n",
       " \"RE: I'm still here ....\",\n",
       " \"I'm still here ....\",\n",
       " 'RE: Marcello has a favour to ask....',\n",
       " 'Marcello has a favour to ask....',\n",
       " 'RE: Hi...',\n",
       " 'RE: Hi...',\n",
       " 'RE: Hi...',\n",
       " 'Hi...',\n",
       " 'RE: Hi...',\n",
       " 'Hi...',\n",
       " 'RE: Hi...',\n",
       " 'Hi...',\n",
       " 'RE: Shankman...',\n",
       " 'Shankman...',\n",
       " \"Re: I'm Leaving...\",\n",
       " 'RE: floor space...',\n",
       " 'floor space...',\n",
       " 'Re: Sad news...',\n",
       " 'Fw: Cast your vote..........',\n",
       " 'Fw: Cast your vote..........',\n",
       " 'Fw: Cast your vote..........',\n",
       " 'Fwd: FW: Careful what you write...',\n",
       " 'Fwd: FW: Careful what you write...',\n",
       " 'FW: Careful what you write...',\n",
       " 'FW: Careful what you write...',\n",
       " 'RE: FW: Careful what you write...',\n",
       " 'RE: FW: Careful what you write...',\n",
       " 'Fwd: FW: Careful what you write...',\n",
       " 'Fwd: FW: Careful what you write...',\n",
       " 'FW: Careful what you write...',\n",
       " 'FW: Careful what you write...',\n",
       " 'Fwd: FW: Careful what you write...',\n",
       " 'Fwd: FW: Careful what you write...',\n",
       " 'FW: Careful what you write...',\n",
       " 'FW: Careful what you write...',\n",
       " 'Fwd: something groovy to do...',\n",
       " 'RE: Our tree trimming storey.....',\n",
       " 'RE: Our tree trimming storey.....',\n",
       " 'RE: Our tree trimming storey.....',\n",
       " 'Our tree trimming storey.....',\n",
       " 'RE: Our tree trimming storey.....',\n",
       " 'Our tree trimming storey.....',\n",
       " 'FW: Our tree trimming storey.....',\n",
       " 'Our tree trimming storey.....',\n",
       " 'RE: Just a thought ...',\n",
       " 'FW: Just a thought ...',\n",
       " 'FW: Just a thought ...',\n",
       " 'FW: This is a classic...',\n",
       " 'FW: This is a classic...',\n",
       " 'FW: This is a classic...',\n",
       " 'RE: Advice / Information....',\n",
       " 'Advice / Information....',\n",
       " 'FW: Advice / Information....',\n",
       " 'RE: Advice / Information....',\n",
       " 'RE: Advice /  Information....',\n",
       " 'Advice /  Information....',\n",
       " 'RE: SAC visit...',\n",
       " 'SAC visit...',\n",
       " 'RE: If we were going to pay....',\n",
       " 'If we were going to pay....',\n",
       " 'Re: Dates for the Faculty-Alumni Awards at MU...',\n",
       " 'Dates for the Faculty-Alumni Awards at MU...',\n",
       " 'Re: Scott McNealy wants to hear from you...',\n",
       " 'Scott McNealy wants to hear from you...',\n",
       " 'OK, Jeff, you requested that we be candid about Enron...',\n",
       " 'OK, Jeff, you requested that we be candid about Enron...',\n",
       " 'Kenneth, here are four Christmas articles for you ...',\n",
       " 'Re: oath to you...',\n",
       " 'Re: Re[2]: oath to you...',\n",
       " 'Re: Re[4]: oath to you...',\n",
       " 'Fw: Bad Girl Barbies....',\n",
       " 'Fw: Bad Girl Barbies....',\n",
       " 'Fw: Bad Girl Barbies....',\n",
       " 'Re: Hands on...',\n",
       " 'Re: Hands on...',\n",
       " 'Fw: Something to think about...',\n",
       " 'FW: Something to think about...',\n",
       " 'Re: Fw: Something to think about...',\n",
       " 'Fw: Someone has way too much time on their hands......',\n",
       " 'Fw: Someone has way too much time on their hands......',\n",
       " 'FW: Someone has way too much time on their hands......',\n",
       " \"Fw: What We've Learned From Watching Porn......\",\n",
       " \"Fw: What We've Learned From Watching Porn......\",\n",
       " \"FW: What We've Learned From Watching Porn......\",\n",
       " \"FW: What We've Learned From Watching Porn......\",\n",
       " \"Fw: What We've Learned From Watching Porn......\",\n",
       " \"Fw: What We've Learned From Watching Porn......\",\n",
       " \"FW: What We've Learned From Watching Porn......\",\n",
       " \"FW: What We've Learned From Watching Porn......\",\n",
       " \"Fw: What We've Learned From Watching Porn......\",\n",
       " \"Fw: What We've Learned From Watching Porn......\",\n",
       " \"FW: What We've Learned From Watching Porn......\",\n",
       " \"FW: What We've Learned From Watching Porn......\",\n",
       " \"Re: Fw: What We've Learned From Watching Porn......\",\n",
       " \"RE: What We've Learned From Watching Porn......\",\n",
       " 'Re: hey...',\n",
       " 'Re: Better get a good backup....',\n",
       " 'Fwd: something groovy to do...',\n",
       " 'Re: Tomorrow...',\n",
       " 'RE: Tomorrow...',\n",
       " 'Re: Hey...',\n",
       " 'Re: Are you still up for...',\n",
       " 'Re: Tomorrow...',\n",
       " 'RE: Tomorrow...',\n",
       " 'Re: Hey...',\n",
       " 'Re: Are you still up for...',\n",
       " 'RE: this one too....',\n",
       " 'this one too....',\n",
       " 'FW: New Darwin Award winners are in...',\n",
       " 'FW: New Darwin Award winners are in...',\n",
       " 'New Darwin Award winners are in...',\n",
       " 'RE: Hi Sweetie...',\n",
       " 'Hi Sweetie...',\n",
       " 'RE: Hi Sweetie...',\n",
       " 'RE: Hi Sweetie...',\n",
       " 'RE: Hi Sweetie...',\n",
       " 'Hi Sweetie...',\n",
       " 'RE: Dear Abby.......',\n",
       " 'FW: Dear Abby.......',\n",
       " 'FW: Dear Abby.......',\n",
       " 'FW: Dear Abby.......',\n",
       " 'Dear Abby.......',\n",
       " 'Dear Abby.......',\n",
       " 'RE: Strong Words...',\n",
       " 'Strong Words...',\n",
       " 'Fwd: something groovy to do...',\n",
       " 'Re: Happy Hanukah and Merry Christmas...',\n",
       " 'FW: As A Promising Energy Professional...',\n",
       " 'As A Promising Energy Professional...',\n",
       " \"RE: Why markers don't make good Christmas gifts...\",\n",
       " \"FW: Why markers don't make good Christmas gifts...\",\n",
       " \"RE: Why markers don't make good Christmas gifts...\",\n",
       " \"FW: Why markers don't make good Christmas gifts...\",\n",
       " \"RE: Why markers don't make good Christmas gifts...\",\n",
       " \"FW: Why markers don't make good Christmas gifts...\",\n",
       " 'FW: Angels are ....',\n",
       " 'FW: Angels are ....',\n",
       " 'RE: Angels are ....',\n",
       " 'RE: Angels are ....',\n",
       " 'FW: Angels are ....',\n",
       " 'FW: Angels are ....',\n",
       " 'Re: Fw: your voice..........',\n",
       " 'Fw: FW: Paul Harvey Story ...Probably Should Circulate This One...',\n",
       " 'Fw: FW: Paul Harvey Story ...Probably Should Circulate This One...',\n",
       " 'Fw: FW: Paul Harvey Story ...Probably Should Circulate This One...',\n",
       " 'Fwd: FW: Paul Harvey Story ...Probably Should Circulate This One...',\n",
       " 'FW: Paul Harvey Story ...Probably Should Circulate This One...',\n",
       " 'Paul Harvey Story ...Probably Should Circulate This  One...',\n",
       " 'Re: WAR DAMN EAGLE....',\n",
       " 'RE: User list to access different post ids...',\n",
       " 'Re: User list to access different post ids...',\n",
       " \"FW: Too bad stupidity isn't painful...\",\n",
       " \"FW: Too bad stupidity isn't painful...\",\n",
       " \"Re: FW: It couldn't hurt...\",\n",
       " 'RE: This is hillarious...',\n",
       " 'RE: This is hillarious...',\n",
       " 'FW: This is hillarious...',\n",
       " 'This is hillarious...',\n",
       " 'FW: This is hillarious...',\n",
       " 'This is hillarious...',\n",
       " 'RE: Mahmassani VaR........',\n",
       " 'RE: Mahmassani VaR........',\n",
       " 'RE: Mahmassani VaR........',\n",
       " 'RE: Mahmassani VaR........',\n",
       " 'FW: Mahmassani VaR........',\n",
       " 'RE: Mahmassani VaR........',\n",
       " 'RE: Mahmassani VaR........',\n",
       " 'FW: Mahmassani VaR........',\n",
       " 'FW: Mahmassani VaR........',\n",
       " 'RE: Mahmassani VaR........',\n",
       " 'RE: Mahmassani VaR........',\n",
       " 'RE: Mahmassani VaR........',\n",
       " 'RE: Mahmassani VaR........',\n",
       " 'RE: Mahmassani VaR........',\n",
       " 'Mahmassani VaR........',\n",
       " 'FW: Mahmassani VaR........',\n",
       " 'RE: Mahmassani VaR........',\n",
       " 'RE: Mahmassani VaR........',\n",
       " 'RE: Mahmassani VaR........',\n",
       " 'RE: Mahmassani VaR........',\n",
       " 'RE: Mahmassani VaR........',\n",
       " 'Mahmassani VaR........',\n",
       " 'RE: Mahmassani VaR........',\n",
       " 'RE: Mahmassani VaR........',\n",
       " 'RE: Mahmassani VaR........',\n",
       " 'RE: Mahmassani VaR........',\n",
       " 'RE: Mahmassani VaR........',\n",
       " 'Mahmassani VaR........',\n",
       " 'RE: Mahmassani VaR........',\n",
       " 'RE: Mahmassani VaR........',\n",
       " 'RE: Mahmassani VaR........',\n",
       " 'Mahmassani VaR........',\n",
       " 'RE: Mahmassani VaR........',\n",
       " 'Mahmassani VaR........',\n",
       " 'FW: Weekend Events.........',\n",
       " 'FW: Weekend Events.........',\n",
       " 'Weekend Events.........',\n",
       " 'RE: after the storm...',\n",
       " 'Fw: after the storm...',\n",
       " 'Fwd: after the storm...',\n",
       " 'RE: Memories.......',\n",
       " 'Memories.......',\n",
       " 'FW: Memories.......',\n",
       " 'RE: Memories.......',\n",
       " 'Memories.......',\n",
       " 'RE: Well...',\n",
       " 'Well...',\n",
       " 'RE: Hey...',\n",
       " 'Hey...',\n",
       " 'RE: Paulie-wog...',\n",
       " 'Paulie-wog...',\n",
       " 'FW: They build great outhouses in AR...',\n",
       " 'They build great outhouses in AR...',\n",
       " 'They build great outhouses in AR...',\n",
       " 'RE: Oh happy day...',\n",
       " 'Oh happy day...',\n",
       " 'RE: Oh happy day...',\n",
       " 'RE: Oh happy day...',\n",
       " \"RE: I know you're busy...\",\n",
       " \"I know you're busy...\",\n",
       " 'RE: Good Morning...',\n",
       " 'Good Morning...',\n",
       " 'RE: Arrrrgh....',\n",
       " 'Arrrrgh....',\n",
       " 'I need to call Mark about the docs that Heather sent...',\n",
       " 'a little high...',\n",
       " 'RE: a little high...',\n",
       " 'Some thoughts on anniversary stuff...',\n",
       " 'You probably saw this all ready...',\n",
       " \"HELP I'm drowning....\",\n",
       " 'FW: Drinking quotes...',\n",
       " 'FW: Drinking quotes...',\n",
       " 'FW: Drinking quotes...',\n",
       " 'Ok, it is a slow news day...',\n",
       " 'A blurb from an internal Enron communiciation...',\n",
       " 'FW: To those of you getting married...',\n",
       " 'To those of you getting married...',\n",
       " 'Oh, just a change or two...',\n",
       " \"One email didn't go through...\",\n",
       " \"RE: One email didn't go through...\",\n",
       " \"RE: One email didn't go through...\",\n",
       " \"One email didn't go through...\",\n",
       " 'Dick Westfahl Retirement - Bambi would be proud...',\n",
       " 'Re: Dick Westfahl Retirement - Bambi would be proud...',\n",
       " 'Re: Dick Westfahl Retirement - Bambi would be proud...',\n",
       " 'Just to confuse you...',\n",
       " 'And on this legal front...',\n",
       " \"Re: FW: We'll Miss You Steffy.......\",\n",
       " \"FW: We'll Miss You Steffy.......\",\n",
       " \"FW: We'll Miss You Steffy.......\",\n",
       " \"FW: We'll Miss You Steffy.......\",\n",
       " \"We'll Miss You Steffy.......\",\n",
       " \"RE: FW: We'll Miss You Steffy.......\",\n",
       " \"RE: FW: We'll Miss You Steffy.......\",\n",
       " \"Re: FW: We'll Miss You Steffy.......\",\n",
       " \"FW: We'll Miss You Steffy.......\",\n",
       " \"FW: We'll Miss You Steffy.......\",\n",
       " \"FW: We'll Miss You Steffy.......\",\n",
       " \"We'll Miss You Steffy.......\",\n",
       " 'Another try...',\n",
       " 'Re: Fw: things to ponder.....',\n",
       " \"FW: so, you've been laid off....\",\n",
       " \"Fwd: so, you've been laid off....\",\n",
       " 'CAF - Tier 1 -  (Req# 600 - Jode Corp) requires your signature...',\n",
       " 'Re: CAF - Tier 1 - OVERDUE - (Req# 599) is overdue...',\n",
       " 'Re: Years ago...',\n",
       " 'Re: Congratulations...',\n",
       " 'Congratulations...',\n",
       " 'Re: quick confirmation....',\n",
       " 'AM I FREE.....',\n",
       " \"FW: If you're bored here's a mensa test...\",\n",
       " \"FW:If you're bored here's a mensa test...\",\n",
       " 'Re: Long Time...',\n",
       " 'Long Time...',\n",
       " 'RE: Long Time...',\n",
       " 'RE: New exchange broker...',\n",
       " 'RE: New exchange broker...',\n",
       " 'Re: New exchange broker...',\n",
       " 'New exchange broker...',\n",
       " 'FW:  Move Related Reminders...',\n",
       " '=09FW:  Move Related Reminders...',\n",
       " '=09 Move Related Reminders...',\n",
       " 'RE: I NEED VERIFICATION...',\n",
       " 'RE: I NEED VERIFICATION...',\n",
       " 'RE: I NEED VERIFICATION...',\n",
       " 'I NEED VERIFICATION...',\n",
       " 'RE: I NEED VERIFICATION...',\n",
       " 'I NEED VERIFICATION...',\n",
       " 'RE: Heartland Steel revised....',\n",
       " 'Heartland Steel revised....',\n",
       " 'FW: Info you requested...',\n",
       " 'Info you requested...',\n",
       " 'Re: Long distance call........',\n",
       " 'Re: FW: Please call this number...',\n",
       " 'Re: Just a short note.........',\n",
       " 'FW: Read Storyline first.........',\n",
       " '? Fwd: Read Storyline first.........',\n",
       " 'Re: Hey, Dad....',\n",
       " 'Re: T-minus 3 days...',\n",
       " 'T-minus 3 days...',\n",
       " \"Re: Don't forget to vote...\",\n",
       " \"Don't forget to vote...\",\n",
       " 'Re: Suds...',\n",
       " 'Suds...',\n",
       " 'Re: TIP OF THE DAY...',\n",
       " 'TIP OF THE DAY...',\n",
       " 'Re: Kristi called me last night....',\n",
       " 'details...',\n",
       " 'details...',\n",
       " 're: ... no subject ...',\n",
       " 'Re: Thinking of you...........',\n",
       " \"And That's It...\",\n",
       " \"And That's It...\",\n",
       " \"And That's It...\",\n",
       " 'FW: Training courses available...',\n",
       " \"Re: Haven't heard from you in a while........\",\n",
       " 'RE: Dudes...',\n",
       " 'Re: Dudes...',\n",
       " 'Dudes...',\n",
       " 'FW: Dudes...',\n",
       " 'RE: Dudes...',\n",
       " 'Re: Dudes...',\n",
       " 'Dudes...',\n",
       " 'FW: Dudes...',\n",
       " 'RE: Dudes...',\n",
       " 'Re: Dudes...',\n",
       " 'Dudes...',\n",
       " 'FW: Dudes...',\n",
       " 'RE: Dudes...',\n",
       " 'Re: Dudes...',\n",
       " 'Dudes...',\n",
       " 'FW: Dudes...',\n",
       " 'RE: Dudes...',\n",
       " 'Re: Dudes...',\n",
       " 'Dudes...',\n",
       " 'RE: Some news.....',\n",
       " 'Some news.....',\n",
       " \"FW: We're Still Here...\",\n",
       " \"We're Still Here...\",\n",
       " 'RE: Still here and still ready...',\n",
       " 'Still here and still ready...',\n",
       " 'Still here and still ready...',\n",
       " 'FW: Dudes...',\n",
       " 'Re: Dudes...',\n",
       " 'Dudes...',\n",
       " \"RE: I'm here...\",\n",
       " \"I'm here...\",\n",
       " \"RE: I'm here...\",\n",
       " \"RE: I'm here...\",\n",
       " \"RE: I'm here...\",\n",
       " \"I'm here...\",\n",
       " 'RE: Troutmaster say...',\n",
       " ...]"
      ]
     },
     "execution_count": 115,
     "metadata": {},
     "output_type": "execute_result"
    }
   ],
   "source": [
    "# To get Every subject line that ends with an ellipsis:\n",
    "[line for line in subjects if re.search(r\"\\.\\.\\.$\", line)]"
   ]
  },
  {
   "cell_type": "markdown",
   "metadata": {},
   "source": [
    "##Quantifiers"
   ]
  },
  {
   "cell_type": "code",
   "execution_count": 117,
   "metadata": {
    "collapsed": false
   },
   "outputs": [
    {
     "data": {
      "text/plain": [
       "['RE: Christmas Party News!',\n",
       " 'FW: Christmas Party News!',\n",
       " 'Christmas Party News!',\n",
       " 'Good News!',\n",
       " 'Good News--Twice!',\n",
       " 'Re: VERY Interesting News!',\n",
       " 'Great News!',\n",
       " 'Re: Great News!',\n",
       " 'News Flash!',\n",
       " 'RE: News Flash!',\n",
       " 'RE: News Flash!',\n",
       " 'News Flash!',\n",
       " 'RE: Good News!',\n",
       " 'RE: Good News!',\n",
       " 'RE: Good News!',\n",
       " 'RE: Good News!',\n",
       " 'Good News!',\n",
       " 'RE: Good News!!!',\n",
       " 'Good News!!!',\n",
       " 'RE: Big News!',\n",
       " 'Big News!',\n",
       " 'Individual.com - News From a Friend!',\n",
       " 'Individual.com - News From a Friend!',\n",
       " 'Re: Individual.com - News From a Friend!',\n",
       " 'RE: We need news!',\n",
       " '=09We need news!',\n",
       " 'RE: Big News!',\n",
       " 'FW: Big News!',\n",
       " 'RE: Big News!',\n",
       " 'FW: Big News!',\n",
       " 'Big News!',\n",
       " 'FW: NW Wine News- Eroica, Sineann, Bergstrom, Hamacher, And more!',\n",
       " '=09NW Wine News- Eroica, Sineann, Bergstrom, Hamacher, And more!',\n",
       " 'RE: Good News!!!',\n",
       " 'Good News!!!',\n",
       " 'Re: Big News!',\n",
       " 'Big News!',\n",
       " 'RE: Good  News!',\n",
       " 'Good  News!']"
      ]
     },
     "execution_count": 117,
     "metadata": {},
     "output_type": "execute_result"
    }
   ],
   "source": [
    "[line for line in subjects if re.search(r\"\\b[Nn]ews\\b.*!$\", line)]\n",
    "# * is a quantifier\n",
    "# to get them start with news\n"
   ]
  },
  {
   "cell_type": "markdown",
   "metadata": {},
   "source": [
    "##alternation"
   ]
  },
  {
   "cell_type": "markdown",
   "metadata": {},
   "source": [
    "```\n",
    "(?:x|y): match either x or y\n",
    "(?:x|y|z): match x, y or z\n",
    "etc.\n",
    "```"
   ]
  },
  {
   "cell_type": "code",
   "execution_count": 119,
   "metadata": {
    "collapsed": false
   },
   "outputs": [
    {
     "data": {
      "text/plain": [
       "40945"
      ]
     },
     "execution_count": 119,
     "metadata": {},
     "output_type": "execute_result"
    }
   ],
   "source": [
    "len([line for line in subjects if re.search(r\"^(?:Re|Fw|Fwd):\", line)])"
   ]
  },
  {
   "cell_type": "code",
   "execution_count": 120,
   "metadata": {
    "collapsed": false
   },
   "outputs": [
    {
     "data": {
      "text/plain": [
       "39901"
      ]
     },
     "execution_count": 120,
     "metadata": {},
     "output_type": "execute_result"
    }
   ],
   "source": [
    "len([line for line in subjects if re.search(r\"^(?:Re|Fwd):\", line)])"
   ]
  },
  {
   "cell_type": "code",
   "execution_count": 121,
   "metadata": {
    "collapsed": false
   },
   "outputs": [
    {
     "data": {
      "text/plain": [
       "['Re: FW: cat attack',\n",
       " 'Re: FW: cat attack',\n",
       " 'Re: FW: cat attack',\n",
       " 'Re: FW: cat attack',\n",
       " 'Fw: Cat clip',\n",
       " 'Fw: Cat clip',\n",
       " 'FW: Cat clip',\n",
       " 'Re: Amazing Kitten',\n",
       " 'RE: How To Tell Which Cat Ate Your Drugs',\n",
       " 'FW: How To Tell Which Cat Ate Your Drugs',\n",
       " 'FW: How To Tell Which Cat Ate Your Drugs',\n",
       " \"FW: Fw: A cat's tale\",\n",
       " \"Fwd: Fw: A cat's tale\",\n",
       " 'Kim lost her cat this morning',\n",
       " 'Fw: cat clip............',\n",
       " 'Fw: cat clip............',\n",
       " 'Fw: cat clip............',\n",
       " 'cat clip............',\n",
       " 'Fw: cat clip............',\n",
       " 'Fw: cat clip............',\n",
       " 'Fw: cat clip............',\n",
       " 'cat clip............',\n",
       " 'Fw: cat clip............',\n",
       " 'Fw: cat clip............',\n",
       " 'Fw: cat clip............',\n",
       " 'cat clip............',\n",
       " 'Fw: cat clip............',\n",
       " 'Fw: cat clip............',\n",
       " 'Fw: cat clip............',\n",
       " 'cat clip............',\n",
       " 'Fw: cat clip............',\n",
       " 'Fw: cat clip............',\n",
       " 'Fw: cat clip............',\n",
       " 'cat clip............',\n",
       " 'kitty',\n",
       " 'Diary of a Cat',\n",
       " 'Diary of a Cat',\n",
       " 'Diary of a Cat',\n",
       " 'Diary of a Cat',\n",
       " 'Diary of a Cat',\n",
       " 'RE: Cat show?',\n",
       " 'Cat show?',\n",
       " 'RE: Cat show?',\n",
       " 'RE: Cat show?',\n",
       " 'RE: Cat show?',\n",
       " 'Cat show?']"
      ]
     },
     "execution_count": 121,
     "metadata": {},
     "output_type": "execute_result"
    }
   ],
   "source": [
    "[line for line in subjects if re.search(r\"\\b(?:[Cc]at|[Kk]itten|[Kk]itty)\\b\", line)]"
   ]
  },
  {
   "cell_type": "code",
   "execution_count": 122,
   "metadata": {
    "collapsed": false
   },
   "outputs": [
    {
     "data": {
      "text/plain": [
       "['Re: Blue Dolphin Pipe',\n",
       " 'Blue Dolphin Pipe',\n",
       " 'FW: Red Rock expansion',\n",
       " 'FW: Red Rock expansion',\n",
       " 'Red Rock expansion',\n",
       " 'Re: Red Rock GE/NP Emissions',\n",
       " 'Re: Red Rock GE/NP Emissions',\n",
       " 'Re: Red Rock GE/NP Emissions',\n",
       " 'Red Rock GE/NP Emissions',\n",
       " 'Air Permit Delay, Red Rock Expansion',\n",
       " 'RE: Red Rock Air Permits Heads up!',\n",
       " 'RE: Red Rock Air Permits Heads up!',\n",
       " 'Red Rock Air Permits Heads up!',\n",
       " 'RE: FW: Red Rock Expansion Station 4',\n",
       " 'RE: FW: Red Rock Expansion Station 4',\n",
       " 'RE: FW: Red Rock Expansion Station 4',\n",
       " 'Re: FW: Red Rock Expansion Station 4',\n",
       " 'FW: Red Rock Expansion Station 4',\n",
       " 'Red Rock Expansion Station 4',\n",
       " 'summary of red rock contracts',\n",
       " 'Re: Yellow Book',\n",
       " 'Re: Now we have red ones',\n",
       " 'Re: Red Herring Res',\n",
       " 'Blue Jean Shirts',\n",
       " 'Blue Jean Shirts',\n",
       " 'Blue Girl - $1.2MM option expires today - need to know whether to',\n",
       " 'Blue Girl - $1.2MM option expires today - need to know whether to',\n",
       " 'Blue Girl - $1.2MM option expires today - need to know whether to',\n",
       " 'Blue Girl - $1.2MM option expires today - need to know whether to',\n",
       " 'Blue Girl - $1.2MM option expires today - need to know whether to',\n",
       " 'Blue Girl - $1.2MM option expires today - need to know whether to',\n",
       " 'Blue Girl - $1.2MM option expires today - need to know whether to',\n",
       " 'Red Rock Delay $$ Impact',\n",
       " 'from my red neck uncle...',\n",
       " 'Blue Cross ?',\n",
       " 'Re: REPLY TO: Power Rate Offer: Weserner Exposition, Red Deer',\n",
       " 'Red Rock Expansion Filing',\n",
       " 'Red Rock Expansion Filing',\n",
       " 'Red Rock open season',\n",
       " 'Red Rock open season',\n",
       " 'Re: Final Red Rock',\n",
       " 'Final Red Rock',\n",
       " 'Re: Red Rock shipper letter',\n",
       " 'Red Rock shipper letter',\n",
       " 'Re: Red Rock posting',\n",
       " 'Red Rock posting',\n",
       " 'Re: Red Rock posting',\n",
       " 'Re: Red Rock posting',\n",
       " 'Re: Red Rock posting',\n",
       " 'Red Rock posting',\n",
       " 'Red Cedar',\n",
       " 'Red Cedar update',\n",
       " 'Red Cedar update',\n",
       " 'Red Cedar',\n",
       " 'Red Cedar',\n",
       " 'Re: Red Cedar - Contract Approval Request',\n",
       " 'Red Cedar - Contract Approval Request',\n",
       " 'Re: Red Cedar',\n",
       " 'Re: Red Cedar',\n",
       " 'Red Cedar',\n",
       " 'Red Cedar',\n",
       " 'FW: Red Rock (Transwestern) Cashflow',\n",
       " 'RE: Red Rock (Transwestern) Cashflow',\n",
       " 'RE: Red Rock (Transwestern) Cashflow',\n",
       " 'Red Rock (Transwestern) Cashflow',\n",
       " 'FW: Red Rock additions',\n",
       " 'FW: Red Rock additions',\n",
       " 'FW: Red Rock additions',\n",
       " 'RE: Red Rock additions',\n",
       " 'Red Rock additions',\n",
       " 'FW: Honest Answers from the Guy in the Red..',\n",
       " 'Fw: Honest Answers from the Guy in the Red..',\n",
       " 'Honest Answers from the Guy in the Red..',\n",
       " 'Re: Blue Range',\n",
       " 'Blue Range',\n",
       " 'Re: Blue Range',\n",
       " 'Re: Blue Range Resource Corporation',\n",
       " 'Re: Blue Range Resource Corporation',\n",
       " 'FW: Red Rock additions',\n",
       " 'FW: Red Rock additions',\n",
       " 'RE: Red Rock additions',\n",
       " 'Red Rock additions',\n",
       " 'Red Rock expansion',\n",
       " 'SD 750 case w/ Red Hawk lateral',\n",
       " 'Aquila Red Lake storage project',\n",
       " 'Red Lake Storage project',\n",
       " 'FW: New Uniforms for the other Big Red',\n",
       " 'New Uniforms for the other Big Red',\n",
       " 'FW: Red Lake Storage w/Kevin Hyatt',\n",
       " 'Red Lake Storage w/Kevin Hyatt',\n",
       " 'Follow up from Red Lake meeting',\n",
       " 'Firm Rec/Del questions from potential Aquila Red Lake shippers',\n",
       " 'FW: Red Lake Info',\n",
       " 'FW: Red Lake Info',\n",
       " 'RE: Red Lake Info',\n",
       " 'Red Lake Info',\n",
       " 'Blue Files',\n",
       " 'Blue Flame Propane Inc.',\n",
       " 'Re: Blue Flame Propane Inc.',\n",
       " 'Blue Flame Propane Inc.',\n",
       " 'Re: Ideas on Blue/Green Files',\n",
       " 'FW: Red Hat no longer sings \"When I\\'m 64\"',\n",
       " 'Red Hat no longer sings \"When I\\'m 64\"',\n",
       " 'SECURITY AND BUG NEWS ALERT: Users offer tips on foiling Code Red',\n",
       " 'Red Herring Article',\n",
       " 'Red Herring Article',\n",
       " 'RE: Red Herring',\n",
       " 'Red Herring',\n",
       " 'FW: Red Herring e-mail',\n",
       " 'Red Herring e-mail',\n",
       " 'FW: Transwestern Red Rock Permitting Status',\n",
       " 'Transwestern Red Rock Permitting Status',\n",
       " 'RE: Red Banner Screen Shots',\n",
       " 'FW: Red Banner Screen Shots',\n",
       " 'Red Banner Screen Shots',\n",
       " 'Re: Blue Range Resource Corporation - Eligible Financial Contracts',\n",
       " 'Blue Range Recovery',\n",
       " 'Blue Range Recovery',\n",
       " 'Thank you from Red Herring',\n",
       " 'RE: Red Lake Storage project',\n",
       " 'Red Lake Storage project',\n",
       " 'Aquila Red Lake/TW strategy meeting',\n",
       " 'FW: Red Rock Receipts',\n",
       " 'RE: Red Rock Receipts',\n",
       " 'Red Rock Receipts',\n",
       " 'FW: Project Status Review Meeting for Red Rock and GTB',\n",
       " 'Updated: Project Status Review Meeting for Red Rock and GTB',\n",
       " 'FW: Red Rock Briefing',\n",
       " 'Red Rock Briefing',\n",
       " 'RE: Amending Red Rock Contracts',\n",
       " 'RE: Amending Red Rock Contracts',\n",
       " 'RE: Amending Red Rock Contracts',\n",
       " 'RE: Amending Red Rock Contracts',\n",
       " 'FW: Amending Red Rock Contracts',\n",
       " 'FW: Amending Red Rock Contracts',\n",
       " 'Amending Red Rock Contracts',\n",
       " 'RE: Amending Red Rock Contracts',\n",
       " 'RE: Amending Red Rock Contracts',\n",
       " 'FW: Amending Red Rock Contracts',\n",
       " 'FW: Amending Red Rock Contracts',\n",
       " 'Amending Red Rock Contracts',\n",
       " 'FW: Amending Red Rock Contracts',\n",
       " 'FW: Amending Red Rock Contracts',\n",
       " 'Amending Red Rock Contracts',\n",
       " 'RE: Commissioner.COM Trade Offered by Blue Balls',\n",
       " 'RE: Commissioner.COM Trade Offered by Blue Balls',\n",
       " 'RE: Commissioner.COM Trade Offered by Blue Balls',\n",
       " 'Commissioner.COM Trade Offered by Blue Balls',\n",
       " 'RE: Commissioner.COM Trade Offered by Blue Balls',\n",
       " 'Commissioner.COM Trade Offered by Blue Balls',\n",
       " 'Blue dog override letter',\n",
       " 'Just kidding, this is the real Blue dog override letter',\n",
       " 'Just kidding, this is the real Blue dog override letter',\n",
       " 'Blue Dog',\n",
       " 'Blue Dog',\n",
       " 'Blue Dog',\n",
       " 'Override letter related to the Blue Dog turbines',\n",
       " 'Re: Blue Dog Change Order',\n",
       " 'Blue Dog Change Order',\n",
       " 'Blue Dog Change Order',\n",
       " 'LJM/Blue Girl turbines',\n",
       " 'Blue Dog Change Order',\n",
       " 'Blue Dog Change Order',\n",
       " 'Blue Dog Change Order',\n",
       " 'Re: Blue Dog Change Order',\n",
       " 'Re: Blue Dog Change Order',\n",
       " 'Re: Blue Dog Change Order',\n",
       " 'Re: Blue Dog - Comments to Change Order #1',\n",
       " 'Blue Dog - Comments to Change Order #1',\n",
       " 'Letter agreement re: Blue Dog',\n",
       " 'Form for Blue Dog',\n",
       " 'Letter agreement re: Blue Dog',\n",
       " 'Letter agreement re: Blue Dog',\n",
       " 'Re: FW: Form for Blue Dog',\n",
       " 'FW: Form for Blue Dog',\n",
       " 'Form for Blue Dog',\n",
       " 'Re: Blue Dog Amended LLC',\n",
       " 'Blue Dog Amended LLC',\n",
       " 'Re: Dual Fuel Configuration - Blue Dog #2',\n",
       " 'Re: Blue Dog Amended LLC',\n",
       " 'Re: Blue Dog Amended LLC',\n",
       " 'Blue Dog Amended LLC',\n",
       " 'Re: FW: Blue Dog #2',\n",
       " 'FW: Blue Dog #2',\n",
       " 'FW: Blue Dog #2',\n",
       " 'Re: FW: Blue Dog #2',\n",
       " 'Re: FW: Blue Dog #2',\n",
       " 'Re: FW: Blue Dog #2',\n",
       " 'FW: Blue Dog #2',\n",
       " 'FW: Blue Dog #2',\n",
       " 'Blue Dog',\n",
       " 'Blue Dog',\n",
       " 'Blue Dog',\n",
       " 'RE: Blue Dog #2',\n",
       " 'RE: Blue Dog #2',\n",
       " 'Re: FW: Blue Dog #2',\n",
       " 'Re: FW: Blue Dog #2   << OLE Object: StdOleLink >>',\n",
       " 'FW: Blue Dog #2',\n",
       " 'FW: Blue Dog #2',\n",
       " 'ENA/Blue Dog: First Amended and Restated LLC Agreement',\n",
       " 'ENA/Blue Dog: First Amended and Restated LLC Agreement',\n",
       " 'Blue Dog LLC agreement',\n",
       " 'Blue Dog LLC agreement',\n",
       " 'Blue Dog LLC agreement',\n",
       " 'Re: ENA/Blue Dog:',\n",
       " 'ENA/Blue Dog:',\n",
       " 'Re: ENA/Project Blue Dog: Preliminary Documents',\n",
       " 'ENA/Project Blue Dog: Preliminary Documents',\n",
       " 'ENA/Project Blue Dog & Salmon: Preliminary Documents',\n",
       " 'ENA/Project Blue Dog & Salmon: Preliminary Documents',\n",
       " 'Blue Dog',\n",
       " 'Blue Dog change orders',\n",
       " 'Re: Blue Dog change orders',\n",
       " 'Re: Blue Dog change orders',\n",
       " 'Blue Dog assignment language',\n",
       " 'Blue Dog',\n",
       " 'Blue Dog',\n",
       " 'Blue Dog',\n",
       " 'Blue Dog',\n",
       " 'Blue Dog',\n",
       " 'Blue Dog',\n",
       " 'Blue Dog',\n",
       " 'Re: Blue Dog',\n",
       " 'Blue Dog',\n",
       " 'Re: ENRON Blue Dog Max 2 X 7 EA GTG',\n",
       " 'Re: ENRON Blue Dog Max 2 X 7 EA GTG',\n",
       " 'ENRON Blue Dog Max 2 X 7 EA GTG',\n",
       " 'NW my comments in blue',\n",
       " 'NW my comments in blue',\n",
       " 'NW my comments in blue',\n",
       " 'RE: ENA/Blue Dog: Revised Letter Agreement- my comments',\n",
       " 'RE: ENA/Blue Dog: Revised Letter Agreement',\n",
       " 'Re: Blue Dog change orders',\n",
       " 'Re: Blue Dog change orders',\n",
       " 'Re: Blue Dog change orders',\n",
       " 'Re: Blue Dog change orders',\n",
       " 'Re: Blue dog',\n",
       " 'Blue dog',\n",
       " 'Standard acknowledgement from GE - applicable to Blue Dog?',\n",
       " 'Blue Dog change order',\n",
       " 'ENA/Blue Dog: Revised Letter Agreement',\n",
       " 'ENA/Blue Dog: Revised Letter Agreement',\n",
       " 'ENA/Blue Dog: Revised Letter Agreement',\n",
       " 'ENA/Blue Dog: Revised Letter Agreement',\n",
       " 'ENA/Blue Dog: Revised Letter Agreement',\n",
       " 'ENA/Blue Dog: Revised Letter Agreement',\n",
       " 'ENA/Blue Dog: Revised Letter Agreement',\n",
       " 'ENA/Blue Dog: LLC Agreement and Letter Agreement',\n",
       " 'ENA/Blue Dog: LLC Agreement and Letter Agreement',\n",
       " 'Re: FW: ENA/Blue Dog: Marked Documents',\n",
       " 'RE: Blue Dog Turbines',\n",
       " 'RE: Blue Dog Turbines',\n",
       " 'RE: Blue Dog Turbines',\n",
       " 'Blue Dog Turbines',\n",
       " 'ENA/Blue Dog: Closing Checklist and ENA Incumbency Certificate',\n",
       " 'ENA/Blue Dog: Closing Checklist and ENA Incumbency Certificate',\n",
       " 'Re: ENA/Blue Dog: Closing Checklist and ENA Incumbency Certificate',\n",
       " 'ENA/Blue Dog: Closing Checklist and ENA Incumbency Certificate',\n",
       " 'Re: ENA/Blue Dog: Closing Checklist and ENA Incumbency Certificate',\n",
       " 'Re: ENA/Blue Dog: Closing Checklist and ENA Incumbency Certificate',\n",
       " 'ENA/Blue Dog: Closing Checklist and ENA Incumbency Certificate',\n",
       " 'ENA/Blue Dog: Closing Checklist and ENA Incumbency Certificate',\n",
       " 'ENA/Blue Dog: Marked',\n",
       " 'ENA/Blue Dog: Marked',\n",
       " 'ENA/Blue Dog: conference call with Paul Hastings',\n",
       " 'ENA/Blue Dog: conference call with Paul Hastings',\n",
       " 'Blue Dog (Northwestern) assignment',\n",
       " 'ENA/Blue Dog: Conference call details',\n",
       " 'ENA/Blue Dog: Conference call details',\n",
       " 'Change Order 2 Blue Dog',\n",
       " 'RE: Change Order 2 Blue Dog',\n",
       " 'RE: Change Order 2 Blue Dog',\n",
       " 'Change Order 2 Blue Dog',\n",
       " 'RE: Change Order 2 Blue Dog',\n",
       " 'RE: Change Order 2 Blue Dog',\n",
       " 'Change Order 2 Blue Dog',\n",
       " 'Blue Dog',\n",
       " 'RE: FW: Blue Dog Max, comments on draft CO No. 2, rev of 4/23/01',\n",
       " 'Re: ENA/Blue Dog: Escrow',\n",
       " 'ENA/Blue Dog: Escrow',\n",
       " 'Re: payment of invoices, Blue Dog Max',\n",
       " 'Re: payment of invoices, Blue Dog Max',\n",
       " 'payment of invoices, Blue Dog Max',\n",
       " 'payment of invoices, Blue Dog Max',\n",
       " 'Re: Blue Dog Meeting Today',\n",
       " 'Blue Dog Meeting Today',\n",
       " 'Re: payment of invoices, Blue Dog Max',\n",
       " 'Re: payment of invoices, Blue Dog Max',\n",
       " 'Re: payment of invoices, Blue Dog Max',\n",
       " 'payment of invoices, Blue Dog Max',\n",
       " 'payment of invoices, Blue Dog Max',\n",
       " 'Re: Blue Dog - Letter to GE',\n",
       " 'Blue Dog - Letter to GE',\n",
       " 'Friday Meeting re: Blue Dog',\n",
       " 'Friday Meeting re: Blue Dog',\n",
       " 'Re: Friday Meeting re: Blue Dog',\n",
       " 'Re: Friday Meeting re: Blue Dog',\n",
       " 'Friday Meeting re: Blue Dog',\n",
       " 'Re: Blue Dog Max monthly report',\n",
       " 'Re: Blue Dog Max monthly report',\n",
       " 'Blue Dog Max monthly report',\n",
       " 'Blue Dog Max monthly report',\n",
       " 'Blue Dog',\n",
       " 'RE: Blue Dog',\n",
       " 'RE: Blue Dog',\n",
       " 'Blue Dog',\n",
       " 'RE: Blue Dog',\n",
       " 'RE: Blue Dog',\n",
       " 'RE: Blue Dog',\n",
       " 'Re: FW: Blue Dog',\n",
       " 'FW: Blue Dog',\n",
       " 'RE: Blue Dog',\n",
       " 'RE: Blue Dog',\n",
       " 'Re: Enron Blue Dog Assignment',\n",
       " 'Enron Blue Dog Assignment',\n",
       " 'Re: Blue Dog',\n",
       " 'Blue Dog',\n",
       " 'Re: ENA/Blue Dog: Incumbency Certificate',\n",
       " 'ENA/Blue Dog: Incumbency Certificate',\n",
       " 'RE: ENA/Blue Dog: Incumbency Certificate',\n",
       " 'RE: ENA/Blue Dog: Incumbency Certificate',\n",
       " 'Re: ENA/Blue Dog: Incumbency Certificate',\n",
       " 'ENA/Blue Dog: Incumbency Certificate',\n",
       " 'Re: Enron Blue Dog Assignment',\n",
       " 'Re: Enron Blue Dog Assignment',\n",
       " 'Enron Blue Dog Assignment',\n",
       " 'RE: CA for Blue Ridge',\n",
       " 'RE: CA for Blue Ridge',\n",
       " 'RE: CA for Blue Ridge',\n",
       " 'FW: CA for Blue Ridge',\n",
       " 'CA for Blue Ridge',\n",
       " 'FW: CA for Blue Ridge',\n",
       " 'RE: CA for Blue Ridge',\n",
       " 'RE: CA for Blue Ridge',\n",
       " 'FW: CA for Blue Ridge',\n",
       " 'CA for Blue Ridge',\n",
       " 'RE: CA for Blue Ridge',\n",
       " 'RE: CA for Blue Ridge',\n",
       " 'RE: CA for Blue Ridge',\n",
       " 'RE: CA for Blue Ridge',\n",
       " 'RE: CA for Blue Ridge',\n",
       " 'FW: CA for Blue Ridge',\n",
       " 'CA for Blue Ridge',\n",
       " 'FW: ENA/Blue Dog: Execution Sets',\n",
       " 'ENA/Blue Dog: Execution Sets',\n",
       " 'Blue Dog',\n",
       " 'Blue Dog closing list',\n",
       " 'Re: Golf at Doral Blue Course - January 3rd',\n",
       " 'Golf at Doral Blue Course - January 3rd',\n",
       " 'Re: Golf at Doral Blue Course - January 3rd',\n",
       " 'Re: Your Blue Note',\n",
       " 'Re: Your Blue Note',\n",
       " \"Re: Lichtenstein's Blue Note\",\n",
       " \"Re: Lichtenstein's Blue Note\",\n",
       " \"Re: Lichtenstein's Blue Note\",\n",
       " \"Re: Lichtenstein's Blue Note\",\n",
       " \"Re: Lichtenstein's Blue Note\",\n",
       " \"Re: Lichtenstein's Blue Note\",\n",
       " 'Re: Agreement - Updated in Bold (Red).',\n",
       " 'Re: Agreement - Updated in Bold (Red).',\n",
       " 'FW: Red Rock filing',\n",
       " 'Red Rock filing',\n",
       " 'Red Rock Meeting',\n",
       " 'Transwestern Red Rock Expansion',\n",
       " 'FW: Transwestern Red Rock Expansion',\n",
       " 'Transwestern Red Rock Expansion',\n",
       " 'RE: Transwestern Red Rock Expansion',\n",
       " '=09FW: Transwestern Red Rock Expansion',\n",
       " '=09Transwestern Red Rock Expansion',\n",
       " 'Transwestern Red Rock Expansion- FERC Extension Letter',\n",
       " 'RE: Transwestern Red Rock Expansion- FERC Extension Letter',\n",
       " 'RE: Transwestern Red Rock Expansion- FERC Extension Letter',\n",
       " 'Transwestern Red Rock Expansion- FERC Extension Letter',\n",
       " 'Transwestern Red Rock Expansion; Extension Request',\n",
       " 'Re: Blue Range Resource Corporation',\n",
       " 'blue book value',\n",
       " 'Black Marlin / Blue Dolphin',\n",
       " 'Black Marlin / Blue Dolphin',\n",
       " 'Re: Blue Grass Synfuel LLC, et al, v. ENA',\n",
       " 'RE: Blue Ribbon Panel',\n",
       " 'Blue Ribbon Panel',\n",
       " 'FW: One Fish, Two Fish, Yellow Fish, Enron',\n",
       " 'RE: One Fish, Two Fish, Yellow Fish, Enron',\n",
       " 'FW: One Fish, Two Fish, Yellow Fish, Enron',\n",
       " 'FW: One Fish, Two Fish, Yellow Fish, Enron',\n",
       " 'One Fish, Two Fish, Yellow Fish, Enron',\n",
       " 'FW: One Fish, Two Fish, Yellow Fish, Enron',\n",
       " 'FW: One Fish, Two Fish, Yellow Fish, Enron',\n",
       " 'One Fish, Two Fish, Yellow Fish, Enron',\n",
       " 'FW: TW Capacity Affected for Red Rock Tie-ins (CORRECTION)',\n",
       " 'FW: TW Capacity Affected for Red Rock Tie-ins (CORRECTION)',\n",
       " 'RE: TW Capacity Affected for Red Rock Tie-ins',\n",
       " 'TW Capacity Affected for Red Rock Tie-ins=20',\n",
       " 'Re: Red Cedar Receipts',\n",
       " 'Red Cedar Receipts',\n",
       " 'FW: TW Capacity Affected for Red Rock Tie-ins',\n",
       " '=09RE: TW Capacity Affected for Red Rock Tie-ins',\n",
       " '=09RE: TW Capacity Affected for Red Rock Tie-ins',\n",
       " 'TW Capacity Affected for Red Rock Tie-ins=20',\n",
       " 'Re: Red Cedar Contract',\n",
       " 'Red Cedar Contract',\n",
       " 'TW/Red Cedar deal',\n",
       " 'more Red Cedar',\n",
       " 'Red Cedar',\n",
       " 'Red Cedar update',\n",
       " 'New red cedar contract',\n",
       " 'Red Cedar',\n",
       " 'Red Cedar deal',\n",
       " 'Red Cedar letter',\n",
       " 'Red Cedar',\n",
       " 'Red Cedar Letter',\n",
       " 'Red Cedar Letter',\n",
       " 'Red Cedar',\n",
       " 'Red Cedar agency agreement',\n",
       " 'Re: Red Meat',\n",
       " 'Re: Red Meat',\n",
       " 'Re: Red Meat',\n",
       " 'Re: Red Meat',\n",
       " 'Re: Red Meat',\n",
       " 'Re: Red Meat',\n",
       " 'Re: Red Meat',\n",
       " 'Re: Red Meat',\n",
       " 'Re: Red Meat',\n",
       " 'Re: Red Meat',\n",
       " 'Re: Red Meat',\n",
       " 'Re: Red Meat',\n",
       " 'Re: Red Meat',\n",
       " 'Re: Red Meat',\n",
       " 'Re: Red Meat',\n",
       " 'Red Meat',\n",
       " 'Southern Ute Indian Tribe d/b/a Red Willow Production Company',\n",
       " 'Bank of America/ERMS executed master blue file',\n",
       " 'Bank of America/ERMS executed master blue file',\n",
       " 'SmartPortfolio.Com Update: Markets Soar on Blue Chip and Tech Rally',\n",
       " 'SmartPortfolio.Com Update: Markets Soar on Blue Chip and Tech Rall=',\n",
       " 'need a red file',\n",
       " 'Re: Jan/Red Jan nat gas spreads',\n",
       " 'Re: Jan/Red Jan nat gas spreads',\n",
       " 'Blue Sox',\n",
       " 'RE: Blue Sox',\n",
       " 'Blue Sox',\n",
       " 'Here are my changes to GTC bullet letter revision.doc (in blue I',\n",
       " 'Gas at Blue Diamond',\n",
       " 'FW: The Red, White and Blue',\n",
       " 'FW: The Red, White and Blue',\n",
       " 'The Red, White and  Blue',\n",
       " 'FW: Red Rock filing',\n",
       " 'FW: Red Rock filing',\n",
       " 'Red Rock filing',\n",
       " 'FW: TW Capacity Affected for Red Rock Tie-ins (CORRECTION)',\n",
       " 'RE: TW Capacity Affected for Red Rock Tie-ins (CORRECTION)',\n",
       " 'FW: TW Capacity Affected for Red Rock Tie-ins (CORRECTION)',\n",
       " 'RE: TW Capacity Affected for Red Rock Tie-ins',\n",
       " 'TW Capacity Affected for Red Rock Tie-ins=20',\n",
       " 'FW: Air Permit Delay, Red Rock Expansion',\n",
       " 'FW: Air Permit Delay, Red Rock Expansion',\n",
       " 'Air Permit Delay, Red Rock Expansion',\n",
       " 'Letter of Credit $ 5,500,000 in support of Transwestern Pipeline Red Rock Expansion',\n",
       " 'Letter of Credit $ 5,500,000 in support of Transwestern Pipeline Red Rock Expansion',\n",
       " 'RE: EDG and Red Cedar',\n",
       " 'FW: EDG and Red Cedar',\n",
       " 'RE: EDG and Red Cedar',\n",
       " 'FW: EDG and Red Cedar',\n",
       " 'RE: EDG and Red Cedar',\n",
       " 'FW: EDG and Red Cedar',\n",
       " 'EDG and Red Cedar',\n",
       " 'Red Rock impact if delayed',\n",
       " 'FW: Red Rock Weekly Reports',\n",
       " 'Red Rock Weekly Reports',\n",
       " 'Declined: Red Rock PSR',\n",
       " 'Red Lake Storage',\n",
       " 'RE: ReL Red Pepper Soup Recipe',\n",
       " 'ReL Red Pepper Soup Recipe',\n",
       " 'RE: Red Soup Recipe',\n",
       " 'Red Soup Recipe',\n",
       " 'FW: TW Capacity Affected for Red Rock Tie-ins',\n",
       " '=09TW Capacity Affected for Red Rock Tie-ins=20',\n",
       " 'FW: Red-Neck Horseshoes',\n",
       " 'FW: Red-Neck Horseshoes']"
      ]
     },
     "execution_count": 122,
     "metadata": {},
     "output_type": "execute_result"
    }
   ],
   "source": [
    "[line for line in subjects if re.search(r\"\\b(?:[Rr]ed|[Yy]ellow|[Bb]lue)\\b\", line)]"
   ]
  },
  {
   "cell_type": "markdown",
   "metadata": {},
   "source": [
    "##Capturing what matches"
   ]
  },
  {
   "cell_type": "code",
   "execution_count": 144,
   "metadata": {
    "collapsed": false
   },
   "outputs": [
    {
     "name": "stdout",
     "output_type": "stream",
     "text": [
      "not matched!\n"
     ]
    }
   ],
   "source": [
    "greek = \"apha beta gamma delta epsilon zeta eta theta\"\n",
    "foo = \"this is a test of our matching techonology\"\n",
    "if re.search(r\"\\b\\w{5}\\b\",foo):\n",
    "    print \"matched!\"\n",
    "else:\n",
    "    print \"not matched!\""
   ]
  },
  {
   "cell_type": "code",
   "execution_count": 149,
   "metadata": {
    "collapsed": false
   },
   "outputs": [
    {
     "data": {
      "text/plain": [
       "['gamma', 'delta', 'theta']"
      ]
     },
     "execution_count": 149,
     "metadata": {},
     "output_type": "execute_result"
    }
   ],
   "source": [
    "re.findall(r\"\\b\\w{5}\\b\",greek)\n",
    "#to find all the 5-characters words"
   ]
  },
  {
   "cell_type": "code",
   "execution_count": 152,
   "metadata": {
    "collapsed": false
   },
   "outputs": [],
   "source": [
    "all_subjects = open(\"enronsubjects.txt\").read()"
   ]
  },
  {
   "cell_type": "code",
   "execution_count": 153,
   "metadata": {
    "collapsed": false
   },
   "outputs": [
    {
     "data": {
      "text/plain": [
       "['20267',\n",
       " '20267',\n",
       " '20267',\n",
       " '20267',\n",
       " '15956',\n",
       " '22069',\n",
       " '22069',\n",
       " '27291',\n",
       " '27291',\n",
       " '27291',\n",
       " '27291',\n",
       " '27291',\n",
       " '27291',\n",
       " '27291',\n",
       " '27291',\n",
       " '27291',\n",
       " '27291',\n",
       " '35842',\n",
       " '35842',\n",
       " '35842',\n",
       " '35842',\n",
       " '27291',\n",
       " '27291',\n",
       " '27291',\n",
       " '25672',\n",
       " '27190',\n",
       " '25672',\n",
       " '27190',\n",
       " '25672',\n",
       " '27190',\n",
       " '22585',\n",
       " '22585',\n",
       " '22585',\n",
       " '22585',\n",
       " '22585',\n",
       " '22585',\n",
       " '22585',\n",
       " '22585',\n",
       " '22585',\n",
       " '11781',\n",
       " '11781',\n",
       " '78158',\n",
       " '78158',\n",
       " '21349',\n",
       " '21349',\n",
       " '40387',\n",
       " '40387',\n",
       " '19818',\n",
       " '10000',\n",
       " '10000',\n",
       " '80110',\n",
       " '39474',\n",
       " '30643',\n",
       " '30643',\n",
       " '30643',\n",
       " '24690',\n",
       " '24690',\n",
       " '24690',\n",
       " '24690',\n",
       " '26532',\n",
       " '78033',\n",
       " '78032',\n",
       " '78033',\n",
       " '78032',\n",
       " '92886',\n",
       " '92886',\n",
       " '96731',\n",
       " '96731',\n",
       " '34342',\n",
       " '34342',\n",
       " '34342',\n",
       " '34342',\n",
       " '34342',\n",
       " '34342',\n",
       " '34342',\n",
       " '34342',\n",
       " '34342',\n",
       " '34342',\n",
       " '34342',\n",
       " '34342',\n",
       " '34342',\n",
       " '34342',\n",
       " '34342',\n",
       " '34342',\n",
       " '34342',\n",
       " '93481',\n",
       " '93481',\n",
       " '93836',\n",
       " '93836',\n",
       " '93836',\n",
       " '93836',\n",
       " '93836',\n",
       " '93836',\n",
       " '93836',\n",
       " '93836',\n",
       " '93836',\n",
       " '93836',\n",
       " '93836',\n",
       " '93836',\n",
       " '93836',\n",
       " '93836',\n",
       " '93836',\n",
       " '93836',\n",
       " '93836',\n",
       " '93836',\n",
       " '93836',\n",
       " '93836',\n",
       " '93836',\n",
       " '93836',\n",
       " '93836',\n",
       " '93836',\n",
       " '93836',\n",
       " '93836',\n",
       " '34342',\n",
       " '34342',\n",
       " '34342',\n",
       " '34342',\n",
       " '34342',\n",
       " '34342',\n",
       " '34342',\n",
       " '34342',\n",
       " '34342',\n",
       " '34342',\n",
       " '34342',\n",
       " '34342',\n",
       " '34342',\n",
       " '34342',\n",
       " '34342',\n",
       " '34342',\n",
       " '34342',\n",
       " '39833',\n",
       " '39833',\n",
       " '39833',\n",
       " '39833',\n",
       " '39833',\n",
       " '39833',\n",
       " '39833',\n",
       " '38927',\n",
       " '38927',\n",
       " '38927',\n",
       " '38927',\n",
       " '12619',\n",
       " '12578',\n",
       " '12590',\n",
       " '96724',\n",
       " '96724',\n",
       " '51407',\n",
       " '51407',\n",
       " '39764',\n",
       " '77349',\n",
       " '39764',\n",
       " '77349',\n",
       " '39764',\n",
       " '77349',\n",
       " '39764',\n",
       " '77349',\n",
       " '39764',\n",
       " '77349',\n",
       " '39764',\n",
       " '77349',\n",
       " '66547',\n",
       " '66394',\n",
       " '65403',\n",
       " '62164',\n",
       " '62164',\n",
       " '64937',\n",
       " '64937',\n",
       " '01003',\n",
       " '62039',\n",
       " '00458',\n",
       " '16995',\n",
       " '02177',\n",
       " '64937',\n",
       " '64937',\n",
       " '50250',\n",
       " '42789',\n",
       " '62039',\n",
       " '65066',\n",
       " '65066',\n",
       " '65066',\n",
       " '65066',\n",
       " '65066',\n",
       " '65066',\n",
       " '65066',\n",
       " '23231',\n",
       " '77257',\n",
       " '51407',\n",
       " '51407',\n",
       " '51407',\n",
       " '39764',\n",
       " '77349',\n",
       " '39764',\n",
       " '77349',\n",
       " '64231',\n",
       " '64231',\n",
       " '64231',\n",
       " '64231',\n",
       " '64231',\n",
       " '64231',\n",
       " '64231',\n",
       " '64231',\n",
       " '64231',\n",
       " '64231',\n",
       " '64231',\n",
       " '64231',\n",
       " '29667',\n",
       " '29667',\n",
       " '29667',\n",
       " '35874',\n",
       " '35874',\n",
       " '35874',\n",
       " '42789',\n",
       " '15692',\n",
       " '15692',\n",
       " '15692',\n",
       " '15692',\n",
       " '37877',\n",
       " '29667',\n",
       " '24924',\n",
       " '24924',\n",
       " '24924',\n",
       " '24924',\n",
       " '15692',\n",
       " '15692',\n",
       " '29667',\n",
       " '29667',\n",
       " '29667',\n",
       " '29667',\n",
       " '29667',\n",
       " '27253',\n",
       " '27253',\n",
       " '27239',\n",
       " '27239',\n",
       " '27239',\n",
       " '27239',\n",
       " '27239',\n",
       " '27239',\n",
       " '27239',\n",
       " '27239',\n",
       " '27239',\n",
       " '27239',\n",
       " '27239',\n",
       " '27239',\n",
       " '27239',\n",
       " '27239',\n",
       " '27253',\n",
       " '27253',\n",
       " '27253',\n",
       " '27253',\n",
       " '56565',\n",
       " '11111',\n",
       " '11111',\n",
       " '11111',\n",
       " '11111',\n",
       " '11111',\n",
       " '70197',\n",
       " '67207',\n",
       " '67133',\n",
       " '70197',\n",
       " '00010',\n",
       " '00010',\n",
       " '20721',\n",
       " '20740',\n",
       " '20721',\n",
       " '20740',\n",
       " '20721',\n",
       " '20740',\n",
       " '20721',\n",
       " '20740',\n",
       " '20721',\n",
       " '20740',\n",
       " '93394',\n",
       " '20721',\n",
       " '20740',\n",
       " '20721',\n",
       " '20740',\n",
       " '93871',\n",
       " '90593',\n",
       " '90593',\n",
       " '90593',\n",
       " '58911',\n",
       " '11385',\n",
       " '11385',\n",
       " '11385',\n",
       " '11385',\n",
       " '11385',\n",
       " '22027',\n",
       " '22027',\n",
       " '65187',\n",
       " '26862',\n",
       " '26862',\n",
       " '26635',\n",
       " '25374',\n",
       " '25374',\n",
       " '26511',\n",
       " '26511',\n",
       " '26511',\n",
       " '26511',\n",
       " '25374',\n",
       " '25374',\n",
       " '20747',\n",
       " '20748',\n",
       " '20747',\n",
       " '20748',\n",
       " '20747',\n",
       " '20748',\n",
       " '27600',\n",
       " '27600',\n",
       " '27641',\n",
       " '27496',\n",
       " '27496',\n",
       " '25407',\n",
       " '21865',\n",
       " '83017',\n",
       " '83017',\n",
       " '83017',\n",
       " '42976',\n",
       " '42975',\n",
       " '42750',\n",
       " '42896',\n",
       " '42913',\n",
       " '42934',\n",
       " '42933',\n",
       " '42375',\n",
       " '42361',\n",
       " '42661',\n",
       " '42066',\n",
       " '42764',\n",
       " '42150',\n",
       " '42306',\n",
       " '42342',\n",
       " '42354',\n",
       " '41598',\n",
       " '42363',\n",
       " '42371',\n",
       " '42343',\n",
       " '42029',\n",
       " '06752',\n",
       " '06752',\n",
       " '06752',\n",
       " '06736',\n",
       " '06736',\n",
       " '55358',\n",
       " '55358',\n",
       " '55358',\n",
       " '58900',\n",
       " '58900',\n",
       " '12357',\n",
       " '12357',\n",
       " '87541',\n",
       " '55358',\n",
       " '55358',\n",
       " '55358',\n",
       " '55358',\n",
       " '55358',\n",
       " '55358',\n",
       " '55358',\n",
       " '55358',\n",
       " '55358',\n",
       " '55358',\n",
       " '06716',\n",
       " '06980',\n",
       " '06980',\n",
       " '41038',\n",
       " '50569',\n",
       " '19785',\n",
       " '83829',\n",
       " '35830',\n",
       " '35830',\n",
       " '35830',\n",
       " '35830',\n",
       " '35830',\n",
       " '35830',\n",
       " '35830',\n",
       " '35830',\n",
       " '35830',\n",
       " '35830',\n",
       " '27579',\n",
       " '27579',\n",
       " '27579',\n",
       " '27579',\n",
       " '27252',\n",
       " '27252',\n",
       " '27252',\n",
       " '47477',\n",
       " '47477',\n",
       " '52330',\n",
       " '52330',\n",
       " '15444',\n",
       " '15444',\n",
       " '15444',\n",
       " '15444',\n",
       " '15444',\n",
       " '15444',\n",
       " '20001',\n",
       " '20001',\n",
       " '26486',\n",
       " '24468',\n",
       " '24468',\n",
       " '24468',\n",
       " '24468',\n",
       " '24468',\n",
       " '24468',\n",
       " '24468',\n",
       " '53091',\n",
       " '78728',\n",
       " '78728',\n",
       " '78728',\n",
       " '00003',\n",
       " '00003',\n",
       " '00003',\n",
       " '00003',\n",
       " '00003',\n",
       " '00003',\n",
       " '00003',\n",
       " '00003',\n",
       " '00003',\n",
       " '78728',\n",
       " '78728',\n",
       " '78728',\n",
       " '27253',\n",
       " '26490',\n",
       " '26606',\n",
       " '26819',\n",
       " '26819',\n",
       " '26819',\n",
       " '26819',\n",
       " '27291',\n",
       " '27291',\n",
       " '25672',\n",
       " '27190',\n",
       " '25672',\n",
       " '27190',\n",
       " '25672',\n",
       " '27190',\n",
       " '27291',\n",
       " '27291',\n",
       " '27291',\n",
       " '14790',\n",
       " '14790',\n",
       " '14790',\n",
       " '14790',\n",
       " '14790',\n",
       " '14790',\n",
       " '14790',\n",
       " '14790',\n",
       " '70996',\n",
       " '70996',\n",
       " '94074',\n",
       " '38616',\n",
       " '38616',\n",
       " '25841',\n",
       " '26511',\n",
       " '25841',\n",
       " '26511',\n",
       " '25841',\n",
       " '26511',\n",
       " '25841',\n",
       " '26511',\n",
       " '27606',\n",
       " '27606',\n",
       " '27606',\n",
       " '27606',\n",
       " '27606',\n",
       " '24194',\n",
       " '24194',\n",
       " '06752',\n",
       " '06752']"
      ]
     },
     "execution_count": 153,
     "metadata": {},
     "output_type": "execute_result"
    }
   ],
   "source": [
    "re.findall(r\"\\b\\d{5}\\b\",all_subjects)"
   ]
  },
  {
   "cell_type": "code",
   "execution_count": 159,
   "metadata": {
    "collapsed": false
   },
   "outputs": [
    {
     "data": {
      "text/plain": [
       "['$228',\n",
       " '$228',\n",
       " '$10M',\n",
       " '$10M',\n",
       " '$10M',\n",
       " '$10M',\n",
       " '$68',\n",
       " '$2.19',\n",
       " '$2.19',\n",
       " '$25',\n",
       " '$25',\n",
       " '$25',\n",
       " '$25',\n",
       " '$25',\n",
       " '$25',\n",
       " '$25',\n",
       " '$25',\n",
       " '$25',\n",
       " '$25',\n",
       " '$25',\n",
       " '$25',\n",
       " '$25',\n",
       " '$25',\n",
       " '$820',\n",
       " '$820',\n",
       " '$40',\n",
       " '$27',\n",
       " '$27',\n",
       " '$50',\n",
       " '$50',\n",
       " '$895',\n",
       " '$895',\n",
       " '$19.3',\n",
       " '$19.3',\n",
       " '$19.3',\n",
       " '$19.3',\n",
       " '$870K',\n",
       " '$870K',\n",
       " '$141',\n",
       " '$141',\n",
       " '$21',\n",
       " '$6.1B',\n",
       " '$8.9B',\n",
       " '$14',\n",
       " '$14',\n",
       " '$100',\n",
       " '$250',\n",
       " '$350M',\n",
       " '$.01',\n",
       " '$.01',\n",
       " '$.01',\n",
       " '$.01',\n",
       " '$12.5',\n",
       " '$12.5',\n",
       " '$12.5',\n",
       " '$12.5',\n",
       " '$10',\n",
       " '$1.2M',\n",
       " '$1.2M',\n",
       " '$1.2M',\n",
       " '$1.2M',\n",
       " '$1.2M',\n",
       " '$1.2M',\n",
       " '$1.2M',\n",
       " '$700',\n",
       " '$700',\n",
       " '$700',\n",
       " '$10',\n",
       " '$10',\n",
       " '$13B',\n",
       " '$13B',\n",
       " '$100',\n",
       " '$500k',\n",
       " '$500k',\n",
       " '$500k',\n",
       " '$500k',\n",
       " '$500k',\n",
       " '$500k',\n",
       " '$500k',\n",
       " '$500k',\n",
       " '$500k',\n",
       " '$971',\n",
       " '$971',\n",
       " '$971',\n",
       " '$971',\n",
       " '$971',\n",
       " '$971',\n",
       " '$1B',\n",
       " '$1B',\n",
       " '$39',\n",
       " '$39',\n",
       " '$10',\n",
       " '$10',\n",
       " '$149',\n",
       " '$50',\n",
       " '$50',\n",
       " '$50',\n",
       " '$21',\n",
       " '$21',\n",
       " '$550',\n",
       " '$455',\n",
       " '$7M',\n",
       " '$7M',\n",
       " '$7M',\n",
       " '$7M',\n",
       " '$7M',\n",
       " '$7M',\n",
       " '$100',\n",
       " '$20',\n",
       " '$20',\n",
       " '$20',\n",
       " '$20',\n",
       " '$100',\n",
       " '$100',\n",
       " '$100',\n",
       " '$20',\n",
       " '$20',\n",
       " '$29.75',\n",
       " '$29.75',\n",
       " '$29.75',\n",
       " '$29.75',\n",
       " '$29.75',\n",
       " '$29.75',\n",
       " '$1600',\n",
       " '$1600',\n",
       " '$1600',\n",
       " '$1600',\n",
       " '$1600',\n",
       " '$1600',\n",
       " '$1600',\n",
       " '$67',\n",
       " '$2.7',\n",
       " '$2.7',\n",
       " '$100m',\n",
       " '$50',\n",
       " '$9.6M',\n",
       " '$9.6M',\n",
       " '$212.50',\n",
       " '$212.50',\n",
       " '$212.50',\n",
       " '$212.50',\n",
       " '$212.50',\n",
       " '$212.50',\n",
       " '$195',\n",
       " '$195',\n",
       " '$195',\n",
       " '$195',\n",
       " '$195',\n",
       " '$195',\n",
       " '$195',\n",
       " '$195',\n",
       " '$195',\n",
       " '$195',\n",
       " '$195',\n",
       " '$195',\n",
       " '$42',\n",
       " '$42',\n",
       " '$42',\n",
       " '$7M',\n",
       " '$7M',\n",
       " '$7M',\n",
       " '$9.92',\n",
       " '$9.92',\n",
       " '$10',\n",
       " '$10',\n",
       " '$16',\n",
       " '$16',\n",
       " '$16',\n",
       " '$500m',\n",
       " '$500m',\n",
       " '$500m',\n",
       " '$80',\n",
       " '$80',\n",
       " '$80',\n",
       " '$80',\n",
       " '$80',\n",
       " '$80',\n",
       " '$80',\n",
       " '$50M',\n",
       " '$1.2',\n",
       " '$102',\n",
       " '$102',\n",
       " '$200',\n",
       " '$50',\n",
       " '$25',\n",
       " '$25',\n",
       " '$25',\n",
       " '$1.5m',\n",
       " '$1.5m',\n",
       " '$1.5',\n",
       " '$1.5',\n",
       " '$120',\n",
       " '$120',\n",
       " '$.01',\n",
       " '$.01',\n",
       " '$.01',\n",
       " '$.01',\n",
       " '$.01',\n",
       " '$.01',\n",
       " '$45',\n",
       " '$45',\n",
       " '$147',\n",
       " '$147',\n",
       " '$147',\n",
       " '$147',\n",
       " '$147',\n",
       " '$147',\n",
       " '$147',\n",
       " '$600B',\n",
       " '$600B',\n",
       " '$147',\n",
       " '$147',\n",
       " '$147',\n",
       " '$240',\n",
       " '$240',\n",
       " '$22.8',\n",
       " '$22.8',\n",
       " '$22.8',\n",
       " '$100k',\n",
       " '$6.00',\n",
       " '$77',\n",
       " '$183',\n",
       " '$4.6B',\n",
       " '$2.15',\n",
       " '$2.15',\n",
       " '$130',\n",
       " '$130',\n",
       " '$130',\n",
       " '$0.25',\n",
       " '$10',\n",
       " '$10',\n",
       " '$10',\n",
       " '$10',\n",
       " '$10',\n",
       " '$10',\n",
       " '$128',\n",
       " '$128']"
      ]
     },
     "execution_count": 159,
     "metadata": {},
     "output_type": "execute_result"
    }
   ],
   "source": [
    "# finds strings that just have the dollar sign ($) in them:\n",
    "re.findall(r\"\\$[0-9.]+\\w\",all_subjects)"
   ]
  },
  {
   "cell_type": "code",
   "execution_count": 169,
   "metadata": {
    "collapsed": false
   },
   "outputs": [
    {
     "data": {
      "text/plain": [
       "['$10M',\n",
       " '$10M',\n",
       " '$10M',\n",
       " '$10M',\n",
       " '$870K',\n",
       " '$870K',\n",
       " '$6.1B',\n",
       " '$8.9B',\n",
       " '$350M',\n",
       " '$1.2M',\n",
       " '$1.2M',\n",
       " '$1.2M',\n",
       " '$1.2M',\n",
       " '$1.2M',\n",
       " '$1.2M',\n",
       " '$1.2M',\n",
       " '$13B',\n",
       " '$13B',\n",
       " '$500k',\n",
       " '$500k',\n",
       " '$500k',\n",
       " '$500k',\n",
       " '$500k',\n",
       " '$500k',\n",
       " '$500k',\n",
       " '$500k',\n",
       " '$500k',\n",
       " '$1B',\n",
       " '$1B',\n",
       " '$7M',\n",
       " '$7M',\n",
       " '$7M',\n",
       " '$7M',\n",
       " '$7M',\n",
       " '$7M',\n",
       " '$100m',\n",
       " '$9.6M',\n",
       " '$9.6M',\n",
       " '$7M',\n",
       " '$7M',\n",
       " '$7M',\n",
       " '$500m',\n",
       " '$500m',\n",
       " '$500m',\n",
       " '$50M',\n",
       " '$1.5m',\n",
       " '$1.5m',\n",
       " '$600B',\n",
       " '$600B',\n",
       " '$100k',\n",
       " '$4.6B']"
      ]
     },
     "execution_count": 169,
     "metadata": {},
     "output_type": "execute_result"
    }
   ],
   "source": [
    "re.findall(r\"\\$[0-9.]+(?:[mM]|[bB]|[kK])\",all_subjects)"
   ]
  },
  {
   "cell_type": "code",
   "execution_count": 170,
   "metadata": {
    "collapsed": true
   },
   "outputs": [],
   "source": [
    "## Grouping in regular expressions"
   ]
  },
  {
   "cell_type": "code",
   "execution_count": 172,
   "metadata": {
    "collapsed": false
   },
   "outputs": [
    {
     "name": "stdout",
     "output_type": "stream",
     "text": [
      "<type '_sre.SRE_Match'>\n",
      "True\n",
      "27\n",
      "30\n",
      "423\n"
     ]
    }
   ],
   "source": [
    "ourstring = \"this example has been used 423 times\"\n",
    "ourmatch = re.search( r\"\\d\\d\\d\",ourstring ) # a match object\n",
    "print type( ourmatch ) # <type '_sre.SRE_Match'>\n",
    "print bool( ourmatch )\n",
    "print ourmatch.start() # 27 # matched this string starting at this position \n",
    "print ourmatch.end() # 30\n",
    "print ourmatch.group() # '423'"
   ]
  },
  {
   "cell_type": "code",
   "execution_count": 175,
   "metadata": {
    "collapsed": false
   },
   "outputs": [
    {
     "data": {
      "text/plain": [
       "'CSCI'"
      ]
     },
     "execution_count": 175,
     "metadata": {},
     "output_type": "execute_result"
    }
   ],
   "source": [
    "course = \"CSCI 105: Introductory Programming for Cat Lovers\"\n",
    "match = re.search(r\"^[A-Z]+\\b\",course)\n",
    "match.group()"
   ]
  },
  {
   "cell_type": "code",
   "execution_count": 177,
   "metadata": {
    "collapsed": false
   },
   "outputs": [
    {
     "data": {
      "text/plain": [
       "'105:'"
      ]
     },
     "execution_count": 177,
     "metadata": {},
     "output_type": "execute_result"
    }
   ],
   "source": [
    "match2 = re.search(r\"\\b\\d{3,}\\b:\",course)\n",
    "match2.group()"
   ]
  },
  {
   "cell_type": "code",
   "execution_count": 178,
   "metadata": {
    "collapsed": false
   },
   "outputs": [
    {
     "data": {
      "text/plain": [
       "': Introductory Programming for Cat Lovers'"
      ]
     },
     "execution_count": 178,
     "metadata": {},
     "output_type": "execute_result"
    }
   ],
   "source": [
    "match3 = re.search(r\":.*$\",course)\n",
    "match3.group()"
   ]
  },
  {
   "cell_type": "markdown",
   "metadata": {},
   "source": [
    "## Grouping with parentheses\n",
    "```\n",
    "(x)(y)(z)find x,y,z and treat as a \"group\"\n",
    "```"
   ]
  },
  {
   "cell_type": "code",
   "execution_count": 192,
   "metadata": {
    "collapsed": false
   },
   "outputs": [
    {
     "data": {
      "text/plain": [
       "('CSCI', '105')"
      ]
     },
     "execution_count": 192,
     "metadata": {},
     "output_type": "execute_result"
    }
   ],
   "source": [
    "course = \"CSCI 105: Introductory Programming for Cat Lovers\"\n",
    "match = re.search(r\"^([A-Z]+) (\\d{3,}):\",course)\n",
    "match.groups()"
   ]
  },
  {
   "cell_type": "code",
   "execution_count": 196,
   "metadata": {
    "collapsed": false
   },
   "outputs": [
    {
     "data": {
      "text/plain": [
       "('CSCI', '105', 'Introductory Programming for Cat Lovers')"
      ]
     },
     "execution_count": 196,
     "metadata": {},
     "output_type": "execute_result"
    }
   ],
   "source": [
    "course = \"CSCI 105: Introductory Programming for Cat Lovers\"\n",
    "match = re.search(r\"^([A-Z]+) (\\d{3,}): (.*)$\",course)\n",
    "match.groups()"
   ]
  },
  {
   "cell_type": "code",
   "execution_count": 198,
   "metadata": {
    "collapsed": false
   },
   "outputs": [
    {
     "data": {
      "text/plain": [
       "('LING', '214', 'Saying Things Backwards')"
      ]
     },
     "execution_count": 198,
     "metadata": {},
     "output_type": "execute_result"
    }
   ],
   "source": [
    "course2 = \"LING 214: Saying Things Backwards\"\n",
    "match = re.search(r\"^([A-Z]+) (\\d{3,}): (.*)$\",course2)\n",
    "match.groups()"
   ]
  },
  {
   "cell_type": "code",
   "execution_count": null,
   "metadata": {
    "collapsed": true
   },
   "outputs": [],
   "source": []
  },
  {
   "cell_type": "code",
   "execution_count": null,
   "metadata": {
    "collapsed": true
   },
   "outputs": [],
   "source": []
  }
 ],
 "metadata": {
  "kernelspec": {
   "display_name": "Python 2",
   "language": "python",
   "name": "python2"
  },
  "language_info": {
   "codemirror_mode": {
    "name": "ipython",
    "version": 2
   },
   "file_extension": ".py",
   "mimetype": "text/x-python",
   "name": "python",
   "nbconvert_exporter": "python",
   "pygments_lexer": "ipython2",
   "version": "2.7.10"
  }
 },
 "nbformat": 4,
 "nbformat_minor": 0
}
