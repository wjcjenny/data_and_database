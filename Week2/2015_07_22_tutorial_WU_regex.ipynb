{
 "cells": [
  {
   "cell_type": "code",
   "execution_count": 1,
   "metadata": {
    "collapsed": true
   },
   "outputs": [],
   "source": [
    "s = \"buffoon\""
   ]
  },
  {
   "cell_type": "markdown",
   "metadata": {},
   "source": [
    "##Substring checks"
   ]
  },
  {
   "cell_type": "code",
   "execution_count": 3,
   "metadata": {
    "collapsed": false
   },
   "outputs": [
    {
     "data": {
      "text/plain": [
       "True"
      ]
     },
     "execution_count": 3,
     "metadata": {},
     "output_type": "execute_result"
    }
   ],
   "source": [
    "\"foo\" in s"
   ]
  },
  {
   "cell_type": "code",
   "execution_count": 4,
   "metadata": {
    "collapsed": false
   },
   "outputs": [
    {
     "data": {
      "text/plain": [
       "False"
      ]
     },
     "execution_count": 4,
     "metadata": {},
     "output_type": "execute_result"
    }
   ],
   "source": [
    "\"whisky\" in s"
   ]
  },
  {
   "cell_type": "code",
   "execution_count": 5,
   "metadata": {
    "collapsed": true
   },
   "outputs": [],
   "source": [
    "t = \"foodie\""
   ]
  },
  {
   "cell_type": "code",
   "execution_count": 6,
   "metadata": {
    "collapsed": false
   },
   "outputs": [
    {
     "data": {
      "text/plain": [
       "True"
      ]
     },
     "execution_count": 6,
     "metadata": {},
     "output_type": "execute_result"
    }
   ],
   "source": [
    "t.startswith(\"foo\")"
   ]
  },
  {
   "cell_type": "code",
   "execution_count": 7,
   "metadata": {
    "collapsed": false
   },
   "outputs": [
    {
     "name": "stdout",
     "output_type": "stream",
     "text": [
      "foodie\n"
     ]
    },
    {
     "data": {
      "text/plain": [
       "False"
      ]
     },
     "execution_count": 7,
     "metadata": {},
     "output_type": "execute_result"
    }
   ],
   "source": [
    "print t\n",
    "t.endswith(\"live!\")"
   ]
  },
  {
   "cell_type": "code",
   "execution_count": 8,
   "metadata": {
    "collapsed": false
   },
   "outputs": [
    {
     "data": {
      "text/plain": [
       "False"
      ]
     },
     "execution_count": 8,
     "metadata": {},
     "output_type": "execute_result"
    }
   ],
   "source": [
    "\"Foo\" in t "
   ]
  },
  {
   "cell_type": "code",
   "execution_count": 9,
   "metadata": {
    "collapsed": false
   },
   "outputs": [
    {
     "data": {
      "text/plain": [
       "False"
      ]
     },
     "execution_count": 9,
     "metadata": {},
     "output_type": "execute_result"
    }
   ],
   "source": [
    "\"FOO\" in t "
   ]
  },
  {
   "cell_type": "code",
   "execution_count": 10,
   "metadata": {
    "collapsed": false
   },
   "outputs": [
    {
     "name": "stdout",
     "output_type": "stream",
     "text": [
      "foodie\n"
     ]
    }
   ],
   "source": [
    "print t"
   ]
  },
  {
   "cell_type": "code",
   "execution_count": 11,
   "metadata": {
    "collapsed": false
   },
   "outputs": [
    {
     "data": {
      "text/plain": [
       "True"
      ]
     },
     "execution_count": 11,
     "metadata": {},
     "output_type": "execute_result"
    }
   ],
   "source": [
    "t.islower()"
   ]
  },
  {
   "cell_type": "code",
   "execution_count": 20,
   "metadata": {
    "collapsed": false
   },
   "outputs": [
    {
     "data": {
      "text/plain": [
       "False"
      ]
     },
     "execution_count": 20,
     "metadata": {},
     "output_type": "execute_result"
    }
   ],
   "source": [
    "t.isupper()"
   ]
  },
  {
   "cell_type": "code",
   "execution_count": 24,
   "metadata": {
    "collapsed": false
   },
   "outputs": [
    {
     "data": {
      "text/plain": [
       "[\"let's\", 'all', 'go', 'to', 'Paris', 'with', 'John', 'and', 'Sue']"
      ]
     },
     "execution_count": 24,
     "metadata": {},
     "output_type": "execute_result"
    }
   ],
   "source": [
    "text_with_names = \"let's all go to Paris with John and Sue\"\n",
    "words = text_with_names.split()\n",
    "words"
   ]
  },
  {
   "cell_type": "code",
   "execution_count": 25,
   "metadata": {
    "collapsed": false
   },
   "outputs": [
    {
     "data": {
      "text/plain": [
       "['Paris', 'John', 'Sue']"
      ]
     },
     "execution_count": 25,
     "metadata": {},
     "output_type": "execute_result"
    }
   ],
   "source": [
    "[item for item in words if item[0].isupper()]"
   ]
  },
  {
   "cell_type": "markdown",
   "metadata": {},
   "source": [
    "##Finding positions or substrings"
   ]
  },
  {
   "cell_type": "code",
   "execution_count": 27,
   "metadata": {
    "collapsed": false
   },
   "outputs": [
    {
     "data": {
      "text/plain": [
       "11"
      ]
     },
     "execution_count": 27,
     "metadata": {},
     "output_type": "execute_result"
    }
   ],
   "source": [
    "prose = \"Now is the winter of our discontent\"\n",
    "prose.find(\"win\")"
   ]
  },
  {
   "cell_type": "code",
   "execution_count": 31,
   "metadata": {
    "collapsed": false
   },
   "outputs": [
    {
     "data": {
      "text/plain": [
       "-1"
      ]
     },
     "execution_count": 31,
     "metadata": {},
     "output_type": "execute_result"
    }
   ],
   "source": [
    "prose.find(\"lose\")"
   ]
  },
  {
   "cell_type": "code",
   "execution_count": 37,
   "metadata": {
    "collapsed": false
   },
   "outputs": [
    {
     "name": "stdout",
     "output_type": "stream",
     "text": [
      "winter of our discontent\n"
     ]
    }
   ],
   "source": [
    "position = prose.find(\"win\")\n",
    "if position != -1:\n",
    "    print prose[position:]"
   ]
  },
  {
   "cell_type": "markdown",
   "metadata": {},
   "source": [
    "## String slices"
   ]
  },
  {
   "cell_type": "code",
   "execution_count": 39,
   "metadata": {
    "collapsed": false
   },
   "outputs": [
    {
     "data": {
      "text/plain": [
       "'g'"
      ]
     },
     "execution_count": 39,
     "metadata": {},
     "output_type": "execute_result"
    }
   ],
   "source": [
    "message = \"bungalow\"\n",
    "message[3]"
   ]
  },
  {
   "cell_type": "code",
   "execution_count": 40,
   "metadata": {
    "collapsed": false
   },
   "outputs": [
    {
     "data": {
      "text/plain": [
       "'ungal'"
      ]
     },
     "execution_count": 40,
     "metadata": {},
     "output_type": "execute_result"
    }
   ],
   "source": [
    "message[1:6]"
   ]
  },
  {
   "cell_type": "code",
   "execution_count": 41,
   "metadata": {
    "collapsed": false
   },
   "outputs": [
    {
     "data": {
      "text/plain": [
       "'bun'"
      ]
     },
     "execution_count": 41,
     "metadata": {},
     "output_type": "execute_result"
    }
   ],
   "source": [
    "message[0:3]"
   ]
  },
  {
   "cell_type": "code",
   "execution_count": 42,
   "metadata": {
    "collapsed": false
   },
   "outputs": [
    {
     "data": {
      "text/plain": [
       "'bun'"
      ]
     },
     "execution_count": 42,
     "metadata": {},
     "output_type": "execute_result"
    }
   ],
   "source": [
    "message[:3]"
   ]
  },
  {
   "cell_type": "code",
   "execution_count": 43,
   "metadata": {
    "collapsed": false
   },
   "outputs": [
    {
     "data": {
      "text/plain": [
       "'ngalow'"
      ]
     },
     "execution_count": 43,
     "metadata": {},
     "output_type": "execute_result"
    }
   ],
   "source": [
    "message[2:]"
   ]
  },
  {
   "cell_type": "code",
   "execution_count": 44,
   "metadata": {
    "collapsed": false
   },
   "outputs": [
    {
     "data": {
      "text/plain": [
       "['101', '201', '324']"
      ]
     },
     "execution_count": 44,
     "metadata": {},
     "output_type": "execute_result"
    }
   ],
   "source": [
    "courses = [\"101 Intro to Yogurt Studies\",\n",
    "          \"201 Advanced Yogurt Studies\",\n",
    "          \"324 Graduate Seminar in Contemporary Yogurt Issues\"]\n",
    "[item[:3] for item in courses]"
   ]
  },
  {
   "cell_type": "code",
   "execution_count": 45,
   "metadata": {
    "collapsed": false
   },
   "outputs": [
    {
     "name": "stdout",
     "output_type": "stream",
     "text": [
      "bungalow\n"
     ]
    }
   ],
   "source": [
    "print message"
   ]
  },
  {
   "cell_type": "code",
   "execution_count": 46,
   "metadata": {
    "collapsed": false
   },
   "outputs": [
    {
     "data": {
      "text/plain": [
       "'w'"
      ]
     },
     "execution_count": 46,
     "metadata": {},
     "output_type": "execute_result"
    }
   ],
   "source": [
    "message[-1]"
   ]
  },
  {
   "cell_type": "code",
   "execution_count": 47,
   "metadata": {
    "collapsed": false
   },
   "outputs": [
    {
     "data": {
      "text/plain": [
       "'o'"
      ]
     },
     "execution_count": 47,
     "metadata": {},
     "output_type": "execute_result"
    }
   ],
   "source": [
    "message[-2]"
   ]
  },
  {
   "cell_type": "code",
   "execution_count": 48,
   "metadata": {
    "collapsed": false
   },
   "outputs": [
    {
     "data": {
      "text/plain": [
       "'ow'"
      ]
     },
     "execution_count": 48,
     "metadata": {},
     "output_type": "execute_result"
    }
   ],
   "source": [
    "message[-2:]"
   ]
  },
  {
   "cell_type": "code",
   "execution_count": 50,
   "metadata": {
    "collapsed": false
   },
   "outputs": [
    {
     "data": {
      "text/plain": [
       "'bungalo'"
      ]
     },
     "execution_count": 50,
     "metadata": {},
     "output_type": "execute_result"
    }
   ],
   "source": [
    "message[:-1]"
   ]
  },
  {
   "cell_type": "code",
   "execution_count": 53,
   "metadata": {
    "collapsed": false
   },
   "outputs": [
    {
     "data": {
      "text/plain": [
       "['101', '201', '324']"
      ]
     },
     "execution_count": 53,
     "metadata": {},
     "output_type": "execute_result"
    }
   ],
   "source": [
    "courses = [\"Intro to Yogurt Studies 101\",\n",
    "          \"Advanced Yogurt Studies 201\",\n",
    "          \"Graduate Seminar in Contemporary Yogurt Issues 324\"]\n",
    "[item[-3:] for item in courses]"
   ]
  },
  {
   "cell_type": "code",
   "execution_count": 54,
   "metadata": {
    "collapsed": true
   },
   "outputs": [],
   "source": [
    "# x[______:_____]\n",
    "#   start  end"
   ]
  },
  {
   "cell_type": "markdown",
   "metadata": {},
   "source": [
    "## String transformations"
   ]
  },
  {
   "cell_type": "code",
   "execution_count": 57,
   "metadata": {
    "collapsed": true
   },
   "outputs": [],
   "source": [
    "email = \"ARGUMENTATION! DISAGREEMENT! STRIFE!\""
   ]
  },
  {
   "cell_type": "code",
   "execution_count": 58,
   "metadata": {
    "collapsed": false
   },
   "outputs": [
    {
     "data": {
      "text/plain": [
       "'argumentation! disagreement! strife!'"
      ]
     },
     "execution_count": 58,
     "metadata": {},
     "output_type": "execute_result"
    }
   ],
   "source": [
    "email.lower()"
   ]
  },
  {
   "cell_type": "code",
   "execution_count": 59,
   "metadata": {
    "collapsed": true
   },
   "outputs": [],
   "source": [
    "poetry = \"e.e. cummings is. not .happy. about this. stop.\""
   ]
  },
  {
   "cell_type": "code",
   "execution_count": 65,
   "metadata": {
    "collapsed": false
   },
   "outputs": [
    {
     "data": {
      "text/plain": [
       "'E.E. CUMMINGS IS. NOT .HAPPY. ABOUT THIS. STOP.Stop'"
      ]
     },
     "execution_count": 65,
     "metadata": {},
     "output_type": "execute_result"
    }
   ],
   "source": [
    "poetry.upper() + \"Stop\""
   ]
  },
  {
   "cell_type": "code",
   "execution_count": 64,
   "metadata": {
    "collapsed": false
   },
   "outputs": [
    {
     "data": {
      "text/plain": [
       "'Dr. Strangelove, Or ,How I Learned To Love The Bomb'"
      ]
     },
     "execution_count": 64,
     "metadata": {},
     "output_type": "execute_result"
    }
   ],
   "source": [
    "movie = \"dr. strangelove, or ,how I learned to love the bomb\"\n",
    "movie.title()"
   ]
  },
  {
   "cell_type": "code",
   "execution_count": 66,
   "metadata": {
    "collapsed": false
   },
   "outputs": [
    {
     "data": {
      "text/plain": [
       "'dr. strangelove, or ,how I learned to love the bomb'"
      ]
     },
     "execution_count": 66,
     "metadata": {},
     "output_type": "execute_result"
    }
   ],
   "source": [
    "fixme = \"dr. strangelove, or ,how I learned to love the bomb\"\n",
    "fixme.strip()"
   ]
  },
  {
   "cell_type": "code",
   "execution_count": 67,
   "metadata": {
    "collapsed": true
   },
   "outputs": [],
   "source": [
    "## "
   ]
  },
  {
   "cell_type": "code",
   "execution_count": 68,
   "metadata": {
    "collapsed": false
   },
   "outputs": [
    {
     "name": "stdout",
     "output_type": "stream",
     "text": [
      "if you have a string\n"
     ]
    }
   ],
   "source": [
    "print \"if you have a string\""
   ]
  },
  {
   "cell_type": "code",
   "execution_count": 69,
   "metadata": {
    "collapsed": false
   },
   "outputs": [
    {
     "name": "stdout",
     "output_type": "stream",
     "text": [
      "if you \"have\" a string\n"
     ]
    }
   ],
   "source": [
    "print \"if you \\\"have\\\" a string\""
   ]
  },
  {
   "cell_type": "code",
   "execution_count": 76,
   "metadata": {
    "collapsed": false
   },
   "outputs": [
    {
     "name": "stdout",
     "output_type": "stream",
     "text": [
      "I have eaten\n",
      "the plums\n",
      "that were in \n",
      "the icebox\n"
     ]
    }
   ],
   "source": [
    "poem = \"I have eaten\\nthe plums\\nthat were in \\nthe icebox\"\n",
    "#include line break,use back slash + n \"\\n\"\n",
    "print poem"
   ]
  },
  {
   "cell_type": "code",
   "execution_count": 77,
   "metadata": {
    "collapsed": true
   },
   "outputs": [],
   "source": [
    "actual_backslash = \"you need to type two \\\\backslashes\""
   ]
  },
  {
   "cell_type": "code",
   "execution_count": 78,
   "metadata": {
    "collapsed": false
   },
   "outputs": [
    {
     "name": "stdout",
     "output_type": "stream",
     "text": [
      "you need to type two \\backslashes\n"
     ]
    }
   ],
   "source": [
    "print actual_backslash"
   ]
  },
  {
   "cell_type": "markdown",
   "metadata": {},
   "source": [
    "##Regular Expression"
   ]
  },
  {
   "cell_type": "code",
   "execution_count": 80,
   "metadata": {
    "collapsed": true
   },
   "outputs": [],
   "source": [
    "input_str = \"here is a zip code:12345. 567 is not, but 45678 is.\""
   ]
  },
  {
   "cell_type": "code",
   "execution_count": 81,
   "metadata": {
    "collapsed": false
   },
   "outputs": [
    {
     "name": "stdout",
     "output_type": "stream",
     "text": [
      "here is a zip code:12345. 567 is not, but 45678 is.\n"
     ]
    }
   ],
   "source": [
    "print input_str"
   ]
  },
  {
   "cell_type": "code",
   "execution_count": 82,
   "metadata": {
    "collapsed": false
   },
   "outputs": [
    {
     "ename": "NameError",
     "evalue": "name 'find_zipcodes' is not defined",
     "output_type": "error",
     "traceback": [
      "\u001b[0;31m---------------------------------------------------------------------------\u001b[0m",
      "\u001b[0;31mNameError\u001b[0m                                 Traceback (most recent call last)",
      "\u001b[0;32m<ipython-input-82-1131dd3bc637>\u001b[0m in \u001b[0;36m<module>\u001b[0;34m()\u001b[0m\n\u001b[0;32m----> 1\u001b[0;31m \u001b[0mfind_zipcodes\u001b[0m\u001b[0;34m(\u001b[0m\u001b[0minput_str\u001b[0m\u001b[0;34m)\u001b[0m \u001b[0;31m#evaluate to ['12345','45678']\u001b[0m\u001b[0;34m\u001b[0m\u001b[0m\n\u001b[0m",
      "\u001b[0;31mNameError\u001b[0m: name 'find_zipcodes' is not defined"
     ]
    }
   ],
   "source": [
    "find_zipcodes(input_str) #evaluate to ['12345','45678']"
   ]
  },
  {
   "cell_type": "code",
   "execution_count": 83,
   "metadata": {
    "collapsed": false
   },
   "outputs": [
    {
     "name": "stdout",
     "output_type": "stream",
     "text": [
      "['12345', '45678', '23456']\n"
     ]
    }
   ],
   "source": [
    "input_str = \"here's a zip code: 12345. 567 isn't a zip code, but 45678 is. 23456? yet another zip code.\"\n",
    "current = \"\"\n",
    "zips = []\n",
    "for ch in input_str:\n",
    "    if ch in '0123456789':\n",
    "        current += ch\n",
    "    else:\n",
    "        current = \"\"\n",
    "    if len(current) == 5:\n",
    "        zips.append(current)\n",
    "        current = \"\"\n",
    "print zips"
   ]
  },
  {
   "cell_type": "code",
   "execution_count": 94,
   "metadata": {
    "collapsed": false
   },
   "outputs": [
    {
     "data": {
      "text/plain": [
       "('enronsubjects.txt', <httplib.HTTPMessage instance at 0x1098142d8>)"
      ]
     },
     "execution_count": 94,
     "metadata": {},
     "output_type": "execute_result"
    }
   ],
   "source": [
    "import urllib\n",
    "urllib.urlretrieve(\"https://raw.githubusercontent.com/ledeprogram/courses/master/databases/data/enronsubjects.txt\", \"enronsubjects.txt\")"
   ]
  },
  {
   "cell_type": "code",
   "execution_count": 95,
   "metadata": {
    "collapsed": false
   },
   "outputs": [
    {
     "data": {
      "text/plain": [
       "['Re:',\n",
       " 'ALLEN DURANGO HOTEL ------- 48 HR CANCEL',\n",
       " 'ALLEN DURANGO HOTEL ------- 48 HR CANCEL',\n",
       " 'ALLEN DURANGO HOTEL ------- 48 HR CANCEL',\n",
       " 'Just Released! Exclusive new animation from Stan Lee',\n",
       " 'Just Released! Exclusive new animation from Stan Lee',\n",
       " 'Re: Feb. Expense Report',\n",
       " 'Re: 91acres',\n",
       " \"PIRA's California/Southwest Gas Pipeline Study\",\n",
       " \"PIRA's California/Southwest Gas Pipeline Study\",\n",
       " \"PIRA's California/Southwest Gas Pipeline Study\",\n",
       " 'Re: Desk to Desk access Request',\n",
       " 'Re: February expenses',\n",
       " 'Re:',\n",
       " 'Storage of Cycles at the Body Shop',\n",
       " 'Storage of Cycles at the Body Shop',\n",
       " 'New Generation as of Oct 24th',\n",
       " 'New Generation as of Oct 24th',\n",
       " 'Western Strategy Briefing',\n",
       " 'Western Strategy Briefing',\n",
       " 'RE: W basis quotes',\n",
       " 'RE: W basis quotes',\n",
       " 'RE: W basis quotes',\n",
       " 'RE: W basis quotes',\n",
       " 'Re: APEA - $228,204 hit',\n",
       " 'Re: W basis quotes',\n",
       " 'Re: January El paso invoice',\n",
       " 'Re: Kim Olinger - Transport Rate Team',\n",
       " 'Re: APEA - $228,204 hit',\n",
       " 'Re: Curve Update',\n",
       " 'Re: Website Access approval requested',\n",
       " 'Re: Vishal Apte',\n",
       " 'dopewars',\n",
       " 'dopewars',\n",
       " 'dopewars',\n",
       " 'RE: Choosing a style',\n",
       " 'RE: Choosing a style',\n",
       " 'Choosing a style',\n",
       " 'Re:',\n",
       " 'Re: ENROLLMENT CONFIRMATION/Impact/ECT',\n",
       " 'eol',\n",
       " 'Re: Resumes',\n",
       " 'Re:',\n",
       " 'Re:',\n",
       " 'Re: receipts',\n",
       " 'Re: Are you trying to be funny?',\n",
       " 'Stick it in your Shockmachine!',\n",
       " 'Stick it in your Shockmachine!',\n",
       " 'Talking points about California Gas market',\n",
       " 'Talking points about California Gas market',\n",
       " 'Resumes',\n",
       " 'Resumes',\n",
       " 'Re: 2- SURVEY/INFORMATION EMAIL 5-14- 01',\n",
       " '2- SURVEY/INFORMATION EMAIL 5-14- 01',\n",
       " 'Re:',\n",
       " 'California Summary',\n",
       " 'California Summary',\n",
       " 'Additional California Load Information',\n",
       " 'Re: Western Wholesale Activities - Gas & Power Conf. Call',\n",
       " 'Re: Western Wholesale Activities - Gas & Power Conf. Call',\n",
       " 'Re: Western Wholesale Activities - Gas & Power Conf. Call',\n",
       " 'California Update 5/4/01',\n",
       " 'California Update 5/4/01',\n",
       " 'Re: Western Wholesale Activities - Gas & Power Conf. Call',\n",
       " 'Re: Western Wholesale Activities - Gas & Power Conf. Call',\n",
       " 'Re: Western Wholesale Activities - Gas & Power Conf. Call',\n",
       " 'Re:',\n",
       " 'Re: Inquiry....',\n",
       " 'Re: 2- SURVEY - PHILLIP ALLEN',\n",
       " 'Re: 2- SURVEY - PHILLIP ALLEN',\n",
       " '4-URGENT - OWA Please print this now.',\n",
       " '4-URGENT - OWA Please print this now.',\n",
       " '2- SURVEY/INFORMATION EMAIL',\n",
       " '2- SURVEY/INFORMATION EMAIL',\n",
       " 'Re: Request from Steve Kean',\n",
       " 'Request from Steve Kean',\n",
       " 'Request from Steve Kean',\n",
       " 'Request from Steve Kean',\n",
       " 'Request from Steve Kean',\n",
       " 'Request from Steve Kean',\n",
       " 'Request from Steve Kean',\n",
       " 'Re: Analyst Resume - Rafael Avila',\n",
       " 'Re: Inquiry....',\n",
       " 'Re: Leander etc.',\n",
       " 'Re:',\n",
       " \"Re: FERC's Prospective Mitigation and Monitoring Plan for CA\",\n",
       " 'Re: Unocal WAHA Storage',\n",
       " \"Re: This morning's Commission meeting delayed\",\n",
       " \"Re: This morning's Commission meeting delayed\",\n",
       " \"Re: This morning's Commission meeting delayed\",\n",
       " \"Re: This morning's Commission meeting delayed\",\n",
       " 'Re: Instructions for FERC Meetings',\n",
       " 'Instructions for FERC Meetings',\n",
       " 'Instructions for FERC Meetings',\n",
       " 'Instructions for FERC Meetings',\n",
       " 'Re:',\n",
       " 'Generation',\n",
       " 'Generation',\n",
       " 'Re: The Stage',\n",
       " 'Re: Analyst Ashish Mahajan',\n",
       " 'Re: Resume',\n",
       " 'Re: Analyst Bryan Hull',\n",
       " 'Re: FW: Trading Track Program',\n",
       " 'Re: Do you still access data from Inteligence Press online??',\n",
       " 'RE: Presentation to Trading Track A&A',\n",
       " 'RE: Presentation to Trading Track A&A',\n",
       " 'Re: Presentation to Trading Track A&A',\n",
       " 'Re: Approval for Plasma Screens',\n",
       " 'Re: Resume',\n",
       " 'Re: FW: 2nd lien info. and private lien info - The Stage Coach',\n",
       " 'Re: Presentation to Trading Track A&A',\n",
       " 'approved trader list',\n",
       " 'approved trader list',\n",
       " 'Re: insurance - the stage',\n",
       " 'RE: The Stage',\n",
       " 'Re: The Stage',\n",
       " 'CAISO demand reduction',\n",
       " 'CAISO demand reduction',\n",
       " 'Re: FW: SanJuan/SoCal spread prices',\n",
       " 'Re: SanJuan/SoCal spread prices',\n",
       " 'SanJuan/SoCal spread prices',\n",
       " 'SanJuan/SoCal spread prices',\n",
       " 'Re:',\n",
       " 'Re: Astral downtime request',\n",
       " 'Re: Answers to List',\n",
       " 'EES Gas Desk Happy Hour',\n",
       " 'EES Gas Desk Happy Hour',\n",
       " 'Re: Location',\n",
       " 'Enron Center Garage',\n",
       " 'Enron Center Garage',\n",
       " 'Re:',\n",
       " 'Re: Approval for Plasma Screens',\n",
       " 'Nondeliverable mail',\n",
       " 'Nondeliverable mail',\n",
       " 'Nondeliverable mail',\n",
       " 'Nondeliverable mail',\n",
       " 'Re: Opening Day - Baseball Tickets',\n",
       " 'November fixed-price deals',\n",
       " 'November fixed-price deals',\n",
       " 'Re: NGI access to eol',\n",
       " 'Re: NGI access to eol',\n",
       " 'Re: Derek Kelly',\n",
       " 'Re: Purchase and Sale Agreement',\n",
       " 'Current Gas Desk List',\n",
       " 'Current Gas Desk List',\n",
       " 'Re:',\n",
       " 'Re: Buyout',\n",
       " 'ERMS / RMS Databases',\n",
       " 'ERMS / RMS Databases',\n",
       " 'RE: Buyout',\n",
       " 'RE: Buyout',\n",
       " 'Re: Buyout',\n",
       " 'Your Approval is Overdue: Access Request for mike.grigsby@enron.com',\n",
       " 'Your Approval is Overdue: Access Request for mike.grigsby@enron.com',\n",
       " 'Re: Buyout',\n",
       " 'Matt Smith',\n",
       " 'Matt Smith',\n",
       " 'Re: Confidential Employee Information/Lenhart',\n",
       " 'Behind the Stage Two',\n",
       " 'Behind the Stage Two',\n",
       " 'RE: PERSONAL AND CONFIDENTIAL COMPENSATION INFORMATION',\n",
       " 'Re: (No Subject)',\n",
       " 'Sagewood M/F',\n",
       " 'Sagewood M/F',\n",
       " 'Bishops Corner, Ltd. Buyout',\n",
       " 'Bishops Corner, Ltd. Buyout',\n",
       " 'Bishops Corner, Ltd. -- Restructure or Buyout',\n",
       " 'Bishops Corner, Ltd. Buyout',\n",
       " 'Bishops Corner, Ltd. Buyout',\n",
       " 'Bishops Corner, Ltd. -- Restructure or Buyout',\n",
       " 'FW: ALL 1099 TAX QUESTIONS - ANSWERED',\n",
       " 'FW: ALL 1099 TAX QUESTIONS - ANSWERED',\n",
       " 'matt Smith',\n",
       " 'matt Smith',\n",
       " 'Mike Grigsby',\n",
       " 'Sagewood Phase II',\n",
       " 'Sagewood Phase II',\n",
       " 'Sagewood Phase II',\n",
       " 'Re: San Marcos',\n",
       " 'Revised Long Range Hydro Forecast',\n",
       " 'Revised Long Range Hydro Forecast',\n",
       " 'RE: the stage',\n",
       " 'Re: the stage',\n",
       " 'Re: password',\n",
       " 'Re: MS 150',\n",
       " 'FW: Cross Commodity',\n",
       " 'FW: Cross Commodity',\n",
       " 'Cross Commodity',\n",
       " 'Re: Insight Hardware',\n",
       " 'Re: Producer Services',\n",
       " \"Re: Enron's March Basdeload Fixed price physical deals as of 2/27\",\n",
       " \"Re: Enron's March Basdeload Fixed price physical deals as of 2/27\",\n",
       " \"Re: Enron's March Basdeload Fixed price physical deals as of 2/27\",\n",
       " \"Re: Enron's March Basdeload Fixed price physical deals as of 2/27\",\n",
       " 'San Marcos construction project',\n",
       " 'Re: Genesis Plant Tour',\n",
       " 'RE: Comparison of Estimates',\n",
       " 'Sagewood II',\n",
       " 'Sagewood II',\n",
       " 'New Generation Report for January 2001',\n",
       " 'New Generation Report for January 2001',\n",
       " 'Re: Comparison of Estimates',\n",
       " 'Recession Scenario Impact on Power and Gas',\n",
       " 'Recession Scenario Impact on Power and Gas',\n",
       " 'SM134 Proforma2.xls',\n",
       " 'SM134 Proforma2.xls',\n",
       " 'Re: Weekly Status Meeting',\n",
       " 'Weekly Status Meeting',\n",
       " 'Weekly Status Meeting',\n",
       " 'leander and the Stage',\n",
       " 'leander and the Stage',\n",
       " 'Daily California Call Moved to Weekly Call',\n",
       " 'Daily California Call Moved to Weekly Call',\n",
       " 'SM134 Proforma2.xls',\n",
       " 'SM134 Proforma2.xls',\n",
       " 'Re: FW: Change in the agroup Cycling Schedule',\n",
       " 'Re: General Issues',\n",
       " 'Re:',\n",
       " 'Re: General Issues',\n",
       " 'Re: DRAW2.xls',\n",
       " 'Re:',\n",
       " 'DRAW2.xls',\n",
       " 'DRAW2.xls',\n",
       " 'RE:',\n",
       " 'RE:',\n",
       " 'Re: MAI Appraisal',\n",
       " 'RE:',\n",
       " 'RE:',\n",
       " 'RE:',\n",
       " 'Re:',\n",
       " 'CERA Analysis - California',\n",
       " 'CERA Analysis - California',\n",
       " 'Re: Great Web Site',\n",
       " 'Re: EXTRINSIC VALUE WORKSHEET',\n",
       " 'Re: AEC Volumes at OPAL',\n",
       " 'Re: AEC Volumes at OPAL',\n",
       " 'AEC Volumes at OPAL',\n",
       " 'AEC Volumes at OPAL',\n",
       " 'California Gas Demand Growth',\n",
       " 'California Gas Demand Growth',\n",
       " 'the stage',\n",
       " 'the stage',\n",
       " 'Investment Structure',\n",
       " 'Investment Structure',\n",
       " 'Re: stage coach',\n",
       " 'Governor Reports Results of 1st RFP -- ONLY 500 MW!!!!',\n",
       " 'Governor Reports Results of 1st RFP -- ONLY 500 MW!!!!',\n",
       " 'Smeltering',\n",
       " 'Smeltering',\n",
       " 'Re: Listing of Desk Directors',\n",
       " 'Re: Pipe Options Book Admin Role',\n",
       " 're: book admin for Pipe/Gas daily option book',\n",
       " 're: book admin for Pipe/Gas daily option book',\n",
       " 're: book admin for Pipe/Gas daily option book',\n",
       " 'final business points',\n",
       " 're: book admin for Pipe/Gas daily option book',\n",
       " 're: book admin for Pipe/Gas daily option book',\n",
       " 'RE: Phillip Allen Response on Partnership Issues',\n",
       " 'Re: web site',\n",
       " 'Re: web site',\n",
       " 'Re: Enron',\n",
       " 'Re: The Stage',\n",
       " 'Highlights of Executive Summary by KPMG -- CPUC Audit Report on',\n",
       " 'Highlights of Executive Summary by KPMG -- CPUC Audit Report on=20',\n",
       " 'CPUC posts audit reports',\n",
       " 'CPUC posts audit reports',\n",
       " 'Re: Bishops Corner Partnership',\n",
       " 'RE:Stock Options',\n",
       " 'RE:Stock Options',\n",
       " 'Re: 32 acres',\n",
       " 'Re: SM134',\n",
       " 'Re: SM134',\n",
       " 'RE: Loan for San Marcos',\n",
       " 'Re: NGI access to eol',\n",
       " 'Enron',\n",
       " 'NGI access to eol',\n",
       " 'NGI access to eol',\n",
       " 'Status of QF negotiations on QFs & Legislative Update',\n",
       " 'Status of QF negotiations on QFs & Legislative Update',\n",
       " 'Status of QF negotiations on QFs & Legislative Update',\n",
       " 'Analyst Interviews Needed - 2/15/01',\n",
       " 'Analyst Interviews Needed - 2/15/01',\n",
       " 'Re: Resume',\n",
       " 'Kidventure Camp',\n",
       " 'Kidventure Camp',\n",
       " 'Re: Draft of Opposition to ORA/TURN petition',\n",
       " 'Re: Draft of Opposition to ORA/TURN petition',\n",
       " 'Re: Response to PGE request for gas',\n",
       " 'Re: Response to PGE request for gas',\n",
       " 'Response to PGE request for gas',\n",
       " 'Re: Please respond',\n",
       " 'Re: Please respond',\n",
       " 'California Action Update 1-14-00',\n",
       " 'California Action Update 1-14-00',\n",
       " 'California - Jan 13 meeting',\n",
       " 'California - Jan 13 meeting',\n",
       " 'Re:',\n",
       " 'Re: Analyst Rotating',\n",
       " 'Re: EOL Screens in new Body Shop',\n",
       " 'Analyst Rotating']"
      ]
     },
     "execution_count": 95,
     "metadata": {},
     "output_type": "execute_result"
    }
   ],
   "source": [
    "subjects = [x.strip() for x in open(\"enronsubjects.txt\").readlines()]\n",
    "subjects[200:500]"
   ]
  },
  {
   "cell_type": "code",
   "execution_count": 96,
   "metadata": {
    "collapsed": false
   },
   "outputs": [
    {
     "data": {
      "text/plain": [
       "176825"
      ]
     },
     "execution_count": 96,
     "metadata": {},
     "output_type": "execute_result"
    }
   ],
   "source": [
    "len(subjects)"
   ]
  },
  {
   "cell_type": "code",
   "execution_count": 97,
   "metadata": {
    "collapsed": false
   },
   "outputs": [
    {
     "data": {
      "text/plain": [
       "['FW: How to use UPS for shipping on the internet',\n",
       " 'FW: How to use UPS for shipping on the internet',\n",
       " 'How to use UPS for shipping on the internet',\n",
       " 'FW: How to use UPS for shipping on the internet',\n",
       " 'FW: How to use UPS for shipping on the internet',\n",
       " 'How to use UPS for shipping on the internet',\n",
       " 'lng shipping/mosk meeting in tokyo 2nd of feb',\n",
       " 'lng shipping/mosk meeting in tokyo 2nd of feb',\n",
       " 'Re: lng shipping',\n",
       " 'Re: lng shipping',\n",
       " 'Re: lng shipping',\n",
       " 'Re: lng shipping',\n",
       " 'Re: lng shipping',\n",
       " 'lng shipping',\n",
       " 'Re: lng shipping',\n",
       " 'Re: lng shipping',\n",
       " 'Re: lng shipping',\n",
       " 'lng shipping',\n",
       " 'lng shipping',\n",
       " 'lng shipping',\n",
       " 'Re: lng shipping',\n",
       " 'lng shipping']"
      ]
     },
     "execution_count": 97,
     "metadata": {},
     "output_type": "execute_result"
    }
   ],
   "source": [
    "[line for line in subjects if \"shipping\" in line]"
   ]
  },
  {
   "cell_type": "code",
   "execution_count": 98,
   "metadata": {
    "collapsed": false
   },
   "outputs": [
    {
     "data": {
      "text/plain": [
       "['FW: How to use UPS for shipping on the internet',\n",
       " 'FW: How to use UPS for shipping on the internet',\n",
       " 'How to use UPS for shipping on the internet',\n",
       " 'FW: How to use UPS for shipping on the internet',\n",
       " 'FW: How to use UPS for shipping on the internet',\n",
       " 'How to use UPS for shipping on the internet',\n",
       " 'lng shipping/mosk meeting in tokyo 2nd of feb',\n",
       " 'lng shipping/mosk meeting in tokyo 2nd of feb',\n",
       " 'Re: lng shipping',\n",
       " 'Re: lng shipping',\n",
       " 'Re: lng shipping',\n",
       " 'Re: lng shipping',\n",
       " 'Re: lng shipping',\n",
       " 'lng shipping',\n",
       " 'Re: lng shipping',\n",
       " 'Re: lng shipping',\n",
       " 'Re: lng shipping',\n",
       " 'lng shipping',\n",
       " 'lng shipping',\n",
       " 'lng shipping',\n",
       " 'Re: lng shipping',\n",
       " 'lng shipping']"
      ]
     },
     "execution_count": 98,
     "metadata": {},
     "output_type": "execute_result"
    }
   ],
   "source": [
    "import re\n",
    "[line for line in subjects if re.search(\"shipping\", line)]"
   ]
  },
  {
   "cell_type": "markdown",
   "metadata": {},
   "source": [
    "####metacharcters"
   ]
  },
  {
   "cell_type": "code",
   "execution_count": 3,
   "metadata": {
    "collapsed": false
   },
   "outputs": [
    {
     "ename": "NameError",
     "evalue": "name 'subjects' is not defined",
     "output_type": "error",
     "traceback": [
      "\u001b[0;31m---------------------------------------------------------------------------\u001b[0m",
      "\u001b[0;31mNameError\u001b[0m                                 Traceback (most recent call last)",
      "\u001b[0;32m<ipython-input-3-89825e3435ab>\u001b[0m in \u001b[0;36m<module>\u001b[0;34m()\u001b[0m\n\u001b[1;32m      1\u001b[0m \u001b[0;32mimport\u001b[0m \u001b[0mre\u001b[0m\u001b[0;34m\u001b[0m\u001b[0m\n\u001b[0;32m----> 2\u001b[0;31m \u001b[0;34m[\u001b[0m\u001b[0mline\u001b[0m \u001b[0;32mfor\u001b[0m \u001b[0mline\u001b[0m \u001b[0;32min\u001b[0m \u001b[0msubjects\u001b[0m \u001b[0;32mif\u001b[0m \u001b[0mre\u001b[0m\u001b[0;34m.\u001b[0m\u001b[0msearch\u001b[0m\u001b[0;34m(\u001b[0m\u001b[0;34m\"sh.pping\"\u001b[0m\u001b[0;34m,\u001b[0m \u001b[0mline\u001b[0m\u001b[0;34m)\u001b[0m\u001b[0;34m]\u001b[0m\u001b[0;34m\u001b[0m\u001b[0m\n\u001b[0m\u001b[1;32m      3\u001b[0m \u001b[0;34m\u001b[0m\u001b[0m\n\u001b[1;32m      4\u001b[0m \u001b[0;31m#  . match any character\u001b[0m\u001b[0;34m\u001b[0m\u001b[0;34m\u001b[0m\u001b[0m\n",
      "\u001b[0;31mNameError\u001b[0m: name 'subjects' is not defined"
     ]
    }
   ],
   "source": [
    "import re\n",
    "[line for line in subjects if re.search(\"sh.pping\", line)]\n",
    "\n",
    "#  . match any character"
   ]
  },
  {
   "cell_type": "code",
   "execution_count": 4,
   "metadata": {
    "collapsed": true
   },
   "outputs": [],
   "source": [
    "# .  match any character\n",
    "# \\w alphanum A-Z,a-z,0-9,\n",
    "# \\s whitespace character\n",
    "# \\S non-whitespace character\n",
    "# \\d digit\n",
    "# \\. period"
   ]
  },
  {
   "cell_type": "code",
   "execution_count": 5,
   "metadata": {
    "collapsed": false
   },
   "outputs": [
    {
     "ename": "NameError",
     "evalue": "name 'subjects' is not defined",
     "output_type": "error",
     "traceback": [
      "\u001b[0;31m---------------------------------------------------------------------------\u001b[0m",
      "\u001b[0;31mNameError\u001b[0m                                 Traceback (most recent call last)",
      "\u001b[0;32m<ipython-input-5-a5e5b021db2f>\u001b[0m in \u001b[0;36m<module>\u001b[0;34m()\u001b[0m\n\u001b[0;32m----> 1\u001b[0;31m \u001b[0;34m[\u001b[0m\u001b[0mline\u001b[0m \u001b[0;32mfor\u001b[0m \u001b[0mline\u001b[0m \u001b[0;32min\u001b[0m \u001b[0msubjects\u001b[0m \u001b[0;32mif\u001b[0m \u001b[0mre\u001b[0m\u001b[0;34m.\u001b[0m\u001b[0msearch\u001b[0m\u001b[0;34m(\u001b[0m\u001b[0;34mr\"\\d:\\d\\d\\wm\"\u001b[0m\u001b[0;34m,\u001b[0m \u001b[0mline\u001b[0m\u001b[0;34m)\u001b[0m\u001b[0;34m]\u001b[0m\u001b[0;34m\u001b[0m\u001b[0m\n\u001b[0m",
      "\u001b[0;31mNameError\u001b[0m: name 'subjects' is not defined"
     ]
    }
   ],
   "source": [
    "[line for line in subjects if re.search(r\"\\d:\\d\\d\\wm\", line)]"
   ]
  },
  {
   "cell_type": "markdown",
   "metadata": {},
   "source": [
    "## What about that r\"\""
   ]
  },
  {
   "cell_type": "code",
   "execution_count": 6,
   "metadata": {
    "collapsed": false
   },
   "outputs": [
    {
     "name": "stdout",
     "output_type": "stream",
     "text": [
      "this is\n",
      "a test\n",
      "this is\\na test\n",
      "I love \\ backslashes!\n",
      "I love \\ backslashes!\n"
     ]
    }
   ],
   "source": [
    "print \"this is\\na test\"\n",
    "print r\"this is\\na test\"\n",
    "print \"I love \\\\ backslashes!\"\n",
    "print r\"I love \\ backslashes!\""
   ]
  },
  {
   "cell_type": "code",
   "execution_count": 7,
   "metadata": {
    "collapsed": false
   },
   "outputs": [
    {
     "data": {
      "text/plain": [
       "<_sre.SRE_Match at 0x1046913d8>"
      ]
     },
     "execution_count": 7,
     "metadata": {},
     "output_type": "execute_result"
    }
   ],
   "source": [
    "re.search(r\"\\bhello\\b\",\"hello there\")"
   ]
  },
  {
   "cell_type": "code",
   "execution_count": 8,
   "metadata": {
    "collapsed": false
   },
   "outputs": [
    {
     "name": "stdout",
     "output_type": "stream",
     "text": [
      "\b\n"
     ]
    }
   ],
   "source": [
    "print \"\\b\""
   ]
  },
  {
   "cell_type": "markdown",
   "metadata": {},
   "source": [
    "##Character Classes"
   ]
  },
  {
   "cell_type": "code",
   "execution_count": 9,
   "metadata": {
    "collapsed": false
   },
   "outputs": [
    {
     "data": {
      "text/plain": [
       "\"\\n[aeiou] match any vowel\\n[02468] match any even digit\\n[Ed] match either 'E' or 'e'\\n[a-z] match all the alphbetics in lower case\\n\\n\""
      ]
     },
     "execution_count": 9,
     "metadata": {},
     "output_type": "execute_result"
    }
   ],
   "source": [
    "'''\n",
    "[aeiou] match any vowel\n",
    "[02468] match any even digit\n",
    "[Ed] match either 'E' or 'e'\n",
    "[a-z] match all the alphbetics in lower case\n",
    "\n",
    "'''"
   ]
  },
  {
   "cell_type": "code",
   "execution_count": 10,
   "metadata": {
    "collapsed": false
   },
   "outputs": [
    {
     "ename": "NameError",
     "evalue": "name 'subjects' is not defined",
     "output_type": "error",
     "traceback": [
      "\u001b[0;31m---------------------------------------------------------------------------\u001b[0m",
      "\u001b[0;31mNameError\u001b[0m                                 Traceback (most recent call last)",
      "\u001b[0;32m<ipython-input-10-6be0cae38e54>\u001b[0m in \u001b[0;36m<module>\u001b[0;34m()\u001b[0m\n\u001b[0;32m----> 1\u001b[0;31m \u001b[0;34m[\u001b[0m\u001b[0mline\u001b[0m \u001b[0;32mfor\u001b[0m \u001b[0mline\u001b[0m \u001b[0;32min\u001b[0m \u001b[0msubjects\u001b[0m \u001b[0;32mif\u001b[0m \u001b[0mre\u001b[0m\u001b[0;34m.\u001b[0m\u001b[0msearch\u001b[0m\u001b[0;34m(\u001b[0m\u001b[0;34mr\"[aeiou][aeiou][aeiou][aeiou]\"\u001b[0m\u001b[0;34m,\u001b[0m \u001b[0mline\u001b[0m\u001b[0;34m)\u001b[0m\u001b[0;34m]\u001b[0m\u001b[0;34m\u001b[0m\u001b[0m\n\u001b[0m",
      "\u001b[0;31mNameError\u001b[0m: name 'subjects' is not defined"
     ]
    }
   ],
   "source": [
    "[line for line in subjects if re.search(r\"[aeiou][aeiou][aeiou][aeiou]\", line)]"
   ]
  },
  {
   "cell_type": "markdown",
   "metadata": {},
   "source": [
    "## Anchors\n",
    "matches a position inside of a string"
   ]
  },
  {
   "cell_type": "code",
   "execution_count": 11,
   "metadata": {
    "collapsed": true
   },
   "outputs": [],
   "source": [
    "# ^  match at beginning of string\n",
    "# $  match at end of string\n",
    "# \\b match at word boundary"
   ]
  },
  {
   "cell_type": "code",
   "execution_count": 12,
   "metadata": {
    "collapsed": false
   },
   "outputs": [
    {
     "ename": "NameError",
     "evalue": "name 'subjects' is not defined",
     "output_type": "error",
     "traceback": [
      "\u001b[0;31m---------------------------------------------------------------------------\u001b[0m",
      "\u001b[0;31mNameError\u001b[0m                                 Traceback (most recent call last)",
      "\u001b[0;32m<ipython-input-12-597032dd71ee>\u001b[0m in \u001b[0;36m<module>\u001b[0;34m()\u001b[0m\n\u001b[0;32m----> 1\u001b[0;31m \u001b[0;34m[\u001b[0m\u001b[0mline\u001b[0m \u001b[0;32mfor\u001b[0m \u001b[0mline\u001b[0m \u001b[0;32min\u001b[0m \u001b[0msubjects\u001b[0m \u001b[0;32mif\u001b[0m \u001b[0mre\u001b[0m\u001b[0;34m.\u001b[0m\u001b[0msearch\u001b[0m\u001b[0;34m(\u001b[0m\u001b[0;34mr\"^New York\"\u001b[0m\u001b[0;34m,\u001b[0m \u001b[0mline\u001b[0m\u001b[0;34m)\u001b[0m\u001b[0;34m]\u001b[0m\u001b[0;34m\u001b[0m\u001b[0m\n\u001b[0m",
      "\u001b[0;31mNameError\u001b[0m: name 'subjects' is not defined"
     ]
    }
   ],
   "source": [
    "[line for line in subjects if re.search(r\"^New York\", line)]"
   ]
  },
  {
   "cell_type": "code",
   "execution_count": 13,
   "metadata": {
    "collapsed": false
   },
   "outputs": [
    {
     "ename": "NameError",
     "evalue": "name 'subjects' is not defined",
     "output_type": "error",
     "traceback": [
      "\u001b[0;31m---------------------------------------------------------------------------\u001b[0m",
      "\u001b[0;31mNameError\u001b[0m                                 Traceback (most recent call last)",
      "\u001b[0;32m<ipython-input-13-26ab9e352a8e>\u001b[0m in \u001b[0;36m<module>\u001b[0;34m()\u001b[0m\n\u001b[0;32m----> 1\u001b[0;31m \u001b[0;34m[\u001b[0m\u001b[0mline\u001b[0m \u001b[0;32mfor\u001b[0m \u001b[0mline\u001b[0m \u001b[0;32min\u001b[0m \u001b[0msubjects\u001b[0m \u001b[0;32mif\u001b[0m \u001b[0mre\u001b[0m\u001b[0;34m.\u001b[0m\u001b[0msearch\u001b[0m\u001b[0;34m(\u001b[0m\u001b[0;34mr\"^[Nn]ew [Yy]ork\"\u001b[0m\u001b[0;34m,\u001b[0m \u001b[0mline\u001b[0m\u001b[0;34m)\u001b[0m\u001b[0;34m]\u001b[0m\u001b[0;34m\u001b[0m\u001b[0m\n\u001b[0m\u001b[1;32m      2\u001b[0m \u001b[0;31m#make character class to put the upper and lower case in the []\u001b[0m\u001b[0;34m\u001b[0m\u001b[0;34m\u001b[0m\u001b[0m\n\u001b[1;32m      3\u001b[0m \u001b[0;31m# Get all the results start with new york or New York\u001b[0m\u001b[0;34m\u001b[0m\u001b[0;34m\u001b[0m\u001b[0m\n",
      "\u001b[0;31mNameError\u001b[0m: name 'subjects' is not defined"
     ]
    }
   ],
   "source": [
    "[line for line in subjects if re.search(r\"^[Nn]ew [Yy]ork\", line)]\n",
    "#make character class to put the upper and lower case in the []\n",
    "# Get all the results start with new york or New York"
   ]
  },
  {
   "cell_type": "code",
   "execution_count": 14,
   "metadata": {
    "collapsed": false
   },
   "outputs": [
    {
     "ename": "NameError",
     "evalue": "name 'subjects' is not defined",
     "output_type": "error",
     "traceback": [
      "\u001b[0;31m---------------------------------------------------------------------------\u001b[0m",
      "\u001b[0;31mNameError\u001b[0m                                 Traceback (most recent call last)",
      "\u001b[0;32m<ipython-input-14-a1d2bccb92d5>\u001b[0m in \u001b[0;36m<module>\u001b[0;34m()\u001b[0m\n\u001b[1;32m      1\u001b[0m \u001b[0;31m# To get Every subject line that ends with an ellipsis:\u001b[0m\u001b[0;34m\u001b[0m\u001b[0;34m\u001b[0m\u001b[0m\n\u001b[0;32m----> 2\u001b[0;31m \u001b[0;34m[\u001b[0m\u001b[0mline\u001b[0m \u001b[0;32mfor\u001b[0m \u001b[0mline\u001b[0m \u001b[0;32min\u001b[0m \u001b[0msubjects\u001b[0m \u001b[0;32mif\u001b[0m \u001b[0mre\u001b[0m\u001b[0;34m.\u001b[0m\u001b[0msearch\u001b[0m\u001b[0;34m(\u001b[0m\u001b[0;34mr\"\\.\\.\\.$\"\u001b[0m\u001b[0;34m,\u001b[0m \u001b[0mline\u001b[0m\u001b[0;34m)\u001b[0m\u001b[0;34m]\u001b[0m\u001b[0;34m\u001b[0m\u001b[0m\n\u001b[0m",
      "\u001b[0;31mNameError\u001b[0m: name 'subjects' is not defined"
     ]
    }
   ],
   "source": [
    "# To get Every subject line that ends with an ellipsis:\n",
    "[line for line in subjects if re.search(r\"\\.\\.\\.$\", line)]"
   ]
  },
  {
   "cell_type": "markdown",
   "metadata": {},
   "source": [
    "##Quantifiers"
   ]
  },
  {
   "cell_type": "code",
   "execution_count": 15,
   "metadata": {
    "collapsed": false
   },
   "outputs": [
    {
     "ename": "NameError",
     "evalue": "name 'subjects' is not defined",
     "output_type": "error",
     "traceback": [
      "\u001b[0;31m---------------------------------------------------------------------------\u001b[0m",
      "\u001b[0;31mNameError\u001b[0m                                 Traceback (most recent call last)",
      "\u001b[0;32m<ipython-input-15-2f64c7a00e0c>\u001b[0m in \u001b[0;36m<module>\u001b[0;34m()\u001b[0m\n\u001b[0;32m----> 1\u001b[0;31m \u001b[0;34m[\u001b[0m\u001b[0mline\u001b[0m \u001b[0;32mfor\u001b[0m \u001b[0mline\u001b[0m \u001b[0;32min\u001b[0m \u001b[0msubjects\u001b[0m \u001b[0;32mif\u001b[0m \u001b[0mre\u001b[0m\u001b[0;34m.\u001b[0m\u001b[0msearch\u001b[0m\u001b[0;34m(\u001b[0m\u001b[0;34mr\"\\b[Nn]ews\\b.*!$\"\u001b[0m\u001b[0;34m,\u001b[0m \u001b[0mline\u001b[0m\u001b[0;34m)\u001b[0m\u001b[0;34m]\u001b[0m\u001b[0;34m\u001b[0m\u001b[0m\n\u001b[0m\u001b[1;32m      2\u001b[0m \u001b[0;31m# * is a quantifier\u001b[0m\u001b[0;34m\u001b[0m\u001b[0;34m\u001b[0m\u001b[0m\n\u001b[1;32m      3\u001b[0m \u001b[0;31m# to get them start with news\u001b[0m\u001b[0;34m\u001b[0m\u001b[0;34m\u001b[0m\u001b[0m\n",
      "\u001b[0;31mNameError\u001b[0m: name 'subjects' is not defined"
     ]
    }
   ],
   "source": [
    "[line for line in subjects if re.search(r\"\\b[Nn]ews\\b.*!$\", line)]\n",
    "# * is a quantifier\n",
    "# to get them start with news\n"
   ]
  },
  {
   "cell_type": "markdown",
   "metadata": {},
   "source": [
    "##alternation"
   ]
  },
  {
   "cell_type": "markdown",
   "metadata": {},
   "source": [
    "```\n",
    "(?:x|y): match either x or y\n",
    "(?:x|y|z): match x, y or z\n",
    "etc.\n",
    "```"
   ]
  },
  {
   "cell_type": "code",
   "execution_count": 16,
   "metadata": {
    "collapsed": false
   },
   "outputs": [
    {
     "ename": "NameError",
     "evalue": "name 'subjects' is not defined",
     "output_type": "error",
     "traceback": [
      "\u001b[0;31m---------------------------------------------------------------------------\u001b[0m",
      "\u001b[0;31mNameError\u001b[0m                                 Traceback (most recent call last)",
      "\u001b[0;32m<ipython-input-16-9aee63b49483>\u001b[0m in \u001b[0;36m<module>\u001b[0;34m()\u001b[0m\n\u001b[0;32m----> 1\u001b[0;31m \u001b[0mlen\u001b[0m\u001b[0;34m(\u001b[0m\u001b[0;34m[\u001b[0m\u001b[0mline\u001b[0m \u001b[0;32mfor\u001b[0m \u001b[0mline\u001b[0m \u001b[0;32min\u001b[0m \u001b[0msubjects\u001b[0m \u001b[0;32mif\u001b[0m \u001b[0mre\u001b[0m\u001b[0;34m.\u001b[0m\u001b[0msearch\u001b[0m\u001b[0;34m(\u001b[0m\u001b[0;34mr\"^(?:Re|Fw|Fwd):\"\u001b[0m\u001b[0;34m,\u001b[0m \u001b[0mline\u001b[0m\u001b[0;34m)\u001b[0m\u001b[0;34m]\u001b[0m\u001b[0;34m)\u001b[0m\u001b[0;34m\u001b[0m\u001b[0m\n\u001b[0m",
      "\u001b[0;31mNameError\u001b[0m: name 'subjects' is not defined"
     ]
    }
   ],
   "source": [
    "len([line for line in subjects if re.search(r\"^(?:Re|Fw|Fwd):\", line)])"
   ]
  },
  {
   "cell_type": "code",
   "execution_count": 17,
   "metadata": {
    "collapsed": false
   },
   "outputs": [
    {
     "ename": "NameError",
     "evalue": "name 'subjects' is not defined",
     "output_type": "error",
     "traceback": [
      "\u001b[0;31m---------------------------------------------------------------------------\u001b[0m",
      "\u001b[0;31mNameError\u001b[0m                                 Traceback (most recent call last)",
      "\u001b[0;32m<ipython-input-17-29006762ef14>\u001b[0m in \u001b[0;36m<module>\u001b[0;34m()\u001b[0m\n\u001b[0;32m----> 1\u001b[0;31m \u001b[0mlen\u001b[0m\u001b[0;34m(\u001b[0m\u001b[0;34m[\u001b[0m\u001b[0mline\u001b[0m \u001b[0;32mfor\u001b[0m \u001b[0mline\u001b[0m \u001b[0;32min\u001b[0m \u001b[0msubjects\u001b[0m \u001b[0;32mif\u001b[0m \u001b[0mre\u001b[0m\u001b[0;34m.\u001b[0m\u001b[0msearch\u001b[0m\u001b[0;34m(\u001b[0m\u001b[0;34mr\"^(?:Re|Fwd):\"\u001b[0m\u001b[0;34m,\u001b[0m \u001b[0mline\u001b[0m\u001b[0;34m)\u001b[0m\u001b[0;34m]\u001b[0m\u001b[0;34m)\u001b[0m\u001b[0;34m\u001b[0m\u001b[0m\n\u001b[0m",
      "\u001b[0;31mNameError\u001b[0m: name 'subjects' is not defined"
     ]
    }
   ],
   "source": [
    "len([line for line in subjects if re.search(r\"^(?:Re|Fwd):\", line)])"
   ]
  },
  {
   "cell_type": "code",
   "execution_count": 18,
   "metadata": {
    "collapsed": false
   },
   "outputs": [
    {
     "ename": "NameError",
     "evalue": "name 'subjects' is not defined",
     "output_type": "error",
     "traceback": [
      "\u001b[0;31m---------------------------------------------------------------------------\u001b[0m",
      "\u001b[0;31mNameError\u001b[0m                                 Traceback (most recent call last)",
      "\u001b[0;32m<ipython-input-18-72939e1246f5>\u001b[0m in \u001b[0;36m<module>\u001b[0;34m()\u001b[0m\n\u001b[0;32m----> 1\u001b[0;31m \u001b[0;34m[\u001b[0m\u001b[0mline\u001b[0m \u001b[0;32mfor\u001b[0m \u001b[0mline\u001b[0m \u001b[0;32min\u001b[0m \u001b[0msubjects\u001b[0m \u001b[0;32mif\u001b[0m \u001b[0mre\u001b[0m\u001b[0;34m.\u001b[0m\u001b[0msearch\u001b[0m\u001b[0;34m(\u001b[0m\u001b[0;34mr\"\\b(?:[Cc]at|[Kk]itten|[Kk]itty)\\b\"\u001b[0m\u001b[0;34m,\u001b[0m \u001b[0mline\u001b[0m\u001b[0;34m)\u001b[0m\u001b[0;34m]\u001b[0m\u001b[0;34m\u001b[0m\u001b[0m\n\u001b[0m",
      "\u001b[0;31mNameError\u001b[0m: name 'subjects' is not defined"
     ]
    }
   ],
   "source": [
    "[line for line in subjects if re.search(r\"\\b(?:[Cc]at|[Kk]itten|[Kk]itty)\\b\", line)]"
   ]
  },
  {
   "cell_type": "code",
   "execution_count": 19,
   "metadata": {
    "collapsed": false
   },
   "outputs": [
    {
     "ename": "NameError",
     "evalue": "name 'subjects' is not defined",
     "output_type": "error",
     "traceback": [
      "\u001b[0;31m---------------------------------------------------------------------------\u001b[0m",
      "\u001b[0;31mNameError\u001b[0m                                 Traceback (most recent call last)",
      "\u001b[0;32m<ipython-input-19-180acda19c9c>\u001b[0m in \u001b[0;36m<module>\u001b[0;34m()\u001b[0m\n\u001b[0;32m----> 1\u001b[0;31m \u001b[0;34m[\u001b[0m\u001b[0mline\u001b[0m \u001b[0;32mfor\u001b[0m \u001b[0mline\u001b[0m \u001b[0;32min\u001b[0m \u001b[0msubjects\u001b[0m \u001b[0;32mif\u001b[0m \u001b[0mre\u001b[0m\u001b[0;34m.\u001b[0m\u001b[0msearch\u001b[0m\u001b[0;34m(\u001b[0m\u001b[0;34mr\"\\b(?:[Rr]ed|[Yy]ellow|[Bb]lue)\\b\"\u001b[0m\u001b[0;34m,\u001b[0m \u001b[0mline\u001b[0m\u001b[0;34m)\u001b[0m\u001b[0;34m]\u001b[0m\u001b[0;34m\u001b[0m\u001b[0m\n\u001b[0m",
      "\u001b[0;31mNameError\u001b[0m: name 'subjects' is not defined"
     ]
    }
   ],
   "source": [
    "[line for line in subjects if re.search(r\"\\b(?:[Rr]ed|[Yy]ellow|[Bb]lue)\\b\", line)]"
   ]
  },
  {
   "cell_type": "markdown",
   "metadata": {},
   "source": [
    "##Capturing what matches"
   ]
  },
  {
   "cell_type": "code",
   "execution_count": 20,
   "metadata": {
    "collapsed": false
   },
   "outputs": [
    {
     "name": "stdout",
     "output_type": "stream",
     "text": [
      "not matched!\n"
     ]
    }
   ],
   "source": [
    "greek = \"apha beta gamma delta epsilon zeta eta theta\"\n",
    "foo = \"this is a test of our matching techonology\"\n",
    "if re.search(r\"\\b\\w{5}\\b\",foo):\n",
    "    print \"matched!\"\n",
    "else:\n",
    "    print \"not matched!\""
   ]
  },
  {
   "cell_type": "code",
   "execution_count": 21,
   "metadata": {
    "collapsed": false
   },
   "outputs": [
    {
     "data": {
      "text/plain": [
       "['gamma', 'delta', 'theta']"
      ]
     },
     "execution_count": 21,
     "metadata": {},
     "output_type": "execute_result"
    }
   ],
   "source": [
    "re.findall(r\"\\b\\w{5}\\b\",greek)\n",
    "#to find all the 5-characters words"
   ]
  },
  {
   "cell_type": "code",
   "execution_count": 22,
   "metadata": {
    "collapsed": false
   },
   "outputs": [],
   "source": [
    "all_subjects = open(\"enronsubjects.txt\").read()"
   ]
  },
  {
   "cell_type": "code",
   "execution_count": 23,
   "metadata": {
    "collapsed": false
   },
   "outputs": [
    {
     "data": {
      "text/plain": [
       "['20267',\n",
       " '20267',\n",
       " '20267',\n",
       " '20267',\n",
       " '15956',\n",
       " '22069',\n",
       " '22069',\n",
       " '27291',\n",
       " '27291',\n",
       " '27291',\n",
       " '27291',\n",
       " '27291',\n",
       " '27291',\n",
       " '27291',\n",
       " '27291',\n",
       " '27291',\n",
       " '27291',\n",
       " '35842',\n",
       " '35842',\n",
       " '35842',\n",
       " '35842',\n",
       " '27291',\n",
       " '27291',\n",
       " '27291',\n",
       " '25672',\n",
       " '27190',\n",
       " '25672',\n",
       " '27190',\n",
       " '25672',\n",
       " '27190',\n",
       " '22585',\n",
       " '22585',\n",
       " '22585',\n",
       " '22585',\n",
       " '22585',\n",
       " '22585',\n",
       " '22585',\n",
       " '22585',\n",
       " '22585',\n",
       " '11781',\n",
       " '11781',\n",
       " '78158',\n",
       " '78158',\n",
       " '21349',\n",
       " '21349',\n",
       " '40387',\n",
       " '40387',\n",
       " '19818',\n",
       " '10000',\n",
       " '10000',\n",
       " '80110',\n",
       " '39474',\n",
       " '30643',\n",
       " '30643',\n",
       " '30643',\n",
       " '24690',\n",
       " '24690',\n",
       " '24690',\n",
       " '24690',\n",
       " '26532',\n",
       " '78033',\n",
       " '78032',\n",
       " '78033',\n",
       " '78032',\n",
       " '92886',\n",
       " '92886',\n",
       " '96731',\n",
       " '96731',\n",
       " '34342',\n",
       " '34342',\n",
       " '34342',\n",
       " '34342',\n",
       " '34342',\n",
       " '34342',\n",
       " '34342',\n",
       " '34342',\n",
       " '34342',\n",
       " '34342',\n",
       " '34342',\n",
       " '34342',\n",
       " '34342',\n",
       " '34342',\n",
       " '34342',\n",
       " '34342',\n",
       " '34342',\n",
       " '93481',\n",
       " '93481',\n",
       " '93836',\n",
       " '93836',\n",
       " '93836',\n",
       " '93836',\n",
       " '93836',\n",
       " '93836',\n",
       " '93836',\n",
       " '93836',\n",
       " '93836',\n",
       " '93836',\n",
       " '93836',\n",
       " '93836',\n",
       " '93836',\n",
       " '93836',\n",
       " '93836',\n",
       " '93836',\n",
       " '93836',\n",
       " '93836',\n",
       " '93836',\n",
       " '93836',\n",
       " '93836',\n",
       " '93836',\n",
       " '93836',\n",
       " '93836',\n",
       " '93836',\n",
       " '93836',\n",
       " '34342',\n",
       " '34342',\n",
       " '34342',\n",
       " '34342',\n",
       " '34342',\n",
       " '34342',\n",
       " '34342',\n",
       " '34342',\n",
       " '34342',\n",
       " '34342',\n",
       " '34342',\n",
       " '34342',\n",
       " '34342',\n",
       " '34342',\n",
       " '34342',\n",
       " '34342',\n",
       " '34342',\n",
       " '39833',\n",
       " '39833',\n",
       " '39833',\n",
       " '39833',\n",
       " '39833',\n",
       " '39833',\n",
       " '39833',\n",
       " '38927',\n",
       " '38927',\n",
       " '38927',\n",
       " '38927',\n",
       " '12619',\n",
       " '12578',\n",
       " '12590',\n",
       " '96724',\n",
       " '96724',\n",
       " '51407',\n",
       " '51407',\n",
       " '39764',\n",
       " '77349',\n",
       " '39764',\n",
       " '77349',\n",
       " '39764',\n",
       " '77349',\n",
       " '39764',\n",
       " '77349',\n",
       " '39764',\n",
       " '77349',\n",
       " '39764',\n",
       " '77349',\n",
       " '66547',\n",
       " '66394',\n",
       " '65403',\n",
       " '62164',\n",
       " '62164',\n",
       " '64937',\n",
       " '64937',\n",
       " '01003',\n",
       " '62039',\n",
       " '00458',\n",
       " '16995',\n",
       " '02177',\n",
       " '64937',\n",
       " '64937',\n",
       " '50250',\n",
       " '42789',\n",
       " '62039',\n",
       " '65066',\n",
       " '65066',\n",
       " '65066',\n",
       " '65066',\n",
       " '65066',\n",
       " '65066',\n",
       " '65066',\n",
       " '23231',\n",
       " '77257',\n",
       " '51407',\n",
       " '51407',\n",
       " '51407',\n",
       " '39764',\n",
       " '77349',\n",
       " '39764',\n",
       " '77349',\n",
       " '64231',\n",
       " '64231',\n",
       " '64231',\n",
       " '64231',\n",
       " '64231',\n",
       " '64231',\n",
       " '64231',\n",
       " '64231',\n",
       " '64231',\n",
       " '64231',\n",
       " '64231',\n",
       " '64231',\n",
       " '29667',\n",
       " '29667',\n",
       " '29667',\n",
       " '35874',\n",
       " '35874',\n",
       " '35874',\n",
       " '42789',\n",
       " '15692',\n",
       " '15692',\n",
       " '15692',\n",
       " '15692',\n",
       " '37877',\n",
       " '29667',\n",
       " '24924',\n",
       " '24924',\n",
       " '24924',\n",
       " '24924',\n",
       " '15692',\n",
       " '15692',\n",
       " '29667',\n",
       " '29667',\n",
       " '29667',\n",
       " '29667',\n",
       " '29667',\n",
       " '27253',\n",
       " '27253',\n",
       " '27239',\n",
       " '27239',\n",
       " '27239',\n",
       " '27239',\n",
       " '27239',\n",
       " '27239',\n",
       " '27239',\n",
       " '27239',\n",
       " '27239',\n",
       " '27239',\n",
       " '27239',\n",
       " '27239',\n",
       " '27239',\n",
       " '27239',\n",
       " '27253',\n",
       " '27253',\n",
       " '27253',\n",
       " '27253',\n",
       " '56565',\n",
       " '11111',\n",
       " '11111',\n",
       " '11111',\n",
       " '11111',\n",
       " '11111',\n",
       " '70197',\n",
       " '67207',\n",
       " '67133',\n",
       " '70197',\n",
       " '00010',\n",
       " '00010',\n",
       " '20721',\n",
       " '20740',\n",
       " '20721',\n",
       " '20740',\n",
       " '20721',\n",
       " '20740',\n",
       " '20721',\n",
       " '20740',\n",
       " '20721',\n",
       " '20740',\n",
       " '93394',\n",
       " '20721',\n",
       " '20740',\n",
       " '20721',\n",
       " '20740',\n",
       " '93871',\n",
       " '90593',\n",
       " '90593',\n",
       " '90593',\n",
       " '58911',\n",
       " '11385',\n",
       " '11385',\n",
       " '11385',\n",
       " '11385',\n",
       " '11385',\n",
       " '22027',\n",
       " '22027',\n",
       " '65187',\n",
       " '26862',\n",
       " '26862',\n",
       " '26635',\n",
       " '25374',\n",
       " '25374',\n",
       " '26511',\n",
       " '26511',\n",
       " '26511',\n",
       " '26511',\n",
       " '25374',\n",
       " '25374',\n",
       " '20747',\n",
       " '20748',\n",
       " '20747',\n",
       " '20748',\n",
       " '20747',\n",
       " '20748',\n",
       " '27600',\n",
       " '27600',\n",
       " '27641',\n",
       " '27496',\n",
       " '27496',\n",
       " '25407',\n",
       " '21865',\n",
       " '83017',\n",
       " '83017',\n",
       " '83017',\n",
       " '42976',\n",
       " '42975',\n",
       " '42750',\n",
       " '42896',\n",
       " '42913',\n",
       " '42934',\n",
       " '42933',\n",
       " '42375',\n",
       " '42361',\n",
       " '42661',\n",
       " '42066',\n",
       " '42764',\n",
       " '42150',\n",
       " '42306',\n",
       " '42342',\n",
       " '42354',\n",
       " '41598',\n",
       " '42363',\n",
       " '42371',\n",
       " '42343',\n",
       " '42029',\n",
       " '06752',\n",
       " '06752',\n",
       " '06752',\n",
       " '06736',\n",
       " '06736',\n",
       " '55358',\n",
       " '55358',\n",
       " '55358',\n",
       " '58900',\n",
       " '58900',\n",
       " '12357',\n",
       " '12357',\n",
       " '87541',\n",
       " '55358',\n",
       " '55358',\n",
       " '55358',\n",
       " '55358',\n",
       " '55358',\n",
       " '55358',\n",
       " '55358',\n",
       " '55358',\n",
       " '55358',\n",
       " '55358',\n",
       " '06716',\n",
       " '06980',\n",
       " '06980',\n",
       " '41038',\n",
       " '50569',\n",
       " '19785',\n",
       " '83829',\n",
       " '35830',\n",
       " '35830',\n",
       " '35830',\n",
       " '35830',\n",
       " '35830',\n",
       " '35830',\n",
       " '35830',\n",
       " '35830',\n",
       " '35830',\n",
       " '35830',\n",
       " '27579',\n",
       " '27579',\n",
       " '27579',\n",
       " '27579',\n",
       " '27252',\n",
       " '27252',\n",
       " '27252',\n",
       " '47477',\n",
       " '47477',\n",
       " '52330',\n",
       " '52330',\n",
       " '15444',\n",
       " '15444',\n",
       " '15444',\n",
       " '15444',\n",
       " '15444',\n",
       " '15444',\n",
       " '20001',\n",
       " '20001',\n",
       " '26486',\n",
       " '24468',\n",
       " '24468',\n",
       " '24468',\n",
       " '24468',\n",
       " '24468',\n",
       " '24468',\n",
       " '24468',\n",
       " '53091',\n",
       " '78728',\n",
       " '78728',\n",
       " '78728',\n",
       " '00003',\n",
       " '00003',\n",
       " '00003',\n",
       " '00003',\n",
       " '00003',\n",
       " '00003',\n",
       " '00003',\n",
       " '00003',\n",
       " '00003',\n",
       " '78728',\n",
       " '78728',\n",
       " '78728',\n",
       " '27253',\n",
       " '26490',\n",
       " '26606',\n",
       " '26819',\n",
       " '26819',\n",
       " '26819',\n",
       " '26819',\n",
       " '27291',\n",
       " '27291',\n",
       " '25672',\n",
       " '27190',\n",
       " '25672',\n",
       " '27190',\n",
       " '25672',\n",
       " '27190',\n",
       " '27291',\n",
       " '27291',\n",
       " '27291',\n",
       " '14790',\n",
       " '14790',\n",
       " '14790',\n",
       " '14790',\n",
       " '14790',\n",
       " '14790',\n",
       " '14790',\n",
       " '14790',\n",
       " '70996',\n",
       " '70996',\n",
       " '94074',\n",
       " '38616',\n",
       " '38616',\n",
       " '25841',\n",
       " '26511',\n",
       " '25841',\n",
       " '26511',\n",
       " '25841',\n",
       " '26511',\n",
       " '25841',\n",
       " '26511',\n",
       " '27606',\n",
       " '27606',\n",
       " '27606',\n",
       " '27606',\n",
       " '27606',\n",
       " '24194',\n",
       " '24194',\n",
       " '06752',\n",
       " '06752']"
      ]
     },
     "execution_count": 23,
     "metadata": {},
     "output_type": "execute_result"
    }
   ],
   "source": [
    "re.findall(r\"\\b\\d{5}\\b\",all_subjects)"
   ]
  },
  {
   "cell_type": "code",
   "execution_count": 24,
   "metadata": {
    "collapsed": false
   },
   "outputs": [
    {
     "data": {
      "text/plain": [
       "['$228',\n",
       " '$228',\n",
       " '$10M',\n",
       " '$10M',\n",
       " '$10M',\n",
       " '$10M',\n",
       " '$68',\n",
       " '$2.19',\n",
       " '$2.19',\n",
       " '$25',\n",
       " '$25',\n",
       " '$25',\n",
       " '$25',\n",
       " '$25',\n",
       " '$25',\n",
       " '$25',\n",
       " '$25',\n",
       " '$25',\n",
       " '$25',\n",
       " '$25',\n",
       " '$25',\n",
       " '$25',\n",
       " '$25',\n",
       " '$820',\n",
       " '$820',\n",
       " '$40',\n",
       " '$27',\n",
       " '$27',\n",
       " '$50',\n",
       " '$50',\n",
       " '$895',\n",
       " '$895',\n",
       " '$19.3',\n",
       " '$19.3',\n",
       " '$19.3',\n",
       " '$19.3',\n",
       " '$870K',\n",
       " '$870K',\n",
       " '$141',\n",
       " '$141',\n",
       " '$21',\n",
       " '$6.1B',\n",
       " '$8.9B',\n",
       " '$14',\n",
       " '$14',\n",
       " '$100',\n",
       " '$250',\n",
       " '$350M',\n",
       " '$.01',\n",
       " '$.01',\n",
       " '$.01',\n",
       " '$.01',\n",
       " '$12.5',\n",
       " '$12.5',\n",
       " '$12.5',\n",
       " '$12.5',\n",
       " '$10',\n",
       " '$1.2M',\n",
       " '$1.2M',\n",
       " '$1.2M',\n",
       " '$1.2M',\n",
       " '$1.2M',\n",
       " '$1.2M',\n",
       " '$1.2M',\n",
       " '$700',\n",
       " '$700',\n",
       " '$700',\n",
       " '$10',\n",
       " '$10',\n",
       " '$13B',\n",
       " '$13B',\n",
       " '$100',\n",
       " '$500k',\n",
       " '$500k',\n",
       " '$500k',\n",
       " '$500k',\n",
       " '$500k',\n",
       " '$500k',\n",
       " '$500k',\n",
       " '$500k',\n",
       " '$500k',\n",
       " '$971',\n",
       " '$971',\n",
       " '$971',\n",
       " '$971',\n",
       " '$971',\n",
       " '$971',\n",
       " '$1B',\n",
       " '$1B',\n",
       " '$39',\n",
       " '$39',\n",
       " '$10',\n",
       " '$10',\n",
       " '$149',\n",
       " '$50',\n",
       " '$50',\n",
       " '$50',\n",
       " '$21',\n",
       " '$21',\n",
       " '$550',\n",
       " '$455',\n",
       " '$7M',\n",
       " '$7M',\n",
       " '$7M',\n",
       " '$7M',\n",
       " '$7M',\n",
       " '$7M',\n",
       " '$100',\n",
       " '$20',\n",
       " '$20',\n",
       " '$20',\n",
       " '$20',\n",
       " '$100',\n",
       " '$100',\n",
       " '$100',\n",
       " '$20',\n",
       " '$20',\n",
       " '$29.75',\n",
       " '$29.75',\n",
       " '$29.75',\n",
       " '$29.75',\n",
       " '$29.75',\n",
       " '$29.75',\n",
       " '$1600',\n",
       " '$1600',\n",
       " '$1600',\n",
       " '$1600',\n",
       " '$1600',\n",
       " '$1600',\n",
       " '$1600',\n",
       " '$67',\n",
       " '$2.7',\n",
       " '$2.7',\n",
       " '$100m',\n",
       " '$50',\n",
       " '$9.6M',\n",
       " '$9.6M',\n",
       " '$212.50',\n",
       " '$212.50',\n",
       " '$212.50',\n",
       " '$212.50',\n",
       " '$212.50',\n",
       " '$212.50',\n",
       " '$195',\n",
       " '$195',\n",
       " '$195',\n",
       " '$195',\n",
       " '$195',\n",
       " '$195',\n",
       " '$195',\n",
       " '$195',\n",
       " '$195',\n",
       " '$195',\n",
       " '$195',\n",
       " '$195',\n",
       " '$42',\n",
       " '$42',\n",
       " '$42',\n",
       " '$7M',\n",
       " '$7M',\n",
       " '$7M',\n",
       " '$9.92',\n",
       " '$9.92',\n",
       " '$10',\n",
       " '$10',\n",
       " '$16',\n",
       " '$16',\n",
       " '$16',\n",
       " '$500m',\n",
       " '$500m',\n",
       " '$500m',\n",
       " '$80',\n",
       " '$80',\n",
       " '$80',\n",
       " '$80',\n",
       " '$80',\n",
       " '$80',\n",
       " '$80',\n",
       " '$50M',\n",
       " '$1.2',\n",
       " '$102',\n",
       " '$102',\n",
       " '$200',\n",
       " '$50',\n",
       " '$25',\n",
       " '$25',\n",
       " '$25',\n",
       " '$1.5m',\n",
       " '$1.5m',\n",
       " '$1.5',\n",
       " '$1.5',\n",
       " '$120',\n",
       " '$120',\n",
       " '$.01',\n",
       " '$.01',\n",
       " '$.01',\n",
       " '$.01',\n",
       " '$.01',\n",
       " '$.01',\n",
       " '$45',\n",
       " '$45',\n",
       " '$147',\n",
       " '$147',\n",
       " '$147',\n",
       " '$147',\n",
       " '$147',\n",
       " '$147',\n",
       " '$147',\n",
       " '$600B',\n",
       " '$600B',\n",
       " '$147',\n",
       " '$147',\n",
       " '$147',\n",
       " '$240',\n",
       " '$240',\n",
       " '$22.8',\n",
       " '$22.8',\n",
       " '$22.8',\n",
       " '$100k',\n",
       " '$6.00',\n",
       " '$77',\n",
       " '$183',\n",
       " '$4.6B',\n",
       " '$2.15',\n",
       " '$2.15',\n",
       " '$130',\n",
       " '$130',\n",
       " '$130',\n",
       " '$0.25',\n",
       " '$10',\n",
       " '$10',\n",
       " '$10',\n",
       " '$10',\n",
       " '$10',\n",
       " '$10',\n",
       " '$128',\n",
       " '$128']"
      ]
     },
     "execution_count": 24,
     "metadata": {},
     "output_type": "execute_result"
    }
   ],
   "source": [
    "# finds strings that just have the dollar sign ($) in them:\n",
    "re.findall(r\"\\$[0-9.]+\\w\",all_subjects)"
   ]
  },
  {
   "cell_type": "code",
   "execution_count": 25,
   "metadata": {
    "collapsed": false
   },
   "outputs": [
    {
     "data": {
      "text/plain": [
       "['$10M',\n",
       " '$10M',\n",
       " '$10M',\n",
       " '$10M',\n",
       " '$870K',\n",
       " '$870K',\n",
       " '$6.1B',\n",
       " '$8.9B',\n",
       " '$350M',\n",
       " '$1.2M',\n",
       " '$1.2M',\n",
       " '$1.2M',\n",
       " '$1.2M',\n",
       " '$1.2M',\n",
       " '$1.2M',\n",
       " '$1.2M',\n",
       " '$13B',\n",
       " '$13B',\n",
       " '$500k',\n",
       " '$500k',\n",
       " '$500k',\n",
       " '$500k',\n",
       " '$500k',\n",
       " '$500k',\n",
       " '$500k',\n",
       " '$500k',\n",
       " '$500k',\n",
       " '$1B',\n",
       " '$1B',\n",
       " '$7M',\n",
       " '$7M',\n",
       " '$7M',\n",
       " '$7M',\n",
       " '$7M',\n",
       " '$7M',\n",
       " '$100m',\n",
       " '$9.6M',\n",
       " '$9.6M',\n",
       " '$7M',\n",
       " '$7M',\n",
       " '$7M',\n",
       " '$500m',\n",
       " '$500m',\n",
       " '$500m',\n",
       " '$50M',\n",
       " '$1.5m',\n",
       " '$1.5m',\n",
       " '$600B',\n",
       " '$600B',\n",
       " '$100k',\n",
       " '$4.6B']"
      ]
     },
     "execution_count": 25,
     "metadata": {},
     "output_type": "execute_result"
    }
   ],
   "source": [
    "re.findall(r\"\\$[0-9.]+(?:[mM]|[bB]|[kK])\",all_subjects)"
   ]
  },
  {
   "cell_type": "code",
   "execution_count": 26,
   "metadata": {
    "collapsed": true
   },
   "outputs": [],
   "source": [
    "## Grouping in regular expressions"
   ]
  },
  {
   "cell_type": "code",
   "execution_count": 27,
   "metadata": {
    "collapsed": false
   },
   "outputs": [
    {
     "name": "stdout",
     "output_type": "stream",
     "text": [
      "<type '_sre.SRE_Match'>\n",
      "True\n",
      "27\n",
      "30\n",
      "423\n"
     ]
    }
   ],
   "source": [
    "ourstring = \"this example has been used 423 times\"\n",
    "ourmatch = re.search( r\"\\d\\d\\d\",ourstring ) # a match object\n",
    "print type( ourmatch ) # <type '_sre.SRE_Match'>\n",
    "print bool( ourmatch )\n",
    "print ourmatch.start() # 27 # matched this string starting at this position \n",
    "print ourmatch.end() # 30\n",
    "print ourmatch.group() # '423'"
   ]
  },
  {
   "cell_type": "code",
   "execution_count": 28,
   "metadata": {
    "collapsed": false
   },
   "outputs": [
    {
     "data": {
      "text/plain": [
       "'CSCI'"
      ]
     },
     "execution_count": 28,
     "metadata": {},
     "output_type": "execute_result"
    }
   ],
   "source": [
    "course = \"CSCI 105: Introductory Programming for Cat Lovers\"\n",
    "match = re.search(r\"^[A-Z]+\\b\",course)\n",
    "match.group()"
   ]
  },
  {
   "cell_type": "code",
   "execution_count": 29,
   "metadata": {
    "collapsed": false
   },
   "outputs": [
    {
     "data": {
      "text/plain": [
       "'105:'"
      ]
     },
     "execution_count": 29,
     "metadata": {},
     "output_type": "execute_result"
    }
   ],
   "source": [
    "match2 = re.search(r\"\\b\\d{3,}\\b:\",course)\n",
    "match2.group()"
   ]
  },
  {
   "cell_type": "code",
   "execution_count": 32,
   "metadata": {
    "collapsed": false
   },
   "outputs": [
    {
     "data": {
      "text/plain": [
       "': Introductory Programming for Cat Lovers'"
      ]
     },
     "execution_count": 32,
     "metadata": {},
     "output_type": "execute_result"
    }
   ],
   "source": [
    "match3 = re.search(r\":.*$\",course)\n",
    "match3.group()"
   ]
  },
  {
   "cell_type": "markdown",
   "metadata": {},
   "source": [
    "## Grouping with parentheses\n",
    "```\n",
    "(x)(y)(z)find x,y,z and treat as a \"group\"\n",
    "```"
   ]
  },
  {
   "cell_type": "code",
   "execution_count": 39,
   "metadata": {
    "collapsed": false
   },
   "outputs": [
    {
     "data": {
      "text/plain": [
       "('CSCI', '105')"
      ]
     },
     "execution_count": 39,
     "metadata": {},
     "output_type": "execute_result"
    }
   ],
   "source": [
    "course = \"CSCI 105: Introductory Programming for Cat Lovers\"\n",
    "match = re.search(r\"^([A-Z]+) (\\d{3,}):\",course)\n",
    "#match\n",
    "match.groups()"
   ]
  },
  {
   "cell_type": "code",
   "execution_count": 196,
   "metadata": {
    "collapsed": false
   },
   "outputs": [
    {
     "data": {
      "text/plain": [
       "('CSCI', '105', 'Introductory Programming for Cat Lovers')"
      ]
     },
     "execution_count": 196,
     "metadata": {},
     "output_type": "execute_result"
    }
   ],
   "source": [
    "course = \"CSCI 105: Introductory Programming for Cat Lovers\"\n",
    "match = re.search(r\"^([A-Z]+) (\\d{3,}): (.*)$\",course)\n",
    "match.groups()"
   ]
  },
  {
   "cell_type": "code",
   "execution_count": 40,
   "metadata": {
    "collapsed": false
   },
   "outputs": [
    {
     "data": {
      "text/plain": [
       "tuple"
      ]
     },
     "execution_count": 40,
     "metadata": {},
     "output_type": "execute_result"
    }
   ],
   "source": [
    "course2 = \"LING 214: Saying Things Backwards\"\n",
    "match = re.search(r\"^([A-Z]+) (\\d{3,}): (.*)$\",course2)\n",
    "match.groups()"
   ]
  },
  {
   "cell_type": "code",
   "execution_count": null,
   "metadata": {
    "collapsed": true
   },
   "outputs": [],
   "source": []
  },
  {
   "cell_type": "code",
   "execution_count": null,
   "metadata": {
    "collapsed": true
   },
   "outputs": [],
   "source": []
  }
 ],
 "metadata": {
  "kernelspec": {
   "display_name": "Python 2",
   "language": "python",
   "name": "python2"
  },
  "language_info": {
   "codemirror_mode": {
    "name": "ipython",
    "version": 2
   },
   "file_extension": ".py",
   "mimetype": "text/x-python",
   "name": "python",
   "nbconvert_exporter": "python",
   "pygments_lexer": "ipython2",
   "version": "2.7.10"
  }
 },
 "nbformat": 4,
 "nbformat_minor": 0
}
