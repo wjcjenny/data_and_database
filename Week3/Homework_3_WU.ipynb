{
 "cells": [
  {
   "cell_type": "markdown",
   "metadata": {},
   "source": [
    "#Homework assignment #3\n",
    "\n",
    "These problem sets focus on using the Beautiful Soup library to scrape web pages.\n",
    "\n",
    "##Problem Set #1: Basic scraping\n",
    "\n",
    "I've made a web page for you to scrape. It's available [here](http://static.decontextualize.com/widgets2015.html). The page concerns the catalog of a famous [widget](http://en.wikipedia.org/wiki/Widget) company. You'll be answering several questions about this web page. First off, in the cell below, write some code so that you end up with a variable called `html_str` that contains the HTML source code of the page."
   ]
  },
  {
   "cell_type": "code",
   "execution_count": 23,
   "metadata": {
    "collapsed": false
   },
   "outputs": [],
   "source": [
    "import urllib\n",
    "html_str = urllib.urlopen(\"http://static.decontextualize.com/widgets2015.html\").read()"
   ]
  },
  {
   "cell_type": "markdown",
   "metadata": {},
   "source": [
    "Now, in the cell below, use Beautiful Soup to write an expression that evaluates to the number of `<h3>` tags contained in `widgets.html`. I've added the Beautiful Soup import statement for you."
   ]
  },
  {
   "cell_type": "code",
   "execution_count": 24,
   "metadata": {
    "collapsed": false
   },
   "outputs": [
    {
     "name": "stderr",
     "output_type": "stream",
     "text": [
      "/Library/Python/2.7/site-packages/bs4/__init__.py:166: UserWarning: No parser was explicitly specified, so I'm using the best available HTML parser for this system (\"html.parser\"). This usually isn't a problem, but if you run this code on another system, or in a different virtual environment, it may use a different parser and behave differently.\n",
      "\n",
      "To get rid of this warning, change this:\n",
      "\n",
      " BeautifulSoup([your markup])\n",
      "\n",
      "to this:\n",
      "\n",
      " BeautifulSoup([your markup], \"html.parser\")\n",
      "\n",
      "  markup_type=markup_type))\n"
     ]
    },
    {
     "data": {
      "text/plain": [
       "<!DOCTYPE doctype html>\\n\\n<html>\\n<head>\\n<title>Fearless Widget Factory Catalog</title>\\n<style type=\"text/css\">\\n\\t\\t\\ttable.widgetlist {\\n\\t\\t\\t\\tborder-collapse: collapse;\\n\\t\\t\\t\\tborder: 1px #333 solid;\\n\\t\\t\\t\\twidth: 50%;\\n\\t\\t\\t}\\n\\t\\t\\ttable.widgetlist td {\\n\\t\\t\\t\\tborder: 1px #333 solid;\\n\\t\\t\\t\\tpadding: 5px;\\n\\t\\t\\t}\\n\\t\\t\\ttable.widgetlist thead {\\n\\t\\t\\t\\tbackground: #333;\\n\\t\\t\\t\\tcolor: white;\\n\\t\\t\\t}\\n\\t\\t</style>\\n</head>\\n<body>\\n<h1>Fearless Widget Factory</h1>\\n<p><i>Purveyor of fearless widgets since 1956</i></p>\\n<h2>Widget Catalog</h2>\\n<p>Please call <span class=\"tel\">212-555-9912</span> for latest prices.</p>\\n<h3>Forensic Widgets</h3>\\n<table class=\"widgetlist\">\\n<thead>\\n<td>Part No.</td>\\n<td>Name</td>\\n<td>Price</td>\\n<td>Quantity in warehouse</td>\\n</thead>\\n<tr class=\"winfo\">\\n<td class=\"partno\">C1-9476</td>\\n<td class=\"wname\"><b>Skinner Widget</b></td>\\n<td class=\"price\">$2.70</td>\\n<td class=\"quantity\">512</td>\\n</tr>\\n<tr class=\"winfo\">\\n<td class=\"partno\">JDJ-32/V</td>\\n<td class=\"wname\"><b>Widget For Furtiveness</b></td>\\n<td class=\"price\">$9.36</td>\\n<td class=\"quantity\">967</td>\\n</tr>\\n<tr class=\"winfo\">\\n<td class=\"partno\">YP4-325/J</td>\\n<td class=\"wname\"><b>Widget For Strawman</b></td>\\n<td class=\"price\">$5.17</td>\\n<td class=\"quantity\">787</td>\\n</tr>\\n</table>\\n<h3>Mood widgets</h3>\\n<table class=\"widgetlist\">\\n<thead>\\n<td>Part No.</td>\\n<td>Name</td>\\n<td>Price</td>\\n<td>Quantity in warehouse</td>\\n</thead>\\n<tr class=\"winfo\">\\n<td class=\"partno\">VK-486</td>\\n<td class=\"wname\"><b>Manicurist Widget</b></td>\\n<td class=\"price\">$8.97</td>\\n<td class=\"quantity\">441</td>\\n</tr>\\n<tr class=\"winfo\">\\n<td class=\"partno\">R4K-990</td>\\n<td class=\"wname\"><b>Infinite Widget</b></td>\\n<td class=\"price\">$11.73</td>\\n<td class=\"quantity\">320</td>\\n</tr>\\n</table>\\n<h3>Hallowed widgets</h3>\\n<table class=\"widgetlist\">\\n<thead>\\n<td>Part No.</td>\\n<td>Name</td>\\n<td>Price</td>\\n<td>Quantity in warehouse</td>\\n</thead>\\n<tr class=\"winfo\">\\n<td class=\"partno\">MZ-556/B</td>\\n<td class=\"wname\"><b>Yellow-Tipped Widget</b></td>\\n<td class=\"price\">$2.35</td>\\n<td class=\"quantity\">948</td>\\n</tr>\\n<tr class=\"winfo\">\\n<td class=\"partno\">QV-730</td>\\n<td class=\"wname\"><b>Unshakable Widget</b></td>\\n<td class=\"price\">$3.76</td>\\n<td class=\"quantity\">59</td>\\n</tr>\\n<tr class=\"winfo\">\\n<td class=\"partno\">T1-9731</td>\\n<td class=\"wname\"><b>Self-Knowledge Widget</b></td>\\n<td class=\"price\">$7.11</td>\\n<td class=\"quantity\">790</td>\\n</tr>\\n<tr class=\"winfo\">\\n<td class=\"partno\">5B-941/F</td>\\n<td class=\"wname\"><b>Widget For Cinema</b></td>\\n<td class=\"price\">$13.26</td>\\n<td class=\"quantity\">919</td>\\n</tr>\\n</table>\\n<p>Thank you for considering the purchase of our widgets, and have a great day!</p>\\n</body>\\n</html>\\n"
      ]
     },
     "execution_count": 24,
     "metadata": {},
     "output_type": "execute_result"
    }
   ],
   "source": [
    "from bs4 import BeautifulSoup\n",
    "document = BeautifulSoup(html_str)\n",
    "document"
   ]
  },
  {
   "cell_type": "code",
   "execution_count": 25,
   "metadata": {
    "collapsed": false
   },
   "outputs": [
    {
     "data": {
      "text/plain": [
       "3"
      ]
     },
     "execution_count": 25,
     "metadata": {},
     "output_type": "execute_result"
    }
   ],
   "source": [
    "h3_tag = document.find_all('h3')\n",
    "h3_list = [h3.string for h3 in h3_tag]\n",
    "#print h3_list\n",
    "len (h3_list)"
   ]
  },
  {
   "cell_type": "markdown",
   "metadata": {},
   "source": [
    "Now, in the cell below, write an expression or series of statements that displays the telephone number beneath the \"Widget Catalog\" header."
   ]
  },
  {
   "cell_type": "code",
   "execution_count": 26,
   "metadata": {
    "collapsed": false
   },
   "outputs": [
    {
     "data": {
      "text/plain": [
       "u'212-555-9912'"
      ]
     },
     "execution_count": 26,
     "metadata": {},
     "output_type": "execute_result"
    }
   ],
   "source": [
    "telphone_number = document.find('span', attrs={'class': 'tel'})\n",
    "telphone_number.string"
   ]
  },
  {
   "cell_type": "markdown",
   "metadata": {},
   "source": [
    "In the cell below, use Beautiful Soup to write some code that creates a list of the names of all the widgets on the page. After your code has executed, `widget_names` should evaluate to a list that looks like this (though not necessarily in this order):\n",
    "\n",
    "    [u'Skinner Widget',\n",
    "     u'Widget For Furtiveness',\n",
    "     u'Widget For Strawman',\n",
    "     u'Manicurist Widget',\n",
    "     u'Infinite Widget',\n",
    "     u'Yellow-Tipped Widget',\n",
    "     u'Unshakable Widget',\n",
    "     u'Self-Knowledge Widget',\n",
    "     u'Widget For Cinema']"
   ]
  },
  {
   "cell_type": "code",
   "execution_count": 27,
   "metadata": {
    "collapsed": false
   },
   "outputs": [
    {
     "data": {
      "text/plain": [
       "[u'Skinner Widget',\n",
       " u'Widget For Furtiveness',\n",
       " u'Widget For Strawman',\n",
       " u'Manicurist Widget',\n",
       " u'Infinite Widget',\n",
       " u'Yellow-Tipped Widget',\n",
       " u'Unshakable Widget',\n",
       " u'Self-Knowledge Widget',\n",
       " u'Widget For Cinema']"
      ]
     },
     "execution_count": 27,
     "metadata": {},
     "output_type": "execute_result"
    }
   ],
   "source": [
    "b_tag = document.find_all('b')\n",
    "[b.string for b in b_tag]"
   ]
  },
  {
   "cell_type": "markdown",
   "metadata": {},
   "source": [
    "##Problem set #2: Widget dictionaries\n",
    "\n",
    "For this problem set, we'll continue to use the HTML page from the previous problem set. In the cell below, I've made an empty list and assigned it to a variable called `widgets`. Write code that populates this list with dictionaries, one dictionary per widget in the source file. The keys of each dictionary should be `partno`, `widgetname`, `price`, and `quantity`, and the value for each of the keys should be the value for the corresponding column for each row. After executing the cell, your list should look something like this:\n",
    "\n",
    "    [{'partno': u'C1-9476',\n",
    "      'price': u'$2.70',\n",
    "      'quantity': u'512',\n",
    "      'wname': u'Skinner Widget'},\n",
    "     {'partno': u'JDJ-32/V',\n",
    "      'price': u'$9.36',\n",
    "      'quantity': u'967',\n",
    "      'wname': u'Widget For Furtiveness'},\n",
    "      ...several items omitted...\n",
    "     {'partno': u'5B-941/F',\n",
    "      'price': u'$13.26',\n",
    "      'quantity': u'919',\n",
    "      'wname': u'Widget For Cinema'}]\n",
    "\n",
    "And this expression:\n",
    "\n",
    "    widgets[5]['partno']\n",
    "    \n",
    "... should evaluate to:\n",
    "\n",
    "    u'MZ-556/B'\n",
    "    \n",
    "(Hint: This could get a little messy! Each column in the table might need to be treated a bit differently to get the appropriate strings out.)"
   ]
  },
  {
   "cell_type": "code",
   "execution_count": 28,
   "metadata": {
    "collapsed": false
   },
   "outputs": [
    {
     "data": {
      "text/plain": [
       "u'MZ-556/B'"
      ]
     },
     "execution_count": 28,
     "metadata": {},
     "output_type": "execute_result"
    }
   ],
   "source": [
    "widgets = []\n",
    "\n",
    "html_str = urllib.urlopen(\"http://static.decontextualize.com/widgets2015.html\").read()\n",
    "document = BeautifulSoup(html_str)\n",
    "#print document\n",
    "\n",
    "tr_tags = document.find_all('tr')\n",
    "for tr_tag in tr_tags:\n",
    "    td_tags = tr_tag.find_all('td')\n",
    "    widgets_dic = {}\n",
    "    widgets_dic['partno'] = td_tags[0].string\n",
    "    widgets_dic['price'] = td_tags[2].string\n",
    "    widgets_dic['quantity'] = td_tags[3].string\n",
    "    widgets_dic['wname'] = td_tags[1].string\n",
    "    widgets.append(widgets_dic)\n",
    "\n",
    "#widgets\n",
    "\n",
    "widgets[5]['partno']"
   ]
  },
  {
   "cell_type": "markdown",
   "metadata": {},
   "source": [
    "In the cell below, duplicate your code from the previous question. Modify the code to ensure that the values for `price` and `quantity` in each dictionary are floating-point numbers and integers, respectively. I.e., after executing the cell, your code should display something like this:\n",
    "\n",
    "    [{'partno': 'C1-9476',\n",
    "      'price': 2.7,\n",
    "      'quantity': 512,\n",
    "      'widgetname': 'Skinner Widget'},\n",
    "     {'partno': 'JDJ-32/V',\n",
    "      'price': 9.36,\n",
    "      'quantity': 967,\n",
    "      'widgetname': 'Widget For Furtiveness'},\n",
    "     ... some items omitted ...\n",
    "     {'partno': '5B-941/F',\n",
    "      'price': 13.26,\n",
    "      'quantity': 919,\n",
    "      'widgetname': 'Widget For Cinema'}]\n",
    "\n",
    "(Hint: Use the `float()` and `int()` functions. You may need to use string slices to convert the `price` field to a floating-point number.)"
   ]
  },
  {
   "cell_type": "code",
   "execution_count": 29,
   "metadata": {
    "collapsed": false
   },
   "outputs": [
    {
     "data": {
      "text/plain": [
       "[{'partno': u'C1-9476',\n",
       "  'price': 2.7,\n",
       "  'quantity': 512,\n",
       "  'wname': u'Skinner Widget'},\n",
       " {'partno': u'JDJ-32/V',\n",
       "  'price': 9.36,\n",
       "  'quantity': 967,\n",
       "  'wname': u'Widget For Furtiveness'},\n",
       " {'partno': u'YP4-325/J',\n",
       "  'price': 5.17,\n",
       "  'quantity': 787,\n",
       "  'wname': u'Widget For Strawman'},\n",
       " {'partno': u'VK-486',\n",
       "  'price': 8.97,\n",
       "  'quantity': 441,\n",
       "  'wname': u'Manicurist Widget'},\n",
       " {'partno': u'R4K-990',\n",
       "  'price': 11.73,\n",
       "  'quantity': 320,\n",
       "  'wname': u'Infinite Widget'},\n",
       " {'partno': u'MZ-556/B',\n",
       "  'price': 2.35,\n",
       "  'quantity': 948,\n",
       "  'wname': u'Yellow-Tipped Widget'},\n",
       " {'partno': u'QV-730',\n",
       "  'price': 3.76,\n",
       "  'quantity': 59,\n",
       "  'wname': u'Unshakable Widget'},\n",
       " {'partno': u'T1-9731',\n",
       "  'price': 7.11,\n",
       "  'quantity': 790,\n",
       "  'wname': u'Self-Knowledge Widget'},\n",
       " {'partno': u'5B-941/F',\n",
       "  'price': 13.26,\n",
       "  'quantity': 919,\n",
       "  'wname': u'Widget For Cinema'}]"
      ]
     },
     "execution_count": 29,
     "metadata": {},
     "output_type": "execute_result"
    }
   ],
   "source": [
    "widgets = []\n",
    "\n",
    "html_str = urllib.urlopen(\"http://static.decontextualize.com/widgets2015.html\").read()\n",
    "document = BeautifulSoup(html_str)\n",
    "\n",
    "tr_tags = document.find_all('tr')\n",
    "for tr_tag in tr_tags:\n",
    "    td_tags = tr_tag.find_all('td')\n",
    "    widgets_dic = {}\n",
    "    widgets_dic['partno'] = td_tags[0].string\n",
    "    widgets_dic['price'] = float(td_tags[2].string.split('$')[1])\n",
    "    widgets_dic['quantity'] = int(td_tags[3].string)\n",
    "    widgets_dic['wname'] = td_tags[1].string\n",
    "    widgets.append(widgets_dic)\n",
    "\n",
    "\n",
    "#for i in len(widgets):\n",
    "widgets"
   ]
  },
  {
   "cell_type": "markdown",
   "metadata": {},
   "source": [
    "Great! I hope you're having fun. In the cell below, write an expression that uses the `widgets` list created in the cell above to calculate the total number of widgets that the factory has in its warehouse.\n",
    "\n",
    "Expected output: `5743`"
   ]
  },
  {
   "cell_type": "code",
   "execution_count": 30,
   "metadata": {
    "collapsed": false
   },
   "outputs": [
    {
     "data": {
      "text/plain": [
       "5743"
      ]
     },
     "execution_count": 30,
     "metadata": {},
     "output_type": "execute_result"
    }
   ],
   "source": [
    "total= []\n",
    "for i in range(len(widgets)):\n",
    "    total.append(widgets[i]['quantity'])\n",
    "sum(total)"
   ]
  },
  {
   "cell_type": "markdown",
   "metadata": {},
   "source": [
    "In the cell below, write an expression (or series of expressions) that evaluates to a list the names of widgets containing only those widgets whose price is above $9.30.\n",
    "\n",
    "Expected output: `[u'Widget For Furtiveness', u'Infinite Widget', u'Widget For Cinema']`"
   ]
  },
  {
   "cell_type": "code",
   "execution_count": 31,
   "metadata": {
    "collapsed": false
   },
   "outputs": [
    {
     "name": "stdout",
     "output_type": "stream",
     "text": [
      "[u'Widget For Furtiveness', u'Infinite Widget', u'Widget For Cinema']\n"
     ]
    }
   ],
   "source": [
    "list = []\n",
    "for i in range(len(widgets)):\n",
    "    if widgets[i]['price']>9.30:\n",
    "        list.append(widgets[i]['wname'])\n",
    "print list"
   ]
  },
  {
   "cell_type": "markdown",
   "metadata": {},
   "source": [
    "##Problem set #3: Sibling rivalries\n",
    "\n",
    "In the following problem set, you will yet again be working with the data in `widgets.html`. In order to accomplish the tasks in this problem set, you'll need to learn about Beautiful Soup's `.find_next_sibling()` method. Here's some information about that method, cribbed from the notes:\n",
    "\n",
    "Often, the tags we're looking for don't have a distinguishing characteristic, like a class attribute, that allows us to find them using `.find()` and `.find_all()`, and the tags also aren't in a parent-child relationship. This can be tricky! For example, take the following HTML snippet, (which I've assigned to a string called `example_html`):"
   ]
  },
  {
   "cell_type": "code",
   "execution_count": 32,
   "metadata": {
    "collapsed": false
   },
   "outputs": [],
   "source": [
    "example_html = \"\"\"\n",
    "<h2>Camembert</h2>\n",
    "<p>A soft cheese made in the Camembert region of France.</p>\n",
    "\n",
    "<h2>Cheddar</h2>\n",
    "<p>A yellow cheese made in the Cheddar region of... France, probably, idk whatevs.</p>\n",
    "\"\"\""
   ]
  },
  {
   "cell_type": "markdown",
   "metadata": {},
   "source": [
    "If our task was to create a dictionary that maps the name of the cheese to the description that follows in the `<p>` tag directly afterward, we'd be out of luck. Fortunately, Beautiful Soup has a `.find_next_sibling()` method, which allows us to search for the next tag that is a sibling of the tag you're calling it on (i.e., the two tags share a parent), that also matches particular criteria. So, for example, to accomplish the task outlined above:"
   ]
  },
  {
   "cell_type": "code",
   "execution_count": 33,
   "metadata": {
    "collapsed": false
   },
   "outputs": [
    {
     "data": {
      "text/plain": [
       "{u'Camembert': u'A soft cheese made in the Camembert region of France.',\n",
       " u'Cheddar': u'A yellow cheese made in the Cheddar region of... France, probably, idk whatevs.'}"
      ]
     },
     "execution_count": 33,
     "metadata": {},
     "output_type": "execute_result"
    }
   ],
   "source": [
    "example_doc = BeautifulSoup(example_html)\n",
    "cheese_dict = {}\n",
    "for h2_tag in example_doc.find_all('h2'):\n",
    "    cheese_name = h2_tag.string\n",
    "    cheese_desc_tag = h2_tag.find_next_sibling('p')\n",
    "    cheese_dict[cheese_name] = cheese_desc_tag.string\n",
    "\n",
    "cheese_dict"
   ]
  },
  {
   "cell_type": "markdown",
   "metadata": {},
   "source": [
    "With that knowledge in mind, let's go back to our widgets. In the cell below, write code that uses Beautiful Soup, and in particular the `.find_next_sibling()` method, to find out how many widgets are in the table *just beneath* the header \"Hallowed Widgets.\" (You can tell by looking at the page that there are four such widgets. But this is a programming class, so we have to write a program to do it.)"
   ]
  },
  {
   "cell_type": "code",
   "execution_count": 34,
   "metadata": {
    "collapsed": false
   },
   "outputs": [
    {
     "name": "stdout",
     "output_type": "stream",
     "text": [
      "4\n"
     ]
    }
   ],
   "source": [
    "h3_tags = document.find_all('h3')\n",
    "for h3_tag in h3_tags: \n",
    "    if h3_tag.string == \"Hallowed widgets\":\n",
    "        table_tags = h3.find_next_sibling('table')\n",
    "        #print table_tags\n",
    "        item_tags = table_tags.find_all('tr')\n",
    "        #print item_tags\n",
    "print len(item_tags)"
   ]
  },
  {
   "cell_type": "markdown",
   "metadata": {},
   "source": [
    "Okay, now, the final task. If you can accomplish this, you are truly an expert web scraper. I'll have little web scraper certificates made up and I'll give you one, if you manage to do this thing. And I know you can do it!\n",
    "\n",
    "In the cell below, I've created a variable `category_counts` and assigned to it an empty dictionary. Write code to populate this dictionary so that its keys are \"categories\" of widgets (e.g., the contents of the `<h3>` tags on the page: \"Forensic Widgets\", \"Mood widgets\", \"Hallowed Widgets\") and the value for each key is the number of widgets that occur in that category. I.e., after your code has been executed, the dictionary `category_counts` should look like this:\n",
    "\n",
    "    {u'Forensic Widgets': 3, u'Hallowed widgets': 4, u'Mood widgets': 2}\n"
   ]
  },
  {
   "cell_type": "code",
   "execution_count": 35,
   "metadata": {
    "collapsed": false
   },
   "outputs": [
    {
     "name": "stdout",
     "output_type": "stream",
     "text": [
      "{u'Forensic Widgets': 3, u'Mood widgets': 2, u'Hallowed widgets': 4}\n"
     ]
    }
   ],
   "source": [
    "category_counts  = {}\n",
    "h3_tags = document.find_all('h3')\n",
    "\n",
    "for h3_tag in h3_tags: \n",
    "    if h3_tag.string == \"Hallowed widgets\":\n",
    "        table_tags = h3_tag.find_next_sibling('table')\n",
    "        item_tags = table_tags.find_all('tr')\n",
    "        category_counts[u'Hallowed widgets']=len(item_tags)\n",
    "    elif h3_tag.string == \"Forensic Widgets\":\n",
    "        table_tags = h3_tag.find_next_sibling('table')\n",
    "        item_tags = table_tags.find_all('tr')\n",
    "        category_counts[u'Forensic Widgets']=len(item_tags) \n",
    "    elif h3_tag.string == \"Mood widgets\":\n",
    "        table_tags = h3_tag.find_next_sibling('table')\n",
    "        item_tags = table_tags.find_all('tr')\n",
    "        category_counts[u'Mood widgets']=len(item_tags)\n",
    "print category_counts"
   ]
  },
  {
   "cell_type": "markdown",
   "metadata": {},
   "source": [
    "Congratulations! You're done."
   ]
  },
  {
   "cell_type": "code",
   "execution_count": null,
   "metadata": {
    "collapsed": true
   },
   "outputs": [],
   "source": []
  },
  {
   "cell_type": "code",
   "execution_count": null,
   "metadata": {
    "collapsed": true
   },
   "outputs": [],
   "source": []
  }
 ],
 "metadata": {
  "kernelspec": {
   "display_name": "Python 2",
   "language": "python",
   "name": "python2"
  },
  "language_info": {
   "codemirror_mode": {
    "name": "ipython",
    "version": 2
   },
   "file_extension": ".py",
   "mimetype": "text/x-python",
   "name": "python",
   "nbconvert_exporter": "python",
   "pygments_lexer": "ipython2",
   "version": "2.7.5"
  }
 },
 "nbformat": 4,
 "nbformat_minor": 0
}
