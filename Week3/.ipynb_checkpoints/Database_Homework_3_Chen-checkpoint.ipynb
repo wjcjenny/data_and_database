{
 "cells": [
  {
   "cell_type": "markdown",
   "metadata": {},
   "source": [
    "#Homework assignment #3\n",
    "\n",
    "These problem sets focus on using the Beautiful Soup library to scrape web pages.\n",
    "\n",
    "##Problem Set #1: Basic scraping\n",
    "\n",
    "I've made a web page for you to scrape. It's available [here](http://static.decontextualize.com/widgets2015.html). The page concerns the catalog of a famous [widget](http://en.wikipedia.org/wiki/Widget) company. You'll be answering several questions about this web page. First off, in the cell below, write some code so that you end up with a variable called `html_str` that contains the HTML source code of the page."
   ]
  },
  {
   "cell_type": "code",
   "execution_count": 1,
   "metadata": {
    "collapsed": false
   },
   "outputs": [],
   "source": [
    "import urllib\n",
    "html_str = urllib.urlopen(\"http://static.decontextualize.com/widgets2015.html\").read()"
   ]
  },
  {
   "cell_type": "markdown",
   "metadata": {},
   "source": [
    "Now, in the cell below, use Beautiful Soup to write an expression that evaluates to the number of `<h3>` tags contained in `widgets.html`. I've added the Beautiful Soup import statement for you."
   ]
  },
  {
   "cell_type": "code",
   "execution_count": 2,
   "metadata": {
    "collapsed": false
   },
   "outputs": [
    {
     "data": {
      "text/plain": [
       "[u'Forensic Widgets', u'Mood widgets', u'Hallowed widgets']"
      ]
     },
     "execution_count": 2,
     "metadata": {},
     "output_type": "execute_result"
    }
   ],
   "source": [
    "from bs4 import BeautifulSoup\n",
    "\n",
    "document = BeautifulSoup(html_str)\n",
    "h3_tag = document.find_all('h3')\n",
    "h3_list = [h3.string for h3 in h3_tag] \n",
    "h3_list"
   ]
  },
  {
   "cell_type": "code",
   "execution_count": 13,
   "metadata": {
    "collapsed": false
   },
   "outputs": [
    {
     "data": {
      "text/plain": [
       "3"
      ]
     },
     "execution_count": 13,
     "metadata": {},
     "output_type": "execute_result"
    }
   ],
   "source": [
    "len(h3_list)"
   ]
  },
  {
   "cell_type": "markdown",
   "metadata": {},
   "source": [
    "Now, in the cell below, write an expression or series of statements that displays the telephone number beneath the \"Widget Catalog\" header."
   ]
  },
  {
   "cell_type": "code",
   "execution_count": 16,
   "metadata": {
    "collapsed": false
   },
   "outputs": [
    {
     "data": {
      "text/plain": [
       "u'212-555-9912'"
      ]
     },
     "execution_count": 16,
     "metadata": {},
     "output_type": "execute_result"
    }
   ],
   "source": [
    "telphone = document.find('span', attrs={'class': 'tel'})\n",
    "telphone.string"
   ]
  },
  {
   "cell_type": "markdown",
   "metadata": {},
   "source": [
    "In the cell below, use Beautiful Soup to write some code that creates a list of the names of all the widgets on the page. After your code has executed, `widget_names` should evaluate to a list that looks like this (though not necessarily in this order):\n",
    "\n",
    "    [u'Skinner Widget',\n",
    "     u'Widget For Furtiveness',\n",
    "     u'Widget For Strawman',\n",
    "     u'Manicurist Widget',\n",
    "     u'Infinite Widget',\n",
    "     u'Yellow-Tipped Widget',\n",
    "     u'Unshakable Widget',\n",
    "     u'Self-Knowledge Widget',\n",
    "     u'Widget For Cinema']"
   ]
  },
  {
   "cell_type": "code",
   "execution_count": 24,
   "metadata": {
    "collapsed": false
   },
   "outputs": [
    {
     "data": {
      "text/plain": [
       "[u'Skinner Widget',\n",
       " u'Widget For Furtiveness',\n",
       " u'Widget For Strawman',\n",
       " u'Manicurist Widget',\n",
       " u'Infinite Widget',\n",
       " u'Yellow-Tipped Widget',\n",
       " u'Unshakable Widget',\n",
       " u'Self-Knowledge Widget',\n",
       " u'Widget For Cinema']"
      ]
     },
     "execution_count": 24,
     "metadata": {},
     "output_type": "execute_result"
    }
   ],
   "source": [
    "b_tag = document.find_all('b')\n",
    "[b.string for b in b_tag]"
   ]
  },
  {
   "cell_type": "markdown",
   "metadata": {},
   "source": [
    "##Problem set #2: Widget dictionaries\n",
    "\n",
    "For this problem set, we'll continue to use the HTML page from the previous problem set. In the cell below, I've made an empty list and assigned it to a variable called `widgets`. Write code that populates this list with dictionaries, one dictionary per widget in the source file. The keys of each dictionary should be `partno`, `widgetname`, `price`, and `quantity`, and the value for each of the keys should be the value for the corresponding column for each row. After executing the cell, your list should look something like this:\n",
    "\n",
    "    [{'partno': u'C1-9476',\n",
    "      'price': u'$2.70',\n",
    "      'quantity': u'512',\n",
    "      'wname': u'Skinner Widget'},\n",
    "     {'partno': u'JDJ-32/V',\n",
    "      'price': u'$9.36',\n",
    "      'quantity': u'967',\n",
    "      'wname': u'Widget For Furtiveness'},\n",
    "      ...several items omitted...\n",
    "     {'partno': u'5B-941/F',\n",
    "      'price': u'$13.26',\n",
    "      'quantity': u'919',\n",
    "      'wname': u'Widget For Cinema'}]\n",
    "\n",
    "And this expression:\n",
    "\n",
    "    widgets[5]['partno']\n",
    "    \n",
    "... should evaluate to:\n",
    "\n",
    "    u'MZ-556/B'\n",
    "    \n",
    "(Hint: This could get a little messy! Each column in the table might need to be treated a bit differently to get the appropriate strings out.)"
   ]
  },
  {
   "cell_type": "markdown",
   "metadata": {},
   "source": [
    "```<tr> - <td> - <b>```"
   ]
  },
  {
   "cell_type": "code",
   "execution_count": 123,
   "metadata": {
    "collapsed": false
   },
   "outputs": [
    {
     "data": {
      "text/plain": [
       "u'MZ-556/B'"
      ]
     },
     "execution_count": 123,
     "metadata": {},
     "output_type": "execute_result"
    }
   ],
   "source": [
    "w = {}\n",
    "widgets = []\n",
    "\n",
    "html_str = urllib.urlopen(\"http://static.decontextualize.com/widgets2015.html\").read()\n",
    "document = BeautifulSoup(html_str)\n",
    "\n",
    "\n",
    "tr_tags = document.find_all('tr', attrs={'class': 'winfo'})\n",
    "for tags in tr_tags:\n",
    "    # partno\n",
    "    td_tags = tags.find_all('td', attrs={'class': 'partno'})\n",
    "    w['partno'] = [tag.string for tag in td_tags][0]\n",
    "    # wname\n",
    "    name_tags = tags.find_all('td', attrs={'class': 'wname'})\n",
    "    w['wname'] = [tag.string for tag in name_tags][0]\n",
    "    # price\n",
    "    price_tags = tags.find_all('td', attrs={'class': 'price'})\n",
    "    w['price'] = [tag.string for tag in price_tags][0]\n",
    "    # quantity\n",
    "    quantity_tags = tags.find_all('td', attrs={'class': 'quantity'})\n",
    "    w['quantity'] = [tag.string for tag in quantity_tags][0]\n",
    "    widgets.append(w.copy())\n",
    "    # http://stackoverflow.com/questions/23724136/appending-a-dictionary-to-a-list-in-a-a-loop-python\n",
    "    \n",
    "widgets[5]['partno']"
   ]
  },
  {
   "cell_type": "markdown",
   "metadata": {},
   "source": [
    "In the cell below, duplicate your code from the previous question. Modify the code to ensure that the values for `price` and `quantity` in each dictionary are floating-point numbers and integers, respectively. I.e., after executing the cell, your code should display something like this:\n",
    "\n",
    "    [{'partno': 'C1-9476',\n",
    "      'price': 2.7,\n",
    "      'quantity': 512,\n",
    "      'widgetname': 'Skinner Widget'},\n",
    "     {'partno': 'JDJ-32/V',\n",
    "      'price': 9.36,\n",
    "      'quantity': 967,\n",
    "      'widgetname': 'Widget For Furtiveness'},\n",
    "     ... some items omitted ...\n",
    "     {'partno': '5B-941/F',\n",
    "      'price': 13.26,\n",
    "      'quantity': 919,\n",
    "      'widgetname': 'Widget For Cinema'}]\n",
    "\n",
    "(Hint: Use the `float()` and `int()` functions. You may need to use string slices to convert the `price` field to a floating-point number.)"
   ]
  },
  {
   "cell_type": "code",
   "execution_count": 140,
   "metadata": {
    "collapsed": false
   },
   "outputs": [
    {
     "data": {
      "text/plain": [
       "[{'partno': u'C1-9476',\n",
       "  'price': 2.7,\n",
       "  'quantity': 512,\n",
       "  'wname': u'Skinner Widget'},\n",
       " {'partno': u'JDJ-32/V',\n",
       "  'price': 9.36,\n",
       "  'quantity': 967,\n",
       "  'wname': u'Widget For Furtiveness'},\n",
       " {'partno': u'YP4-325/J',\n",
       "  'price': 5.17,\n",
       "  'quantity': 787,\n",
       "  'wname': u'Widget For Strawman'},\n",
       " {'partno': u'VK-486',\n",
       "  'price': 8.97,\n",
       "  'quantity': 441,\n",
       "  'wname': u'Manicurist Widget'},\n",
       " {'partno': u'R4K-990',\n",
       "  'price': 11.73,\n",
       "  'quantity': 320,\n",
       "  'wname': u'Infinite Widget'},\n",
       " {'partno': u'MZ-556/B',\n",
       "  'price': 2.35,\n",
       "  'quantity': 948,\n",
       "  'wname': u'Yellow-Tipped Widget'},\n",
       " {'partno': u'QV-730',\n",
       "  'price': 3.76,\n",
       "  'quantity': 59,\n",
       "  'wname': u'Unshakable Widget'},\n",
       " {'partno': u'T1-9731',\n",
       "  'price': 7.11,\n",
       "  'quantity': 790,\n",
       "  'wname': u'Self-Knowledge Widget'},\n",
       " {'partno': u'5B-941/F',\n",
       "  'price': 13.26,\n",
       "  'quantity': 919,\n",
       "  'wname': u'Widget For Cinema'}]"
      ]
     },
     "execution_count": 140,
     "metadata": {},
     "output_type": "execute_result"
    }
   ],
   "source": [
    "w = {}\n",
    "widgets = []\n",
    "\n",
    "html_str = urllib.urlopen(\"http://static.decontextualize.com/widgets2015.html\").read()\n",
    "document = BeautifulSoup(html_str)\n",
    "\n",
    "tr_tags = document.find_all('tr', attrs={'class': 'winfo'})\n",
    "for tags in tr_tags:\n",
    "    # partno\n",
    "    td_tags = tags.find_all('td', attrs={'class': 'partno'})\n",
    "    w['partno'] = [tag.string for tag in td_tags][0]\n",
    "    # wname\n",
    "    name_tags = tags.find_all('td', attrs={'class': 'wname'})\n",
    "    w['wname'] = [tag.string for tag in name_tags][0]\n",
    "    # price\n",
    "    price_tags = tags.find_all('td', attrs={'class': 'price'})\n",
    "    ppp = [tag.string.split('$')[1] for tag in price_tags][0]\n",
    "    w['price'] = float(ppp)\n",
    "    # quantity\n",
    "    quantity_tags = tags.find_all('td', attrs={'class': 'quantity'})\n",
    "    w['quantity'] = [int(tag.string) for tag in quantity_tags][0]\n",
    "    widgets.append(w.copy())\n",
    "    # http://stackoverflow.com/questions/23724136/appending-a-dictionary-to-a-list-in-a-a-loop-python\n",
    "widgets  "
   ]
  },
  {
   "cell_type": "markdown",
   "metadata": {},
   "source": [
    "Great! I hope you're having fun. In the cell below, write an expression that uses the `widgets` list created in the cell above to calculate the total number of widgets that the factory has in its warehouse.\n",
    "\n",
    "Expected output: `5743`"
   ]
  },
  {
   "cell_type": "code",
   "execution_count": 145,
   "metadata": {
    "collapsed": false
   },
   "outputs": [
    {
     "data": {
      "text/plain": [
       "5743"
      ]
     },
     "execution_count": 145,
     "metadata": {},
     "output_type": "execute_result"
    }
   ],
   "source": [
    "total= []\n",
    "for i in range(len(widgets)):\n",
    "    total.append(widgets[i]['quantity'])\n",
    "sum(total)"
   ]
  },
  {
   "cell_type": "markdown",
   "metadata": {},
   "source": [
    "In the cell below, write an expression (or series of expressions) that evaluates to a list the names of widgets containing only those widgets whose price is above $9.30.\n",
    "\n",
    "Expected output: `[u'Widget For Furtiveness', u'Infinite Widget', u'Widget For Cinema']`"
   ]
  },
  {
   "cell_type": "code",
   "execution_count": 156,
   "metadata": {
    "collapsed": false
   },
   "outputs": [
    {
     "name": "stdout",
     "output_type": "stream",
     "text": [
      "[u'Widget For Furtiveness', u'Infinite Widget', u'Widget For Cinema']\n"
     ]
    }
   ],
   "source": [
    "price_above = []\n",
    "for i in range(len(widgets)):\n",
    "    if widgets[i]['price'] > 9.30:\n",
    "        price_above.append(widgets[i]['wname'])\n",
    "print price_above"
   ]
  },
  {
   "cell_type": "markdown",
   "metadata": {},
   "source": [
    "##Problem set #3: Sibling rivalries\n",
    "\n",
    "In the following problem set, you will yet again be working with the data in `widgets.html`. In order to accomplish the tasks in this problem set, you'll need to learn about Beautiful Soup's `.find_next_sibling()` method. Here's some information about that method, cribbed from the notes:\n",
    "\n",
    "Often, the tags we're looking for don't have a distinguishing characteristic, like a class attribute, that allows us to find them using `.find()` and `.find_all()`, and the tags also aren't in a parent-child relationship. This can be tricky! For example, take the following HTML snippet, (which I've assigned to a string called `example_html`):"
   ]
  },
  {
   "cell_type": "code",
   "execution_count": 8,
   "metadata": {
    "collapsed": false
   },
   "outputs": [],
   "source": [
    "example_html = \"\"\"\n",
    "<h2>Camembert</h2>\n",
    "<p>A soft cheese made in the Camembert region of France.</p>\n",
    "\n",
    "<h2>Cheddar</h2>\n",
    "<p>A yellow cheese made in the Cheddar region of... France, probably, idk whatevs.</p>\n",
    "\"\"\""
   ]
  },
  {
   "cell_type": "markdown",
   "metadata": {},
   "source": [
    "If our task was to create a dictionary that maps the name of the cheese to the description that follows in the `<p>` tag directly afterward, we'd be out of luck. Fortunately, Beautiful Soup has a `.find_next_sibling()` method, which allows us to search for the next tag that is a sibling of the tag you're calling it on (i.e., the two tags share a parent), that also matches particular criteria. So, for example, to accomplish the task outlined above:"
   ]
  },
  {
   "cell_type": "code",
   "execution_count": 9,
   "metadata": {
    "collapsed": false
   },
   "outputs": [
    {
     "data": {
      "text/plain": [
       "{u'Camembert': u'A soft cheese made in the Camembert region of France.',\n",
       " u'Cheddar': u'A yellow cheese made in the Cheddar region of... France, probably, idk whatevs.'}"
      ]
     },
     "execution_count": 9,
     "metadata": {},
     "output_type": "execute_result"
    }
   ],
   "source": [
    "example_doc = BeautifulSoup(example_html)\n",
    "cheese_dict = {}\n",
    "for h2_tag in example_doc.find_all('h2'):\n",
    "    cheese_name = h2_tag.string\n",
    "    cheese_desc_tag = h2_tag.find_next_sibling('p')\n",
    "    cheese_dict[cheese_name] = cheese_desc_tag.string\n",
    "\n",
    "cheese_dict"
   ]
  },
  {
   "cell_type": "markdown",
   "metadata": {},
   "source": [
    "With that knowledge in mind, let's go back to our widgets. In the cell below, write code that uses Beautiful Soup, and in particular the `.find_next_sibling()` method, to find out how many widgets are in the table *just beneath* the header \"Hallowed Widgets.\" (You can tell by looking at the page that there are four such widgets. But this is a programming class, so we have to write a program to do it.)"
   ]
  },
  {
   "cell_type": "code",
   "execution_count": 179,
   "metadata": {
    "collapsed": false
   },
   "outputs": [
    {
     "name": "stdout",
     "output_type": "stream",
     "text": [
      "4\n"
     ]
    }
   ],
   "source": [
    "h3_tags = document.find_all('h3')\n",
    "\n",
    "for h3 in h3_tags: \n",
    "    if h3.string == \"Hallowed widgets\":\n",
    "        table_tags = h3.find_next_sibling('table', attrs={'class': 'widgetlist'})\n",
    "        #print table_tags\n",
    "        item_tags = table_tags.find_all('tr', attrs={'class': 'winfo'})\n",
    "        print len(item_tags)"
   ]
  },
  {
   "cell_type": "markdown",
   "metadata": {},
   "source": [
    "Okay, now, the final task. If you can accomplish this, you are truly an expert web scraper. I'll have little web scraper certificates made up and I'll give you one, if you manage to do this thing. And I know you can do it!\n",
    "\n",
    "In the cell below, I've created a variable `category_counts` and assigned to it an empty dictionary. Write code to populate this dictionary so that its keys are \"categories\" of widgets (e.g., the contents of the `<h3>` tags on the page: \"Forensic Widgets\", \"Mood widgets\", \"Hallowed Widgets\") and the value for each key is the number of widgets that occur in that category. I.e., after your code has been executed, the dictionary `category_counts` should look like this:\n",
    "\n",
    "    {u'Forensic Widgets': 3, u'Hallowed widgets': 4, u'Mood widgets': 2}\n"
   ]
  },
  {
   "cell_type": "code",
   "execution_count": 185,
   "metadata": {
    "collapsed": false
   },
   "outputs": [
    {
     "data": {
      "text/plain": [
       "{u'Forensic Widgets': 3, u'Hallowed widgets': 4, u'Mood widgets': 2}"
      ]
     },
     "execution_count": 185,
     "metadata": {},
     "output_type": "execute_result"
    }
   ],
   "source": [
    "category_counts  = {}\n",
    "    \n",
    "h3_tags = document.find_all('h3')\n",
    "\n",
    "for h3 in h3_tags: \n",
    "    if h3.string == \"Hallowed widgets\":\n",
    "        table_tags = h3.find_next_sibling('table', attrs={'class': 'widgetlist'})\n",
    "        #print table_tags\n",
    "        item_tags = table_tags.find_all('tr', attrs={'class': 'winfo'})\n",
    "        category_counts[u'Hallowed widgets']=len(item_tags)\n",
    "    elif h3.string == \"Forensic Widgets\":\n",
    "        table_tags = h3.find_next_sibling('table', attrs={'class': 'widgetlist'})\n",
    "        #print table_tags\n",
    "        item_tags = table_tags.find_all('tr', attrs={'class': 'winfo'})\n",
    "        category_counts[u'Forensic Widgets']=len(item_tags) \n",
    "    elif h3.string == \"Mood widgets\":\n",
    "        table_tags = h3.find_next_sibling('table', attrs={'class': 'widgetlist'})\n",
    "        #print table_tags\n",
    "        item_tags = table_tags.find_all('tr', attrs={'class': 'winfo'})\n",
    "        category_counts[u'Mood widgets']=len(item_tags)\n",
    "        \n",
    "category_counts"
   ]
  },
  {
   "cell_type": "markdown",
   "metadata": {},
   "source": [
    "Congratulations! You're done."
   ]
  }
 ],
 "metadata": {
  "kernelspec": {
   "display_name": "Python 2",
   "language": "python",
   "name": "python2"
  },
  "language_info": {
   "codemirror_mode": {
    "name": "ipython",
    "version": 2
   },
   "file_extension": ".py",
   "mimetype": "text/x-python",
   "name": "python",
   "nbconvert_exporter": "python",
   "pygments_lexer": "ipython2",
   "version": "2.7.10"
  }
 },
 "nbformat": 4,
 "nbformat_minor": 0
}
