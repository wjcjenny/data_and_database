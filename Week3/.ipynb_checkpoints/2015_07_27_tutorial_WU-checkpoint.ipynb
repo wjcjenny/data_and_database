{
 "cells": [
  {
   "cell_type": "markdown",
   "metadata": {},
   "source": [
    "###Getting data from markup languages (HTML)"
   ]
  },
  {
   "cell_type": "code",
   "execution_count": 3,
   "metadata": {
    "collapsed": false
   },
   "outputs": [
    {
     "name": "stdout",
     "output_type": "stream",
     "text": [
      "<!doctype html>\n",
      "<html>\n",
      "\t<head>\n",
      "\t\t<title>Kittens!</title>\n",
      "\t\t<style type=\"text/css\">\n",
      "\t\t\tspan.lastcheckup { font-family: \"Courier\", fixed; font-size: 11px; }\n",
      "\t\t</style>\n",
      "\t</head>\n",
      "\t<body>\n",
      "\t\t<h1>Kittens and the TV Shows They Love</h1>\n",
      "\t\t<div class=\"kitten\">\n",
      "\t\t\t<h2>Fluffy</h2>\n",
      "\t\t\t<div><img src=\"http://placekitten.com/120/120\"></div>\n",
      "\t\t\t<ul class=\"tvshows\">\n",
      "\t\t\t\t<li>\n",
      "\t\t\t\t\t<a href=\"http://www.imdb.com/title/tt0106145/\">Deep Space Nine</a>\n",
      "\t\t\t\t</li>\n",
      "\t\t\t\t<li>\n",
      "\t\t\t\t\t<a href=\"http://www.imdb.com/title/tt0088576/\">Mr. Belvedere</a>\n",
      "\t\t\t\t</li>\n",
      "\t\t\t</ul>\n",
      "\t\t\tLast check-up: <span class=\"lastcheckup\">2014-01-17</span>\n",
      "\t\t</div>\n",
      "\t\t<div class=\"kitten\">\n",
      "\t\t\t<h2>Monsieur Whiskeurs</h2>\n",
      "\t\t\t<div><img src=\"http://placekitten.com/110/110\"></div>\n",
      "\t\t\t<ul class=\"tvshows\">\n",
      "\t\t\t\t<li>\n",
      "\t\t\t\t\t<a href=\"http://www.imdb.com/title/tt0106179/\">The X-Files</a>\n",
      "\t\t\t\t</li>\n",
      "\t\t\t\t<li>\n",
      "\t\t\t\t\t<a href=\"http://www.imdb.com/title/tt0098800/\">Fresh Prince</a>\n",
      "\t\t\t\t</li>\n",
      "\t\t\t</ul>\n",
      "\t\t\tLast check-up: <span class=\"lastcheckup\">2013-11-02</span>\n",
      "\t\t</div>\n",
      "\t</body>\n",
      "</html>\n",
      "\n",
      "\n"
     ]
    }
   ],
   "source": [
    "import urllib\n",
    "url = \"http://static.decontextualize.com/kittens.html\"\n",
    "html_str = urllib.urlopen(url).read()\n",
    "print html_str"
   ]
  },
  {
   "cell_type": "code",
   "execution_count": 6,
   "metadata": {
    "collapsed": false
   },
   "outputs": [
    {
     "name": "stdout",
     "output_type": "stream",
     "text": [
      "<class 'bs4.BeautifulSoup'>\n"
     ]
    }
   ],
   "source": [
    "import bs4\n",
    "from bs4 import BeautifulSoup\n",
    "document = BeautifulSoup(html_str)\n",
    "print type(document)"
   ]
  },
  {
   "cell_type": "markdown",
   "metadata": {},
   "source": [
    "##Finding an individual tag"
   ]
  },
  {
   "cell_type": "code",
   "execution_count": 10,
   "metadata": {
    "collapsed": false
   },
   "outputs": [
    {
     "name": "stdout",
     "output_type": "stream",
     "text": [
      "<class 'bs4.element.Tag'>\n"
     ]
    }
   ],
   "source": [
    "h1_tag = document.find('h1')\n",
    "print type(h1_tag)"
   ]
  },
  {
   "cell_type": "code",
   "execution_count": 11,
   "metadata": {
    "collapsed": false
   },
   "outputs": [
    {
     "data": {
      "text/plain": [
       "u'Kittens and the TV Shows They Love'"
      ]
     },
     "execution_count": 11,
     "metadata": {},
     "output_type": "execute_result"
    }
   ],
   "source": [
    "h1_tag.string"
   ]
  },
  {
   "cell_type": "code",
   "execution_count": 12,
   "metadata": {
    "collapsed": false
   },
   "outputs": [
    {
     "data": {
      "text/plain": [
       "u'Kittens and the TV Shows They Love'"
      ]
     },
     "execution_count": 12,
     "metadata": {},
     "output_type": "execute_result"
    }
   ],
   "source": [
    "h1_tag.getText() #also works for som reason??"
   ]
  },
  {
   "cell_type": "markdown",
   "metadata": {},
   "source": [
    "##Finding multiple tags"
   ]
  },
  {
   "cell_type": "code",
   "execution_count": 17,
   "metadata": {
    "collapsed": false
   },
   "outputs": [
    {
     "name": "stdout",
     "output_type": "stream",
     "text": [
      "http://placekitten.com/120/120\n",
      "http://placekitten.com/110/110\n"
     ]
    }
   ],
   "source": [
    "img_tags = document.find_all('img')\n",
    "for tag in img_tags:\n",
    "    print tag['src']"
   ]
  },
  {
   "cell_type": "code",
   "execution_count": null,
   "metadata": {
    "collapsed": true
   },
   "outputs": [],
   "source": [
    "h2_tags = document.find_all()"
   ]
  },
  {
   "cell_type": "code",
   "execution_count": 20,
   "metadata": {
    "collapsed": false
   },
   "outputs": [
    {
     "data": {
      "text/plain": [
       "[u'2014-01-17', u'2013-11-02']"
      ]
     },
     "execution_count": 20,
     "metadata": {},
     "output_type": "execute_result"
    }
   ],
   "source": [
    "checkup_tags = document.find_all('span', attrs={'class': 'lastcheckup'})\n",
    "[tag.string for tag in checkup_tags]"
   ]
  },
  {
   "cell_type": "markdown",
   "metadata": {},
   "source": [
    "##Finding tags within tags"
   ]
  },
  {
   "cell_type": "code",
   "execution_count": 21,
   "metadata": {
    "collapsed": false
   },
   "outputs": [
    {
     "ename": "NameError",
     "evalue": "name 'a_tags' is not defined",
     "output_type": "error",
     "traceback": [
      "\u001b[0;31m---------------------------------------------------------------------------\u001b[0m",
      "\u001b[0;31mNameError\u001b[0m                                 Traceback (most recent call last)",
      "\u001b[0;32m<ipython-input-21-a306eb021101>\u001b[0m in \u001b[0;36m<module>\u001b[0;34m()\u001b[0m\n\u001b[0;32m----> 1\u001b[0;31m \u001b[0;32mfor\u001b[0m \u001b[0mtag\u001b[0m \u001b[0;32min\u001b[0m \u001b[0ma_tags\u001b[0m\u001b[0;34m:\u001b[0m\u001b[0;34m\u001b[0m\u001b[0m\n\u001b[0m\u001b[1;32m      2\u001b[0m     \u001b[0;32mprint\u001b[0m \u001b[0mtag_string\u001b[0m\u001b[0;34m\u001b[0m\u001b[0m\n",
      "\u001b[0;31mNameError\u001b[0m: name 'a_tags' is not defined"
     ]
    }
   ],
   "source": [
    "for tag in a_tags:\n",
    "    print tag_string"
   ]
  },
  {
   "cell_type": "code",
   "execution_count": 32,
   "metadata": {
    "collapsed": false
   },
   "outputs": [
    {
     "name": "stdout",
     "output_type": "stream",
     "text": [
      "kitten name: Fluffy\n",
      "kitten name: Monsieur Whiskeurs\n"
     ]
    }
   ],
   "source": [
    "kitten_tags = document.find_all('div', attrs = {'class':'kitten'})\n",
    "\n",
    "for tag in kitten_tags:\n",
    "# find kitty's name (in h2), a child of div \n",
    "    h2_tag = tag.find('h2')\n",
    "    print \"kitten name:\", h2_tag.string \n",
    "    tvshow_tags = document.find_all('a')\n",
    "#     for tvshow in tvshow_tags:\n",
    "#         print tvshow.string"
   ]
  },
  {
   "cell_type": "code",
   "execution_count": 33,
   "metadata": {
    "collapsed": true
   },
   "outputs": [],
   "source": [
    "## Finding siblings"
   ]
  },
  {
   "cell_type": "code",
   "execution_count": null,
   "metadata": {
    "collapsed": true
   },
   "outputs": [],
   "source": [
    "cheese_html = \"\"\"\n"
   ]
  }
 ],
 "metadata": {
  "kernelspec": {
   "display_name": "Python 2",
   "language": "python",
   "name": "python2"
  },
  "language_info": {
   "codemirror_mode": {
    "name": "ipython",
    "version": 2
   },
   "file_extension": ".py",
   "mimetype": "text/x-python",
   "name": "python",
   "nbconvert_exporter": "python",
   "pygments_lexer": "ipython2",
   "version": "2.7.10"
  }
 },
 "nbformat": 4,
 "nbformat_minor": 0
}
